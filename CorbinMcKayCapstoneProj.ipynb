{
  "cells": [
    {
      "cell_type": "markdown",
      "metadata": {
        "id": "51IdozfNmzzY"
      },
      "source": [
        "# **Capstone Project: Natural Language Processing with Disaster Tweets**\n",
        "\n",
        "\n",
        "##Corbin McKay\n",
        "\n"
      ]
    },
    {
      "cell_type": "code",
      "execution_count": null,
      "metadata": {
        "colab": {
          "base_uri": "https://localhost:8080/"
        },
        "id": "ppRzXYrWm5pO",
        "outputId": "8fd67d61-2e67-438f-ac54-14fd0b7b8cd1"
      },
      "outputs": [
        {
          "output_type": "stream",
          "name": "stdout",
          "text": [
            "Colab only includes TensorFlow 2.x; %tensorflow_version has no effect.\n"
          ]
        }
      ],
      "source": [
        "# Python ≥3.5 is required\n",
        "import sys\n",
        "assert sys.version_info >= (3, 5)\n",
        "\n",
        "# Scikit-Learn ≥0.20 is required\n",
        "import sklearn\n",
        "assert sklearn.__version__ >= \"0.20\"\n",
        "\n",
        "try:\n",
        "    # %tensorflow_version only exists in Colab.\n",
        "    %tensorflow_version 2.x\n",
        "except Exception:\n",
        "    pass\n",
        "\n",
        "# TensorFlow ≥2.0 is required\n",
        "import tensorflow as tf\n",
        "assert tf.__version__ >= \"2.0\"\n",
        "\n",
        "# imports\n",
        "import numpy as np\n",
        "import os\n",
        "import pandas as pd\n",
        "import matplotlib.pyplot as plt\n",
        "import seaborn as sb\n",
        "import tensorflow as tf\n",
        "from tensorflow import keras\n",
        "from tensorflow.keras.preprocessing.text import Tokenizer\n",
        "from tensorflow.keras.preprocessing.sequence import pad_sequences\n",
        "from sklearn.model_selection import train_test_split\n",
        "from sklearn.preprocessing import StandardScaler\n",
        "from sklearn.metrics import confusion_matrix\n",
        "\n",
        "# to make this notebook's output stable across runs\n",
        "np.random.seed(42)\n",
        "tf.random.set_seed(42)\n",
        "\n",
        "# To plot pretty figures\n",
        "%matplotlib inline\n",
        "import matplotlib as mpl\n",
        "import matplotlib.pyplot as plt\n",
        "mpl.rc('axes', labelsize=14)\n",
        "mpl.rc('xtick', labelsize=12)\n",
        "mpl.rc('ytick', labelsize=12)\n",
        "\n",
        "# Where to save the figures\n",
        "PROJECT_ROOT_DIR = \".\"\n",
        "CHAPTER_ID = \"ann\"\n",
        "IMAGES_PATH = os.path.join(PROJECT_ROOT_DIR, \"images\", CHAPTER_ID)\n",
        "os.makedirs(IMAGES_PATH, exist_ok=True)\n",
        "\n",
        "def save_fig(fig_id, tight_layout=True, fig_extension=\"png\", resolution=300):\n",
        "    path = os.path.join(IMAGES_PATH, fig_id + \".\" + fig_extension)\n",
        "    print(\"Saving figure\", fig_id)\n",
        "    if tight_layout:\n",
        "        plt.tight_layout()\n",
        "    plt.savefig(path, format=fig_extension, dpi=resolution)\n",
        "\n",
        "# Ignore useless warnings (see SciPy issue #5998)\n",
        "import warnings\n",
        "warnings.filterwarnings(action=\"ignore\", message=\"^internal gelsd\")"
      ]
    },
    {
      "cell_type": "markdown",
      "metadata": {
        "id": "AeWM49oGqZZ4"
      },
      "source": [
        "###**About the dataset:**"
      ]
    },
    {
      "cell_type": "markdown",
      "metadata": {
        "id": "chXlOCwkqfSK"
      },
      "source": [
        "- This dataset contains over 7,000 tweets (posts) that were hand classified (binary classification for disaster or not disaster)\n",
        "- Objective: Using natural language processing, predict whether a tweet is announcing a disaster.\n",
        "- The value 0 in the target label represents non disaster tweets, and the value 1 represents disaster tweets\n",
        "- Reasoning: Smart phones and social media have enabled people to announce an emergency they are observing in real-time. Being able to classify posts announcing emergencies can be of interest for News Agencies and Disaster Relief Organizations.\n"
      ]
    },
    {
      "cell_type": "markdown",
      "source": [
        "Natural Language Processing(NLP) is a field of machine learning that aims to give machines the ability to interpret human language.\n",
        "\n",
        "Sentiment Analysis is an approach to NLP that identifies the emotional tone behind a sequence of texts.\n",
        "\n",
        "Since this dataset uses sequential data I will use RNNs\n",
        "\n",
        "The dataset contains long sequences, so LSTM and GRU cells will be needed to tackle short-term memory issues."
      ],
      "metadata": {
        "id": "jYGCCdXGwHMC"
      }
    },
    {
      "cell_type": "markdown",
      "metadata": {
        "id": "liLhnpahxQmZ"
      },
      "source": [
        "###**Loading the Dataset:**\n"
      ]
    },
    {
      "cell_type": "code",
      "execution_count": null,
      "metadata": {
        "colab": {
          "base_uri": "https://localhost:8080/",
          "height": 73
        },
        "id": "gv6amGDFuOvd",
        "outputId": "714488a5-18c4-4896-993f-51b3899c74b4"
      },
      "outputs": [
        {
          "output_type": "display_data",
          "data": {
            "text/plain": [
              "<IPython.core.display.HTML object>"
            ],
            "text/html": [
              "\n",
              "     <input type=\"file\" id=\"files-0a7d7eec-807a-4c16-9694-fa0816492bd5\" name=\"files[]\" multiple disabled\n",
              "        style=\"border:none\" />\n",
              "     <output id=\"result-0a7d7eec-807a-4c16-9694-fa0816492bd5\">\n",
              "      Upload widget is only available when the cell has been executed in the\n",
              "      current browser session. Please rerun this cell to enable.\n",
              "      </output>\n",
              "      <script>// Copyright 2017 Google LLC\n",
              "//\n",
              "// Licensed under the Apache License, Version 2.0 (the \"License\");\n",
              "// you may not use this file except in compliance with the License.\n",
              "// You may obtain a copy of the License at\n",
              "//\n",
              "//      http://www.apache.org/licenses/LICENSE-2.0\n",
              "//\n",
              "// Unless required by applicable law or agreed to in writing, software\n",
              "// distributed under the License is distributed on an \"AS IS\" BASIS,\n",
              "// WITHOUT WARRANTIES OR CONDITIONS OF ANY KIND, either express or implied.\n",
              "// See the License for the specific language governing permissions and\n",
              "// limitations under the License.\n",
              "\n",
              "/**\n",
              " * @fileoverview Helpers for google.colab Python module.\n",
              " */\n",
              "(function(scope) {\n",
              "function span(text, styleAttributes = {}) {\n",
              "  const element = document.createElement('span');\n",
              "  element.textContent = text;\n",
              "  for (const key of Object.keys(styleAttributes)) {\n",
              "    element.style[key] = styleAttributes[key];\n",
              "  }\n",
              "  return element;\n",
              "}\n",
              "\n",
              "// Max number of bytes which will be uploaded at a time.\n",
              "const MAX_PAYLOAD_SIZE = 100 * 1024;\n",
              "\n",
              "function _uploadFiles(inputId, outputId) {\n",
              "  const steps = uploadFilesStep(inputId, outputId);\n",
              "  const outputElement = document.getElementById(outputId);\n",
              "  // Cache steps on the outputElement to make it available for the next call\n",
              "  // to uploadFilesContinue from Python.\n",
              "  outputElement.steps = steps;\n",
              "\n",
              "  return _uploadFilesContinue(outputId);\n",
              "}\n",
              "\n",
              "// This is roughly an async generator (not supported in the browser yet),\n",
              "// where there are multiple asynchronous steps and the Python side is going\n",
              "// to poll for completion of each step.\n",
              "// This uses a Promise to block the python side on completion of each step,\n",
              "// then passes the result of the previous step as the input to the next step.\n",
              "function _uploadFilesContinue(outputId) {\n",
              "  const outputElement = document.getElementById(outputId);\n",
              "  const steps = outputElement.steps;\n",
              "\n",
              "  const next = steps.next(outputElement.lastPromiseValue);\n",
              "  return Promise.resolve(next.value.promise).then((value) => {\n",
              "    // Cache the last promise value to make it available to the next\n",
              "    // step of the generator.\n",
              "    outputElement.lastPromiseValue = value;\n",
              "    return next.value.response;\n",
              "  });\n",
              "}\n",
              "\n",
              "/**\n",
              " * Generator function which is called between each async step of the upload\n",
              " * process.\n",
              " * @param {string} inputId Element ID of the input file picker element.\n",
              " * @param {string} outputId Element ID of the output display.\n",
              " * @return {!Iterable<!Object>} Iterable of next steps.\n",
              " */\n",
              "function* uploadFilesStep(inputId, outputId) {\n",
              "  const inputElement = document.getElementById(inputId);\n",
              "  inputElement.disabled = false;\n",
              "\n",
              "  const outputElement = document.getElementById(outputId);\n",
              "  outputElement.innerHTML = '';\n",
              "\n",
              "  const pickedPromise = new Promise((resolve) => {\n",
              "    inputElement.addEventListener('change', (e) => {\n",
              "      resolve(e.target.files);\n",
              "    });\n",
              "  });\n",
              "\n",
              "  const cancel = document.createElement('button');\n",
              "  inputElement.parentElement.appendChild(cancel);\n",
              "  cancel.textContent = 'Cancel upload';\n",
              "  const cancelPromise = new Promise((resolve) => {\n",
              "    cancel.onclick = () => {\n",
              "      resolve(null);\n",
              "    };\n",
              "  });\n",
              "\n",
              "  // Wait for the user to pick the files.\n",
              "  const files = yield {\n",
              "    promise: Promise.race([pickedPromise, cancelPromise]),\n",
              "    response: {\n",
              "      action: 'starting',\n",
              "    }\n",
              "  };\n",
              "\n",
              "  cancel.remove();\n",
              "\n",
              "  // Disable the input element since further picks are not allowed.\n",
              "  inputElement.disabled = true;\n",
              "\n",
              "  if (!files) {\n",
              "    return {\n",
              "      response: {\n",
              "        action: 'complete',\n",
              "      }\n",
              "    };\n",
              "  }\n",
              "\n",
              "  for (const file of files) {\n",
              "    const li = document.createElement('li');\n",
              "    li.append(span(file.name, {fontWeight: 'bold'}));\n",
              "    li.append(span(\n",
              "        `(${file.type || 'n/a'}) - ${file.size} bytes, ` +\n",
              "        `last modified: ${\n",
              "            file.lastModifiedDate ? file.lastModifiedDate.toLocaleDateString() :\n",
              "                                    'n/a'} - `));\n",
              "    const percent = span('0% done');\n",
              "    li.appendChild(percent);\n",
              "\n",
              "    outputElement.appendChild(li);\n",
              "\n",
              "    const fileDataPromise = new Promise((resolve) => {\n",
              "      const reader = new FileReader();\n",
              "      reader.onload = (e) => {\n",
              "        resolve(e.target.result);\n",
              "      };\n",
              "      reader.readAsArrayBuffer(file);\n",
              "    });\n",
              "    // Wait for the data to be ready.\n",
              "    let fileData = yield {\n",
              "      promise: fileDataPromise,\n",
              "      response: {\n",
              "        action: 'continue',\n",
              "      }\n",
              "    };\n",
              "\n",
              "    // Use a chunked sending to avoid message size limits. See b/62115660.\n",
              "    let position = 0;\n",
              "    do {\n",
              "      const length = Math.min(fileData.byteLength - position, MAX_PAYLOAD_SIZE);\n",
              "      const chunk = new Uint8Array(fileData, position, length);\n",
              "      position += length;\n",
              "\n",
              "      const base64 = btoa(String.fromCharCode.apply(null, chunk));\n",
              "      yield {\n",
              "        response: {\n",
              "          action: 'append',\n",
              "          file: file.name,\n",
              "          data: base64,\n",
              "        },\n",
              "      };\n",
              "\n",
              "      let percentDone = fileData.byteLength === 0 ?\n",
              "          100 :\n",
              "          Math.round((position / fileData.byteLength) * 100);\n",
              "      percent.textContent = `${percentDone}% done`;\n",
              "\n",
              "    } while (position < fileData.byteLength);\n",
              "  }\n",
              "\n",
              "  // All done.\n",
              "  yield {\n",
              "    response: {\n",
              "      action: 'complete',\n",
              "    }\n",
              "  };\n",
              "}\n",
              "\n",
              "scope.google = scope.google || {};\n",
              "scope.google.colab = scope.google.colab || {};\n",
              "scope.google.colab._files = {\n",
              "  _uploadFiles,\n",
              "  _uploadFilesContinue,\n",
              "};\n",
              "})(self);\n",
              "</script> "
            ]
          },
          "metadata": {}
        },
        {
          "output_type": "stream",
          "name": "stdout",
          "text": [
            "Saving train.csv to train.csv\n"
          ]
        }
      ],
      "source": [
        "from google.colab import files\n",
        "uploaded = files.upload()\n",
        "\n",
        "# dataset link - https://www.kaggle.com/competitions/nlp-getting-started/overview\n",
        "data = pd.read_csv('train.csv')"
      ]
    },
    {
      "cell_type": "code",
      "execution_count": null,
      "metadata": {
        "colab": {
          "base_uri": "https://localhost:8080/",
          "height": 206
        },
        "id": "aHwiVVTkF7cQ",
        "outputId": "0b0237d5-1fe5-451e-9c29-6a4a16c35547"
      },
      "outputs": [
        {
          "data": {
            "text/html": [
              "\n",
              "  <div id=\"df-d4dda3d8-2452-4205-9ead-680c639f3d77\">\n",
              "    <div class=\"colab-df-container\">\n",
              "      <div>\n",
              "<style scoped>\n",
              "    .dataframe tbody tr th:only-of-type {\n",
              "        vertical-align: middle;\n",
              "    }\n",
              "\n",
              "    .dataframe tbody tr th {\n",
              "        vertical-align: top;\n",
              "    }\n",
              "\n",
              "    .dataframe thead th {\n",
              "        text-align: right;\n",
              "    }\n",
              "</style>\n",
              "<table border=\"1\" class=\"dataframe\">\n",
              "  <thead>\n",
              "    <tr style=\"text-align: right;\">\n",
              "      <th></th>\n",
              "      <th>id</th>\n",
              "      <th>keyword</th>\n",
              "      <th>location</th>\n",
              "      <th>text</th>\n",
              "      <th>target</th>\n",
              "    </tr>\n",
              "  </thead>\n",
              "  <tbody>\n",
              "    <tr>\n",
              "      <th>0</th>\n",
              "      <td>1</td>\n",
              "      <td>NaN</td>\n",
              "      <td>NaN</td>\n",
              "      <td>Our Deeds are the Reason of this #earthquake M...</td>\n",
              "      <td>1</td>\n",
              "    </tr>\n",
              "    <tr>\n",
              "      <th>1</th>\n",
              "      <td>4</td>\n",
              "      <td>NaN</td>\n",
              "      <td>NaN</td>\n",
              "      <td>Forest fire near La Ronge Sask. Canada</td>\n",
              "      <td>1</td>\n",
              "    </tr>\n",
              "    <tr>\n",
              "      <th>2</th>\n",
              "      <td>5</td>\n",
              "      <td>NaN</td>\n",
              "      <td>NaN</td>\n",
              "      <td>All residents asked to 'shelter in place' are ...</td>\n",
              "      <td>1</td>\n",
              "    </tr>\n",
              "    <tr>\n",
              "      <th>3</th>\n",
              "      <td>6</td>\n",
              "      <td>NaN</td>\n",
              "      <td>NaN</td>\n",
              "      <td>13,000 people receive #wildfires evacuation or...</td>\n",
              "      <td>1</td>\n",
              "    </tr>\n",
              "    <tr>\n",
              "      <th>4</th>\n",
              "      <td>7</td>\n",
              "      <td>NaN</td>\n",
              "      <td>NaN</td>\n",
              "      <td>Just got sent this photo from Ruby #Alaska as ...</td>\n",
              "      <td>1</td>\n",
              "    </tr>\n",
              "  </tbody>\n",
              "</table>\n",
              "</div>\n",
              "      <button class=\"colab-df-convert\" onclick=\"convertToInteractive('df-d4dda3d8-2452-4205-9ead-680c639f3d77')\"\n",
              "              title=\"Convert this dataframe to an interactive table.\"\n",
              "              style=\"display:none;\">\n",
              "        \n",
              "  <svg xmlns=\"http://www.w3.org/2000/svg\" height=\"24px\"viewBox=\"0 0 24 24\"\n",
              "       width=\"24px\">\n",
              "    <path d=\"M0 0h24v24H0V0z\" fill=\"none\"/>\n",
              "    <path d=\"M18.56 5.44l.94 2.06.94-2.06 2.06-.94-2.06-.94-.94-2.06-.94 2.06-2.06.94zm-11 1L8.5 8.5l.94-2.06 2.06-.94-2.06-.94L8.5 2.5l-.94 2.06-2.06.94zm10 10l.94 2.06.94-2.06 2.06-.94-2.06-.94-.94-2.06-.94 2.06-2.06.94z\"/><path d=\"M17.41 7.96l-1.37-1.37c-.4-.4-.92-.59-1.43-.59-.52 0-1.04.2-1.43.59L10.3 9.45l-7.72 7.72c-.78.78-.78 2.05 0 2.83L4 21.41c.39.39.9.59 1.41.59.51 0 1.02-.2 1.41-.59l7.78-7.78 2.81-2.81c.8-.78.8-2.07 0-2.86zM5.41 20L4 18.59l7.72-7.72 1.47 1.35L5.41 20z\"/>\n",
              "  </svg>\n",
              "      </button>\n",
              "      \n",
              "  <style>\n",
              "    .colab-df-container {\n",
              "      display:flex;\n",
              "      flex-wrap:wrap;\n",
              "      gap: 12px;\n",
              "    }\n",
              "\n",
              "    .colab-df-convert {\n",
              "      background-color: #E8F0FE;\n",
              "      border: none;\n",
              "      border-radius: 50%;\n",
              "      cursor: pointer;\n",
              "      display: none;\n",
              "      fill: #1967D2;\n",
              "      height: 32px;\n",
              "      padding: 0 0 0 0;\n",
              "      width: 32px;\n",
              "    }\n",
              "\n",
              "    .colab-df-convert:hover {\n",
              "      background-color: #E2EBFA;\n",
              "      box-shadow: 0px 1px 2px rgba(60, 64, 67, 0.3), 0px 1px 3px 1px rgba(60, 64, 67, 0.15);\n",
              "      fill: #174EA6;\n",
              "    }\n",
              "\n",
              "    [theme=dark] .colab-df-convert {\n",
              "      background-color: #3B4455;\n",
              "      fill: #D2E3FC;\n",
              "    }\n",
              "\n",
              "    [theme=dark] .colab-df-convert:hover {\n",
              "      background-color: #434B5C;\n",
              "      box-shadow: 0px 1px 3px 1px rgba(0, 0, 0, 0.15);\n",
              "      filter: drop-shadow(0px 1px 2px rgba(0, 0, 0, 0.3));\n",
              "      fill: #FFFFFF;\n",
              "    }\n",
              "  </style>\n",
              "\n",
              "      <script>\n",
              "        const buttonEl =\n",
              "          document.querySelector('#df-d4dda3d8-2452-4205-9ead-680c639f3d77 button.colab-df-convert');\n",
              "        buttonEl.style.display =\n",
              "          google.colab.kernel.accessAllowed ? 'block' : 'none';\n",
              "\n",
              "        async function convertToInteractive(key) {\n",
              "          const element = document.querySelector('#df-d4dda3d8-2452-4205-9ead-680c639f3d77');\n",
              "          const dataTable =\n",
              "            await google.colab.kernel.invokeFunction('convertToInteractive',\n",
              "                                                     [key], {});\n",
              "          if (!dataTable) return;\n",
              "\n",
              "          const docLinkHtml = 'Like what you see? Visit the ' +\n",
              "            '<a target=\"_blank\" href=https://colab.research.google.com/notebooks/data_table.ipynb>data table notebook</a>'\n",
              "            + ' to learn more about interactive tables.';\n",
              "          element.innerHTML = '';\n",
              "          dataTable['output_type'] = 'display_data';\n",
              "          await google.colab.output.renderOutput(dataTable, element);\n",
              "          const docLink = document.createElement('div');\n",
              "          docLink.innerHTML = docLinkHtml;\n",
              "          element.appendChild(docLink);\n",
              "        }\n",
              "      </script>\n",
              "    </div>\n",
              "  </div>\n",
              "  "
            ],
            "text/plain": [
              "   id keyword location                                               text  \\\n",
              "0   1     NaN      NaN  Our Deeds are the Reason of this #earthquake M...   \n",
              "1   4     NaN      NaN             Forest fire near La Ronge Sask. Canada   \n",
              "2   5     NaN      NaN  All residents asked to 'shelter in place' are ...   \n",
              "3   6     NaN      NaN  13,000 people receive #wildfires evacuation or...   \n",
              "4   7     NaN      NaN  Just got sent this photo from Ruby #Alaska as ...   \n",
              "\n",
              "   target  \n",
              "0       1  \n",
              "1       1  \n",
              "2       1  \n",
              "3       1  \n",
              "4       1  "
            ]
          },
          "execution_count": 3,
          "metadata": {},
          "output_type": "execute_result"
        }
      ],
      "source": [
        "# Displaying the first five entries in dataset\n",
        "data.head()"
      ]
    },
    {
      "cell_type": "code",
      "execution_count": null,
      "metadata": {
        "colab": {
          "base_uri": "https://localhost:8080/"
        },
        "id": "gxvlBw1RHucQ",
        "outputId": "e7eb01f8-9826-4db6-d3b0-51c332d1b232"
      },
      "outputs": [
        {
          "data": {
            "text/plain": [
              "(7613, 5)"
            ]
          },
          "execution_count": 4,
          "metadata": {},
          "output_type": "execute_result"
        }
      ],
      "source": [
        "# display number of rows and columns\n",
        "data.shape"
      ]
    },
    {
      "cell_type": "code",
      "execution_count": null,
      "metadata": {
        "colab": {
          "base_uri": "https://localhost:8080/"
        },
        "id": "loTk_F2UIB7X",
        "outputId": "58a89d31-31e7-41e4-accf-28602c9253e8"
      },
      "outputs": [
        {
          "name": "stdout",
          "output_type": "stream",
          "text": [
            "<class 'pandas.core.frame.DataFrame'>\n",
            "RangeIndex: 7613 entries, 0 to 7612\n",
            "Data columns (total 5 columns):\n",
            " #   Column    Non-Null Count  Dtype \n",
            "---  ------    --------------  ----- \n",
            " 0   id        7613 non-null   int64 \n",
            " 1   keyword   7552 non-null   object\n",
            " 2   location  5080 non-null   object\n",
            " 3   text      7613 non-null   object\n",
            " 4   target    7613 non-null   int64 \n",
            "dtypes: int64(2), object(3)\n",
            "memory usage: 297.5+ KB\n"
          ]
        }
      ],
      "source": [
        "data.info()"
      ]
    },
    {
      "cell_type": "code",
      "execution_count": null,
      "metadata": {
        "colab": {
          "base_uri": "https://localhost:8080/"
        },
        "id": "eurOgSO0Itsl",
        "outputId": "f36d7d19-4c8b-4334-bec4-16bad1409f5d"
      },
      "outputs": [
        {
          "data": {
            "text/plain": [
              "0    4342\n",
              "1    3271\n",
              "Name: target, dtype: int64"
            ]
          },
          "execution_count": 6,
          "metadata": {},
          "output_type": "execute_result"
        }
      ],
      "source": [
        "# get counts for disaster classification\n",
        "data['target'].value_counts()"
      ]
    },
    {
      "cell_type": "code",
      "execution_count": null,
      "metadata": {
        "colab": {
          "base_uri": "https://localhost:8080/",
          "height": 414
        },
        "id": "dkI1gErrCPTH",
        "outputId": "5301ab01-5778-4a2a-a41d-19fa18859e3e"
      },
      "outputs": [
        {
          "data": {
            "text/plain": [
              "<Axes: xlabel='target', ylabel='count'>"
            ]
          },
          "execution_count": 7,
          "metadata": {},
          "output_type": "execute_result"
        },
        {
          "data": {
            "image/png": "[encoded data removed]",
            "text/plain": [
              "<Figure size 400x400 with 1 Axes>"
            ]
          },
          "metadata": {},
          "output_type": "display_data"
        }
      ],
      "source": [
        "# Visualizing the binary classification label distribution\n",
        "plt.figure(figsize = (4,4))\n",
        "sb.countplot(x='target', data=data)"
      ]
    },
    {
      "cell_type": "markdown",
      "metadata": {
        "id": "i12Xuyf1WChz"
      },
      "source": [
        "Lets look at examples of tweets that are disaster and non disaster tweets."
      ]
    },
    {
      "cell_type": "code",
      "execution_count": null,
      "metadata": {
        "colab": {
          "base_uri": "https://localhost:8080/",
          "height": 35
        },
        "id": "e2IcwV0ZVynk",
        "outputId": "780e5f63-46f8-46e6-fe8e-99a272ed2a0d"
      },
      "outputs": [
        {
          "data": {
            "application/vnd.google.colaboratory.intrinsic+json": {
              "type": "string"
            },
            "text/plain": [
              "'I love fruits'"
            ]
          },
          "execution_count": 8,
          "metadata": {},
          "output_type": "execute_result"
        }
      ],
      "source": [
        "data[data[\"target\"] == 0][\"text\"].values[1]"
      ]
    },
    {
      "cell_type": "code",
      "execution_count": null,
      "metadata": {
        "colab": {
          "base_uri": "https://localhost:8080/",
          "height": 35
        },
        "id": "p6XH8PWUV89U",
        "outputId": "32ce94c8-b69f-40d4-ec43-ee6ff0367593"
      },
      "outputs": [
        {
          "data": {
            "application/vnd.google.colaboratory.intrinsic+json": {
              "type": "string"
            },
            "text/plain": [
              "'Forest fire near La Ronge Sask. Canada'"
            ]
          },
          "execution_count": 9,
          "metadata": {},
          "output_type": "execute_result"
        }
      ],
      "source": [
        "data[data[\"target\"] == 1][\"text\"].values[1]"
      ]
    },
    {
      "cell_type": "markdown",
      "metadata": {
        "id": "BGRZt3VjPbV0"
      },
      "source": [
        "###**Preprocessing the Dataset:**"
      ]
    },
    {
      "cell_type": "markdown",
      "source": [
        "Many tweets contain links that will not be helpful to the model so they must be cleaned from the dataset."
      ],
      "metadata": {
        "id": "0Mv8RtFtzCRm"
      }
    },
    {
      "cell_type": "code",
      "execution_count": null,
      "metadata": {
        "colab": {
          "base_uri": "https://localhost:8080/"
        },
        "id": "QCTnrYDho9hO",
        "outputId": "2fc7a157-d37e-4b5b-c4ab-f79a3c6adfcf"
      },
      "outputs": [
        {
          "output_type": "stream",
          "name": "stdout",
          "text": [
            "I sure hope this link disappears  \n"
          ]
        }
      ],
      "source": [
        "import re\n",
        "def remove_url(text):\n",
        "  url = re.compile(r\"https?://\\S+|www\\.\\S+\")\n",
        "  return url.sub(r\"\", text)\n",
        "\n",
        "contains_url = \"I sure hope this link disappears https://www.google.com/ \"\n",
        "print(remove_url(contains_url))"
      ]
    },
    {
      "cell_type": "code",
      "execution_count": null,
      "metadata": {
        "id": "CiFstHzbqpZY"
      },
      "outputs": [],
      "source": [
        "data[\"text\"] = data[\"text\"].map(remove_url)"
      ]
    },
    {
      "cell_type": "markdown",
      "metadata": {
        "id": "8jKyUzOwxCw1"
      },
      "source": [
        "**Removing Stopwords**\n",
        "\n",
        "- The stopwords are a list of words that are very common but don't provide useful information for most sentiment analysis.\n",
        "\n",
        "- Examples of stopwords are: I, a, the, to, and, that, for, was, etc.\n",
        "\n",
        "- Words such as these will not be useful for detecting disasters"
      ]
    },
    {
      "cell_type": "code",
      "execution_count": null,
      "metadata": {
        "colab": {
          "base_uri": "https://localhost:8080/"
        },
        "id": "QtKNCiDDvzuB",
        "outputId": "23897b75-d2f8-4915-9f19-254506cfb932"
      },
      "outputs": [
        {
          "output_type": "stream",
          "name": "stdout",
          "text": [
            "please work\n"
          ]
        },
        {
          "output_type": "stream",
          "name": "stderr",
          "text": [
            "[nltk_data] Downloading package stopwords to /root/nltk_data...\n",
            "[nltk_data]   Unzipping corpora/stopwords.zip.\n"
          ]
        }
      ],
      "source": [
        "import nltk\n",
        "nltk.download('stopwords')\n",
        "from nltk.corpus import stopwords\n",
        "# set stopwords to english stopwords\n",
        "stopwords = set(stopwords.words('english'))\n",
        "\n",
        "# list of all the removed stopwords in nltk's english list\n",
        "# https://gist.github.com/sebleier/554280\n",
        "\n",
        "# Remove all stopwords\n",
        "def remove_stopwords(text):\n",
        "    text = ' '.join([word.lower() for word in text.split() if word.lower() not in (stopwords)])\n",
        "    return text\n",
        "\n",
        "# Initially the word \"I\" remained in the text due not being lowercase, after some research I found adding lower() in the function solves this issue\n",
        "stop_test = \" Please I am the to in is for how work \"\n",
        "print(remove_stopwords(stop_test))"
      ]
    },
    {
      "cell_type": "code",
      "execution_count": null,
      "metadata": {
        "id": "F4P45AL3zHVJ"
      },
      "outputs": [],
      "source": [
        "data[\"text\"] = data[\"text\"].map(remove_stopwords)"
      ]
    },
    {
      "cell_type": "code",
      "execution_count": null,
      "metadata": {
        "colab": {
          "base_uri": "https://localhost:8080/",
          "height": 206
        },
        "id": "rmem6gG00MhH",
        "outputId": "fb9b2b47-3515-49a6-fe39-a67c0fa56e70"
      },
      "outputs": [
        {
          "data": {
            "text/html": [
              "\n",
              "  <div id=\"df-5f661af8-3986-4c8e-b8bb-8b682e086a6d\">\n",
              "    <div class=\"colab-df-container\">\n",
              "      <div>\n",
              "<style scoped>\n",
              "    .dataframe tbody tr th:only-of-type {\n",
              "        vertical-align: middle;\n",
              "    }\n",
              "\n",
              "    .dataframe tbody tr th {\n",
              "        vertical-align: top;\n",
              "    }\n",
              "\n",
              "    .dataframe thead th {\n",
              "        text-align: right;\n",
              "    }\n",
              "</style>\n",
              "<table border=\"1\" class=\"dataframe\">\n",
              "  <thead>\n",
              "    <tr style=\"text-align: right;\">\n",
              "      <th></th>\n",
              "      <th>id</th>\n",
              "      <th>keyword</th>\n",
              "      <th>location</th>\n",
              "      <th>text</th>\n",
              "      <th>target</th>\n",
              "    </tr>\n",
              "  </thead>\n",
              "  <tbody>\n",
              "    <tr>\n",
              "      <th>0</th>\n",
              "      <td>1</td>\n",
              "      <td>NaN</td>\n",
              "      <td>NaN</td>\n",
              "      <td>deeds reason #earthquake may allah forgive us</td>\n",
              "      <td>1</td>\n",
              "    </tr>\n",
              "    <tr>\n",
              "      <th>1</th>\n",
              "      <td>4</td>\n",
              "      <td>NaN</td>\n",
              "      <td>NaN</td>\n",
              "      <td>forest fire near la ronge sask. canada</td>\n",
              "      <td>1</td>\n",
              "    </tr>\n",
              "    <tr>\n",
              "      <th>2</th>\n",
              "      <td>5</td>\n",
              "      <td>NaN</td>\n",
              "      <td>NaN</td>\n",
              "      <td>residents asked 'shelter place' notified offic...</td>\n",
              "      <td>1</td>\n",
              "    </tr>\n",
              "    <tr>\n",
              "      <th>3</th>\n",
              "      <td>6</td>\n",
              "      <td>NaN</td>\n",
              "      <td>NaN</td>\n",
              "      <td>13,000 people receive #wildfires evacuation or...</td>\n",
              "      <td>1</td>\n",
              "    </tr>\n",
              "    <tr>\n",
              "      <th>4</th>\n",
              "      <td>7</td>\n",
              "      <td>NaN</td>\n",
              "      <td>NaN</td>\n",
              "      <td>got sent photo ruby #alaska smoke #wildfires p...</td>\n",
              "      <td>1</td>\n",
              "    </tr>\n",
              "  </tbody>\n",
              "</table>\n",
              "</div>\n",
              "      <button class=\"colab-df-convert\" onclick=\"convertToInteractive('df-5f661af8-3986-4c8e-b8bb-8b682e086a6d')\"\n",
              "              title=\"Convert this dataframe to an interactive table.\"\n",
              "              style=\"display:none;\">\n",
              "        \n",
              "  <svg xmlns=\"http://www.w3.org/2000/svg\" height=\"24px\"viewBox=\"0 0 24 24\"\n",
              "       width=\"24px\">\n",
              "    <path d=\"M0 0h24v24H0V0z\" fill=\"none\"/>\n",
              "    <path d=\"M18.56 5.44l.94 2.06.94-2.06 2.06-.94-2.06-.94-.94-2.06-.94 2.06-2.06.94zm-11 1L8.5 8.5l.94-2.06 2.06-.94-2.06-.94L8.5 2.5l-.94 2.06-2.06.94zm10 10l.94 2.06.94-2.06 2.06-.94-2.06-.94-.94-2.06-.94 2.06-2.06.94z\"/><path d=\"M17.41 7.96l-1.37-1.37c-.4-.4-.92-.59-1.43-.59-.52 0-1.04.2-1.43.59L10.3 9.45l-7.72 7.72c-.78.78-.78 2.05 0 2.83L4 21.41c.39.39.9.59 1.41.59.51 0 1.02-.2 1.41-.59l7.78-7.78 2.81-2.81c.8-.78.8-2.07 0-2.86zM5.41 20L4 18.59l7.72-7.72 1.47 1.35L5.41 20z\"/>\n",
              "  </svg>\n",
              "      </button>\n",
              "      \n",
              "  <style>\n",
              "    .colab-df-container {\n",
              "      display:flex;\n",
              "      flex-wrap:wrap;\n",
              "      gap: 12px;\n",
              "    }\n",
              "\n",
              "    .colab-df-convert {\n",
              "      background-color: #E8F0FE;\n",
              "      border: none;\n",
              "      border-radius: 50%;\n",
              "      cursor: pointer;\n",
              "      display: none;\n",
              "      fill: #1967D2;\n",
              "      height: 32px;\n",
              "      padding: 0 0 0 0;\n",
              "      width: 32px;\n",
              "    }\n",
              "\n",
              "    .colab-df-convert:hover {\n",
              "      background-color: #E2EBFA;\n",
              "      box-shadow: 0px 1px 2px rgba(60, 64, 67, 0.3), 0px 1px 3px 1px rgba(60, 64, 67, 0.15);\n",
              "      fill: #174EA6;\n",
              "    }\n",
              "\n",
              "    [theme=dark] .colab-df-convert {\n",
              "      background-color: #3B4455;\n",
              "      fill: #D2E3FC;\n",
              "    }\n",
              "\n",
              "    [theme=dark] .colab-df-convert:hover {\n",
              "      background-color: #434B5C;\n",
              "      box-shadow: 0px 1px 3px 1px rgba(0, 0, 0, 0.15);\n",
              "      filter: drop-shadow(0px 1px 2px rgba(0, 0, 0, 0.3));\n",
              "      fill: #FFFFFF;\n",
              "    }\n",
              "  </style>\n",
              "\n",
              "      <script>\n",
              "        const buttonEl =\n",
              "          document.querySelector('#df-5f661af8-3986-4c8e-b8bb-8b682e086a6d button.colab-df-convert');\n",
              "        buttonEl.style.display =\n",
              "          google.colab.kernel.accessAllowed ? 'block' : 'none';\n",
              "\n",
              "        async function convertToInteractive(key) {\n",
              "          const element = document.querySelector('#df-5f661af8-3986-4c8e-b8bb-8b682e086a6d');\n",
              "          const dataTable =\n",
              "            await google.colab.kernel.invokeFunction('convertToInteractive',\n",
              "                                                     [key], {});\n",
              "          if (!dataTable) return;\n",
              "\n",
              "          const docLinkHtml = 'Like what you see? Visit the ' +\n",
              "            '<a target=\"_blank\" href=https://colab.research.google.com/notebooks/data_table.ipynb>data table notebook</a>'\n",
              "            + ' to learn more about interactive tables.';\n",
              "          element.innerHTML = '';\n",
              "          dataTable['output_type'] = 'display_data';\n",
              "          await google.colab.output.renderOutput(dataTable, element);\n",
              "          const docLink = document.createElement('div');\n",
              "          docLink.innerHTML = docLinkHtml;\n",
              "          element.appendChild(docLink);\n",
              "        }\n",
              "      </script>\n",
              "    </div>\n",
              "  </div>\n",
              "  "
            ],
            "text/plain": [
              "   id keyword location                                               text  \\\n",
              "0   1     NaN      NaN      deeds reason #earthquake may allah forgive us   \n",
              "1   4     NaN      NaN             forest fire near la ronge sask. canada   \n",
              "2   5     NaN      NaN  residents asked 'shelter place' notified offic...   \n",
              "3   6     NaN      NaN  13,000 people receive #wildfires evacuation or...   \n",
              "4   7     NaN      NaN  got sent photo ruby #alaska smoke #wildfires p...   \n",
              "\n",
              "   target  \n",
              "0       1  \n",
              "1       1  \n",
              "2       1  \n",
              "3       1  \n",
              "4       1  "
            ]
          },
          "execution_count": 14,
          "metadata": {},
          "output_type": "execute_result"
        }
      ],
      "source": [
        "data.head()"
      ]
    },
    {
      "cell_type": "markdown",
      "metadata": {
        "id": "95F9nBlm9858"
      },
      "source": [
        "From the example texts from above, the text still contains hashtags, numbers, and words within single quotations. These can all negatively impact the models, so I will apply more cleaning to the data. For example we do not want #danger, danger, @danger, and 'danger' to all be separate word tokens."
      ]
    },
    {
      "cell_type": "code",
      "execution_count": null,
      "metadata": {
        "colab": {
          "base_uri": "https://localhost:8080/"
        },
        "id": "9FpXK_aF-XV6",
        "outputId": "c0125ca9-6d39-4eaa-c661-1e66dddf7d1f"
      },
      "outputs": [
        {
          "output_type": "stream",
          "name": "stdout",
          "text": [
            " remove  punct test \n"
          ]
        }
      ],
      "source": [
        "# function to remove punctuation\n",
        "# source to find function: https://www.analyticsvidhya.com/blog/2021/06/twitter-sentiment-analysis-a-nlp-use-case-for-beginners/#h-step-5-data-preprocessing\n",
        "import string\n",
        "def clean_punct(text):\n",
        "  translator = str.maketrans('','', string.punctuation)\n",
        "  return text.translate(translator)\n",
        "\n",
        "punct_test = \" #remove ! @punct. 'test' \"\n",
        "print(clean_punct(punct_test))"
      ]
    },
    {
      "cell_type": "markdown",
      "metadata": {
        "id": "5x5urIorBTUP"
      },
      "source": [
        "I considered removing any word that starts with @. In twitter the @ symbol is used in front of a user. The names of users will most likely will hinder the quality of the dataset. However, I decided not to because of the possibility of tweets using the @ to tag certain news sources or accounts specifically for disasters."
      ]
    },
    {
      "cell_type": "code",
      "execution_count": null,
      "metadata": {
        "id": "60-IZFHwB6HI"
      },
      "outputs": [],
      "source": [
        "data[\"text\"] = data[\"text\"].map(clean_punct)"
      ]
    },
    {
      "cell_type": "code",
      "execution_count": null,
      "metadata": {
        "colab": {
          "base_uri": "https://localhost:8080/",
          "height": 206
        },
        "id": "XhkE6ScdCCsn",
        "outputId": "f232a167-b35d-4d5f-ecb2-098dcb0fa21e"
      },
      "outputs": [
        {
          "data": {
            "text/html": [
              "\n",
              "  <div id=\"df-2277ec56-8e61-4d0c-9219-7c6666fc96aa\">\n",
              "    <div class=\"colab-df-container\">\n",
              "      <div>\n",
              "<style scoped>\n",
              "    .dataframe tbody tr th:only-of-type {\n",
              "        vertical-align: middle;\n",
              "    }\n",
              "\n",
              "    .dataframe tbody tr th {\n",
              "        vertical-align: top;\n",
              "    }\n",
              "\n",
              "    .dataframe thead th {\n",
              "        text-align: right;\n",
              "    }\n",
              "</style>\n",
              "<table border=\"1\" class=\"dataframe\">\n",
              "  <thead>\n",
              "    <tr style=\"text-align: right;\">\n",
              "      <th></th>\n",
              "      <th>id</th>\n",
              "      <th>keyword</th>\n",
              "      <th>location</th>\n",
              "      <th>text</th>\n",
              "      <th>target</th>\n",
              "    </tr>\n",
              "  </thead>\n",
              "  <tbody>\n",
              "    <tr>\n",
              "      <th>0</th>\n",
              "      <td>1</td>\n",
              "      <td>NaN</td>\n",
              "      <td>NaN</td>\n",
              "      <td>deeds reason earthquake may allah forgive us</td>\n",
              "      <td>1</td>\n",
              "    </tr>\n",
              "    <tr>\n",
              "      <th>1</th>\n",
              "      <td>4</td>\n",
              "      <td>NaN</td>\n",
              "      <td>NaN</td>\n",
              "      <td>forest fire near la ronge sask canada</td>\n",
              "      <td>1</td>\n",
              "    </tr>\n",
              "    <tr>\n",
              "      <th>2</th>\n",
              "      <td>5</td>\n",
              "      <td>NaN</td>\n",
              "      <td>NaN</td>\n",
              "      <td>residents asked shelter place notified officer...</td>\n",
              "      <td>1</td>\n",
              "    </tr>\n",
              "    <tr>\n",
              "      <th>3</th>\n",
              "      <td>6</td>\n",
              "      <td>NaN</td>\n",
              "      <td>NaN</td>\n",
              "      <td>13000 people receive wildfires evacuation orde...</td>\n",
              "      <td>1</td>\n",
              "    </tr>\n",
              "    <tr>\n",
              "      <th>4</th>\n",
              "      <td>7</td>\n",
              "      <td>NaN</td>\n",
              "      <td>NaN</td>\n",
              "      <td>got sent photo ruby alaska smoke wildfires pou...</td>\n",
              "      <td>1</td>\n",
              "    </tr>\n",
              "  </tbody>\n",
              "</table>\n",
              "</div>\n",
              "      <button class=\"colab-df-convert\" onclick=\"convertToInteractive('df-2277ec56-8e61-4d0c-9219-7c6666fc96aa')\"\n",
              "              title=\"Convert this dataframe to an interactive table.\"\n",
              "              style=\"display:none;\">\n",
              "        \n",
              "  <svg xmlns=\"http://www.w3.org/2000/svg\" height=\"24px\"viewBox=\"0 0 24 24\"\n",
              "       width=\"24px\">\n",
              "    <path d=\"M0 0h24v24H0V0z\" fill=\"none\"/>\n",
              "    <path d=\"M18.56 5.44l.94 2.06.94-2.06 2.06-.94-2.06-.94-.94-2.06-.94 2.06-2.06.94zm-11 1L8.5 8.5l.94-2.06 2.06-.94-2.06-.94L8.5 2.5l-.94 2.06-2.06.94zm10 10l.94 2.06.94-2.06 2.06-.94-2.06-.94-.94-2.06-.94 2.06-2.06.94z\"/><path d=\"M17.41 7.96l-1.37-1.37c-.4-.4-.92-.59-1.43-.59-.52 0-1.04.2-1.43.59L10.3 9.45l-7.72 7.72c-.78.78-.78 2.05 0 2.83L4 21.41c.39.39.9.59 1.41.59.51 0 1.02-.2 1.41-.59l7.78-7.78 2.81-2.81c.8-.78.8-2.07 0-2.86zM5.41 20L4 18.59l7.72-7.72 1.47 1.35L5.41 20z\"/>\n",
              "  </svg>\n",
              "      </button>\n",
              "      \n",
              "  <style>\n",
              "    .colab-df-container {\n",
              "      display:flex;\n",
              "      flex-wrap:wrap;\n",
              "      gap: 12px;\n",
              "    }\n",
              "\n",
              "    .colab-df-convert {\n",
              "      background-color: #E8F0FE;\n",
              "      border: none;\n",
              "      border-radius: 50%;\n",
              "      cursor: pointer;\n",
              "      display: none;\n",
              "      fill: #1967D2;\n",
              "      height: 32px;\n",
              "      padding: 0 0 0 0;\n",
              "      width: 32px;\n",
              "    }\n",
              "\n",
              "    .colab-df-convert:hover {\n",
              "      background-color: #E2EBFA;\n",
              "      box-shadow: 0px 1px 2px rgba(60, 64, 67, 0.3), 0px 1px 3px 1px rgba(60, 64, 67, 0.15);\n",
              "      fill: #174EA6;\n",
              "    }\n",
              "\n",
              "    [theme=dark] .colab-df-convert {\n",
              "      background-color: #3B4455;\n",
              "      fill: #D2E3FC;\n",
              "    }\n",
              "\n",
              "    [theme=dark] .colab-df-convert:hover {\n",
              "      background-color: #434B5C;\n",
              "      box-shadow: 0px 1px 3px 1px rgba(0, 0, 0, 0.15);\n",
              "      filter: drop-shadow(0px 1px 2px rgba(0, 0, 0, 0.3));\n",
              "      fill: #FFFFFF;\n",
              "    }\n",
              "  </style>\n",
              "\n",
              "      <script>\n",
              "        const buttonEl =\n",
              "          document.querySelector('#df-2277ec56-8e61-4d0c-9219-7c6666fc96aa button.colab-df-convert');\n",
              "        buttonEl.style.display =\n",
              "          google.colab.kernel.accessAllowed ? 'block' : 'none';\n",
              "\n",
              "        async function convertToInteractive(key) {\n",
              "          const element = document.querySelector('#df-2277ec56-8e61-4d0c-9219-7c6666fc96aa');\n",
              "          const dataTable =\n",
              "            await google.colab.kernel.invokeFunction('convertToInteractive',\n",
              "                                                     [key], {});\n",
              "          if (!dataTable) return;\n",
              "\n",
              "          const docLinkHtml = 'Like what you see? Visit the ' +\n",
              "            '<a target=\"_blank\" href=https://colab.research.google.com/notebooks/data_table.ipynb>data table notebook</a>'\n",
              "            + ' to learn more about interactive tables.';\n",
              "          element.innerHTML = '';\n",
              "          dataTable['output_type'] = 'display_data';\n",
              "          await google.colab.output.renderOutput(dataTable, element);\n",
              "          const docLink = document.createElement('div');\n",
              "          docLink.innerHTML = docLinkHtml;\n",
              "          element.appendChild(docLink);\n",
              "        }\n",
              "      </script>\n",
              "    </div>\n",
              "  </div>\n",
              "  "
            ],
            "text/plain": [
              "   id keyword location                                               text  \\\n",
              "0   1     NaN      NaN       deeds reason earthquake may allah forgive us   \n",
              "1   4     NaN      NaN              forest fire near la ronge sask canada   \n",
              "2   5     NaN      NaN  residents asked shelter place notified officer...   \n",
              "3   6     NaN      NaN  13000 people receive wildfires evacuation orde...   \n",
              "4   7     NaN      NaN  got sent photo ruby alaska smoke wildfires pou...   \n",
              "\n",
              "   target  \n",
              "0       1  \n",
              "1       1  \n",
              "2       1  \n",
              "3       1  \n",
              "4       1  "
            ]
          },
          "execution_count": 17,
          "metadata": {},
          "output_type": "execute_result"
        }
      ],
      "source": [
        "# confirm the punctuations have been removed\n",
        "data.head()"
      ]
    },
    {
      "cell_type": "markdown",
      "metadata": {
        "id": "vWDFC55uC-cM"
      },
      "source": [
        "- Upon looking at the text above, I questioned whether numbers would contain any sentiment. Numbers are commonly used for measurements for disasters such as magnitude of an earthquake, the sizes of tornados and earthquakes, the number of people effected, county numbers, and so on. The main issue is numbers are so commonly used in any text that it will not be a good sentiment indicator, and the bag of words will be flooded with numbers as tokens.\n",
        "\n",
        "- I then also considered the removal of emojis. Happy emojis can be a good indication of a non disaster. An emoji such as fire may be commonly used for both disaster and non disaster tweets. Emojies are represented by unicode values. By making the decision to remove numbers, the majority of emojis will be truncated to just UF, making them non distinguishable and of no value.\n",
        "\n",
        "- By making the decision to remove numbers, I must also remove emojis. It may be worth exploring how models perform with numbers and emojis, so I will make a copy of the data before the removal of numbers and emojis."
      ]
    },
    {
      "cell_type": "code",
      "execution_count": null,
      "metadata": {
        "id": "XiwEqlTmJmd1"
      },
      "outputs": [],
      "source": [
        "# making a copy of the dataframe before cleaning of numbers and emojis.\n",
        "twitter_emoj_num = data.copy()"
      ]
    },
    {
      "cell_type": "code",
      "execution_count": null,
      "metadata": {
        "colab": {
          "base_uri": "https://localhost:8080/"
        },
        "id": "8fRvaau-JzuH",
        "outputId": "aa289040-eda7-4757-b116-746be32ac442"
      },
      "outputs": [
        {
          "output_type": "stream",
          "name": "stdout",
          "text": [
            " no numbers\n"
          ]
        }
      ],
      "source": [
        "# function to remove numbers, the same as remove punctuation function but use the digits method in the string class\n",
        "def clean_num(text):\n",
        "  translator = str.maketrans('','', string.digits)\n",
        "  return text.translate(translator)\n",
        "\n",
        "# verify the function works\n",
        "num_test = \" 1n2o4 47num329be3rs8\"\n",
        "print(clean_num(num_test))"
      ]
    },
    {
      "cell_type": "code",
      "execution_count": null,
      "metadata": {
        "colab": {
          "base_uri": "https://localhost:8080/",
          "height": 206
        },
        "id": "4oalhADxK7OB",
        "outputId": "5482ad7a-c74a-407f-edd3-d10b9183f1d8"
      },
      "outputs": [
        {
          "output_type": "execute_result",
          "data": {
            "text/plain": [
              "   id keyword location                                               text  \\\n",
              "0   1     NaN      NaN       deeds reason earthquake may allah forgive us   \n",
              "1   4     NaN      NaN              forest fire near la ronge sask canada   \n",
              "2   5     NaN      NaN  residents asked shelter place notified officer...   \n",
              "3   6     NaN      NaN   people receive wildfires evacuation orders ca...   \n",
              "4   7     NaN      NaN  got sent photo ruby alaska smoke wildfires pou...   \n",
              "\n",
              "   target  \n",
              "0       1  \n",
              "1       1  \n",
              "2       1  \n",
              "3       1  \n",
              "4       1  "
            ],
            "text/html": [
              "\n",
              "  <div id=\"df-a41587a2-f3b7-4e4c-bdc3-f976bee69586\">\n",
              "    <div class=\"colab-df-container\">\n",
              "      <div>\n",
              "<style scoped>\n",
              "    .dataframe tbody tr th:only-of-type {\n",
              "        vertical-align: middle;\n",
              "    }\n",
              "\n",
              "    .dataframe tbody tr th {\n",
              "        vertical-align: top;\n",
              "    }\n",
              "\n",
              "    .dataframe thead th {\n",
              "        text-align: right;\n",
              "    }\n",
              "</style>\n",
              "<table border=\"1\" class=\"dataframe\">\n",
              "  <thead>\n",
              "    <tr style=\"text-align: right;\">\n",
              "      <th></th>\n",
              "      <th>id</th>\n",
              "      <th>keyword</th>\n",
              "      <th>location</th>\n",
              "      <th>text</th>\n",
              "      <th>target</th>\n",
              "    </tr>\n",
              "  </thead>\n",
              "  <tbody>\n",
              "    <tr>\n",
              "      <th>0</th>\n",
              "      <td>1</td>\n",
              "      <td>NaN</td>\n",
              "      <td>NaN</td>\n",
              "      <td>deeds reason earthquake may allah forgive us</td>\n",
              "      <td>1</td>\n",
              "    </tr>\n",
              "    <tr>\n",
              "      <th>1</th>\n",
              "      <td>4</td>\n",
              "      <td>NaN</td>\n",
              "      <td>NaN</td>\n",
              "      <td>forest fire near la ronge sask canada</td>\n",
              "      <td>1</td>\n",
              "    </tr>\n",
              "    <tr>\n",
              "      <th>2</th>\n",
              "      <td>5</td>\n",
              "      <td>NaN</td>\n",
              "      <td>NaN</td>\n",
              "      <td>residents asked shelter place notified officer...</td>\n",
              "      <td>1</td>\n",
              "    </tr>\n",
              "    <tr>\n",
              "      <th>3</th>\n",
              "      <td>6</td>\n",
              "      <td>NaN</td>\n",
              "      <td>NaN</td>\n",
              "      <td>people receive wildfires evacuation orders ca...</td>\n",
              "      <td>1</td>\n",
              "    </tr>\n",
              "    <tr>\n",
              "      <th>4</th>\n",
              "      <td>7</td>\n",
              "      <td>NaN</td>\n",
              "      <td>NaN</td>\n",
              "      <td>got sent photo ruby alaska smoke wildfires pou...</td>\n",
              "      <td>1</td>\n",
              "    </tr>\n",
              "  </tbody>\n",
              "</table>\n",
              "</div>\n",
              "      <button class=\"colab-df-convert\" onclick=\"convertToInteractive('df-a41587a2-f3b7-4e4c-bdc3-f976bee69586')\"\n",
              "              title=\"Convert this dataframe to an interactive table.\"\n",
              "              style=\"display:none;\">\n",
              "        \n",
              "  <svg xmlns=\"http://www.w3.org/2000/svg\" height=\"24px\"viewBox=\"0 0 24 24\"\n",
              "       width=\"24px\">\n",
              "    <path d=\"M0 0h24v24H0V0z\" fill=\"none\"/>\n",
              "    <path d=\"M18.56 5.44l.94 2.06.94-2.06 2.06-.94-2.06-.94-.94-2.06-.94 2.06-2.06.94zm-11 1L8.5 8.5l.94-2.06 2.06-.94-2.06-.94L8.5 2.5l-.94 2.06-2.06.94zm10 10l.94 2.06.94-2.06 2.06-.94-2.06-.94-.94-2.06-.94 2.06-2.06.94z\"/><path d=\"M17.41 7.96l-1.37-1.37c-.4-.4-.92-.59-1.43-.59-.52 0-1.04.2-1.43.59L10.3 9.45l-7.72 7.72c-.78.78-.78 2.05 0 2.83L4 21.41c.39.39.9.59 1.41.59.51 0 1.02-.2 1.41-.59l7.78-7.78 2.81-2.81c.8-.78.8-2.07 0-2.86zM5.41 20L4 18.59l7.72-7.72 1.47 1.35L5.41 20z\"/>\n",
              "  </svg>\n",
              "      </button>\n",
              "      \n",
              "  <style>\n",
              "    .colab-df-container {\n",
              "      display:flex;\n",
              "      flex-wrap:wrap;\n",
              "      gap: 12px;\n",
              "    }\n",
              "\n",
              "    .colab-df-convert {\n",
              "      background-color: #E8F0FE;\n",
              "      border: none;\n",
              "      border-radius: 50%;\n",
              "      cursor: pointer;\n",
              "      display: none;\n",
              "      fill: #1967D2;\n",
              "      height: 32px;\n",
              "      padding: 0 0 0 0;\n",
              "      width: 32px;\n",
              "    }\n",
              "\n",
              "    .colab-df-convert:hover {\n",
              "      background-color: #E2EBFA;\n",
              "      box-shadow: 0px 1px 2px rgba(60, 64, 67, 0.3), 0px 1px 3px 1px rgba(60, 64, 67, 0.15);\n",
              "      fill: #174EA6;\n",
              "    }\n",
              "\n",
              "    [theme=dark] .colab-df-convert {\n",
              "      background-color: #3B4455;\n",
              "      fill: #D2E3FC;\n",
              "    }\n",
              "\n",
              "    [theme=dark] .colab-df-convert:hover {\n",
              "      background-color: #434B5C;\n",
              "      box-shadow: 0px 1px 3px 1px rgba(0, 0, 0, 0.15);\n",
              "      filter: drop-shadow(0px 1px 2px rgba(0, 0, 0, 0.3));\n",
              "      fill: #FFFFFF;\n",
              "    }\n",
              "  </style>\n",
              "\n",
              "      <script>\n",
              "        const buttonEl =\n",
              "          document.querySelector('#df-a41587a2-f3b7-4e4c-bdc3-f976bee69586 button.colab-df-convert');\n",
              "        buttonEl.style.display =\n",
              "          google.colab.kernel.accessAllowed ? 'block' : 'none';\n",
              "\n",
              "        async function convertToInteractive(key) {\n",
              "          const element = document.querySelector('#df-a41587a2-f3b7-4e4c-bdc3-f976bee69586');\n",
              "          const dataTable =\n",
              "            await google.colab.kernel.invokeFunction('convertToInteractive',\n",
              "                                                     [key], {});\n",
              "          if (!dataTable) return;\n",
              "\n",
              "          const docLinkHtml = 'Like what you see? Visit the ' +\n",
              "            '<a target=\"_blank\" href=https://colab.research.google.com/notebooks/data_table.ipynb>data table notebook</a>'\n",
              "            + ' to learn more about interactive tables.';\n",
              "          element.innerHTML = '';\n",
              "          dataTable['output_type'] = 'display_data';\n",
              "          await google.colab.output.renderOutput(dataTable, element);\n",
              "          const docLink = document.createElement('div');\n",
              "          docLink.innerHTML = docLinkHtml;\n",
              "          element.appendChild(docLink);\n",
              "        }\n",
              "      </script>\n",
              "    </div>\n",
              "  </div>\n",
              "  "
            ]
          },
          "metadata": {},
          "execution_count": 11
        }
      ],
      "source": [
        "# remove numbers from dataset\n",
        "data[\"text\"] = data[\"text\"].map(clean_num)\n",
        "data.head()"
      ]
    },
    {
      "cell_type": "code",
      "execution_count": null,
      "metadata": {
        "colab": {
          "base_uri": "https://localhost:8080/"
        },
        "id": "eEKy-JOKK2cq",
        "outputId": "23744b6a-e174-4c8e-ef47-b2fcefbc3b61"
      },
      "outputs": [
        {
          "output_type": "stream",
          "name": "stdout",
          "text": [
            "Remove emojis 😀 \n",
            "Remove emojis  \n"
          ]
        }
      ],
      "source": [
        "# I was able to find helpful resources to learn how to insert emojis in text and a function to remove\n",
        "# https://gist.github.com/slowkow/7a7f61f495e3dbb7e3d767f97bd7304b\n",
        "# https://www.makeuseof.com/how-to-include-emojis-in-your-python-code/\n",
        "\n",
        "# funtion to remove emojis\n",
        "def remove_emoji(text):\n",
        "    emoji_pattern = re.compile(\"[\"\n",
        "                               u\"\\U0001F600-\\U0001F64F\"  # emoticons\n",
        "                               u\"\\U0001F300-\\U0001F5FF\"  # symbols & pictographs\n",
        "                               u\"\\U0001F680-\\U0001F6FF\"  # transport & map symbols\n",
        "                               u\"\\U0001F1E0-\\U0001F1FF\"  # flags (iOS)\n",
        "                               u\"\\U00002500-\\U00002BEF\"  # chinese char\n",
        "                               u\"\\U00002702-\\U000027B0\"\n",
        "                               u\"\\U00002702-\\U000027B0\"\n",
        "                               u\"\\U000024C2-\\U0001F251\"\n",
        "                               u\"\\U0001f926-\\U0001f937\"\n",
        "                               u\"\\U00010000-\\U0010ffff\"\n",
        "                               u\"\\u2640-\\u2642\"\n",
        "                               u\"\\u2600-\\u2B55\"\n",
        "                               u\"\\u200d\"\n",
        "                               u\"\\u23cf\"\n",
        "                               u\"\\u23e9\"\n",
        "                               u\"\\u231a\"\n",
        "                               u\"\\ufe0f\"  # dingbats\n",
        "                               u\"\\u3030\"\n",
        "                               \"]+\", flags=re.UNICODE)\n",
        "    return emoji_pattern.sub(r'', text)\n",
        "\n",
        "# test to make sure function works correctly\n",
        "emoji_test = \"Remove emojis \\U0001F600 \"\n",
        "print(emoji_test)\n",
        "print(remove_emoji(emoji_test))\n",
        "\n",
        "# remove emojis from dataframe\n",
        "data[\"text\"] = data[\"text\"].map(remove_emoji)"
      ]
    },
    {
      "cell_type": "code",
      "execution_count": null,
      "metadata": {
        "id": "aBiMyTAr7Fsp"
      },
      "outputs": [],
      "source": [
        "twitter_df = data.copy()"
      ]
    },
    {
      "cell_type": "code",
      "execution_count": null,
      "metadata": {
        "colab": {
          "base_uri": "https://localhost:8080/"
        },
        "id": "02UXUPE7xuxj",
        "outputId": "57c6a414-0fd4-499e-af3d-184254a1030e"
      },
      "outputs": [
        {
          "output_type": "stream",
          "name": "stdout",
          "text": [
            "Dataset Split Shapes\n",
            "-----------------\n",
            "X_train shape: (5709,)\n",
            "y_train shape: (5709,)\n",
            "X_test shape: (1904,)\n",
            "y_test shape: (1904,)\n"
          ]
        }
      ],
      "source": [
        "# split and shuffle the datase\n",
        "X_train, X_test, y_train, y_test = train_test_split(twitter_df['text'], twitter_df['target'], random_state=42)\n",
        "\n",
        "# Display shape of dataset splits\n",
        "print(\"Dataset Split Shapes\")\n",
        "print(\"-----------------\")\n",
        "print(f\"X_train shape: {X_train.shape}\")\n",
        "print(f\"y_train shape: {y_train.shape}\")\n",
        "print(f\"X_test shape: {X_test.shape}\")\n",
        "print(f\"y_test shape: {y_test.shape}\")"
      ]
    },
    {
      "cell_type": "markdown",
      "metadata": {
        "id": "vIiyLIFj7ugx"
      },
      "source": [
        "**Using Keras Tokenizer**"
      ]
    },
    {
      "cell_type": "markdown",
      "source": [
        "A tokenizer is used to convert the string inputs into integers. Each unique word will be represented by an integer. First we tokenize each sequence of text, then pad or truncate the sequences to keep the input sequences the same size."
      ],
      "metadata": {
        "id": "xrwNqmR7zV4q"
      }
    },
    {
      "cell_type": "code",
      "execution_count": null,
      "metadata": {
        "id": "4ETlNSvv7WPW"
      },
      "outputs": [],
      "source": [
        "# Resources\n",
        "# https://www.tensorflow.org/api_docs/python/tf/keras/preprocessing/text/Tokenizer\n",
        "# https://www.tensorflow.org/api_docs/python/tf/keras/utils/pad_sequences\n",
        "\n",
        "vocab_size = 10000\n",
        "tokenizer = Tokenizer(num_words=vocab_size, oov_token=\"<oov>\")\n",
        "tokenizer.fit_on_texts(X_train)\n",
        "word_index = tokenizer.word_index\n",
        "X_train_sequences = tokenizer.texts_to_sequences(X_train)\n",
        "X_test_sequences = tokenizer.texts_to_sequences(X_test)\n",
        "X_train_padded = pad_sequences(X_train_sequences, maxlen=75, truncating='post')  # remove values from sequences larger than maxlen at end of sequence\n",
        "X_test_padded = pad_sequences(X_test_sequences, maxlen=75, truncating='post')"
      ]
    },
    {
      "cell_type": "code",
      "execution_count": null,
      "metadata": {
        "colab": {
          "base_uri": "https://localhost:8080/"
        },
        "id": "l6KXY-Nj1Lg6",
        "outputId": "26a74102-3b3b-49c9-ae69-496051482e8e"
      },
      "outputs": [
        {
          "name": "stdout",
          "output_type": "stream",
          "text": [
            "deeds reason earthquake may allah forgive us\n",
            "[7, 207, 153, 1, 343]\n"
          ]
        }
      ],
      "source": [
        "print(X_test[0])\n",
        "print(X_test_sequences[0])"
      ]
    },
    {
      "cell_type": "markdown",
      "metadata": {
        "id": "8xFOK3DgRRvW"
      },
      "source": [
        "Before begining my models, I designed some metric functions for binary classification to better understand the models performance."
      ]
    },
    {
      "cell_type": "code",
      "execution_count": null,
      "metadata": {
        "id": "tuABprztQaVN"
      },
      "outputs": [],
      "source": [
        "from keras import backend as K\n",
        "from keras.utils import metrics_utils\n",
        "\n",
        "\n",
        "# function to show confusion matrix and print all of the useful metric data from the confusion matrix\n",
        "def showConfusionMatrix(model, X_test, y_test):\n",
        "    # evaluating model performance on test dataset\n",
        "  y_pred = model.predict(X_test) > 0.5\n",
        "  cm = confusion_matrix(y_test, y_pred)\n",
        "  labels = ['Non-Disaster', 'Disaster']\n",
        "  tn, fp, fn, tp = confusion_matrix(y_test, y_pred).ravel()\n",
        "  # use these variables to perform the needed math\n",
        "  accuracy = ((tp + tn) / (tn + fp + fn + tp)) * 100\n",
        "  precision = (tp / (tp + fp)) * 100\n",
        "  misClass = 100 - accuracy\n",
        "  tpRate = (tp / (tp + fn)) * 100\n",
        "  tnRate = (tn / (tn + fp)) * 100\n",
        "  fpRate = (fp / (fp + tn)) * 100\n",
        "  fnRate = (fn / (fn + tp)) * 100\n",
        "\n",
        "    # print the results\n",
        "  print(\"Binary Classifcation Metrics\")\n",
        "  print(\"----------------------------\")\n",
        "  print(f\"Accuracy: {accuracy:.2f}%\")\n",
        "  print(f\"Precision: {precision:.2f}%\")\n",
        "  print(f\"Misclassification Rate: {misClass:.2f}%\")\n",
        "  print(f\"True Positive Rate(Disaster Tweet Label Accuracy): {tpRate:.2f}%\")\n",
        "  print(f\"True Negative Rate(Non-Disaster Tweet Label Accuracy): {tnRate:.2f}%\")\n",
        "  print(f\"False Positive Rate: {fpRate:.2f}%\")\n",
        "  print(f\"False Negative Rate: {fnRate:.2f}%\")\n",
        "\n",
        "\n",
        "  sb.heatmap(cm, square=True, annot=True, fmt='d', cbar=False, cmap='Blues',\n",
        "            xticklabels=labels, yticklabels=labels)\n",
        "\n",
        "  plt.xlabel('Predicted label')\n",
        "  plt.ylabel('Actual label')\n",
        "\n",
        "# learning curve plot function from book\n",
        "def plot_learning_curves(loss, val_loss):\n",
        "    plt.plot(np.arange(len(loss)) + 0.5, loss, \"b.-\", label=\"Training loss\")\n",
        "    plt.plot(np.arange(len(val_loss)) + 1, val_loss, \"r.-\", label=\"Validation loss\")\n",
        "    plt.gca().xaxis.set_major_locator(mpl.ticker.MaxNLocator(integer=True))\n",
        "    plt.axis([1, 20, 0, 0.05])\n",
        "    plt.legend(fontsize=14)\n",
        "    plt.xlabel(\"Epochs\")\n",
        "    plt.ylabel(\"Loss\")\n",
        "    plt.grid(True)"
      ]
    },
    {
      "cell_type": "markdown",
      "metadata": {
        "id": "FgYQyEySST4Q"
      },
      "source": [
        "###**Model 1: Simple LSTM Model**\n"
      ]
    },
    {
      "cell_type": "markdown",
      "metadata": {
        "id": "kPyOgeK0ShFK"
      },
      "source": [
        "![image.png](data:image/png;base64,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)\n"
      ]
    },
    {
      "cell_type": "markdown",
      "metadata": {
        "id": "ef2IrE5zVxnp"
      },
      "source": [
        "An LSTM cell can learn to recognize an important input (input gate), store it in the long-term state, preserve it for as long as it is needed (forget gate), and extract it whenever it is needed (output gate)."
      ]
    },
    {
      "cell_type": "markdown",
      "source": [
        "For NLP the architecture of an LSTM model remains fairly the same except the first layer is an embedding layer, which will convert word IDs into embeddings."
      ],
      "metadata": {
        "id": "xJG5iAGy021i"
      }
    },
    {
      "cell_type": "code",
      "execution_count": null,
      "metadata": {
        "id": "i55iqHhZSaZP"
      },
      "outputs": [],
      "source": [
        "# custom model\n",
        "def build_model(n_hidden=1, n_neurons=32, learning_rate=0.001, vocab_size=10000, emb_dim=32):\n",
        "  model = keras.models.Sequential()\n",
        "  model.add(keras.layers.Embedding(input_dim=vocab_size, output_dim=emb_dim, input_length=75 ))\n",
        "  for layer in range(n_hidden):\n",
        "    # loop to add return_sequences=True is more than 1 hidden layer and is not the last hidden layer\n",
        "    if n_hidden == 1:\n",
        "      model.add(keras.layers.LSTM(n_neurons))\n",
        "    elif layer != (n_hidden - 1):\n",
        "      model.add(keras.layers.LSTM(n_neurons, return_sequences=True))\n",
        "    else:\n",
        "      model.add(keras.layers.LSTM(n_neurons))\n",
        "  model.add(keras.layers.Dense(1, activation=\"sigmoid\"))\n",
        "  optimizer = keras.optimizers.Adam(learning_rate)\n",
        "  model.compile(loss=\"binary_crossentropy\", optimizer=optimizer, metrics=[\"accuracy\", tf.keras.metrics.Precision()])\n",
        "  return model"
      ]
    },
    {
      "cell_type": "code",
      "execution_count": null,
      "metadata": {
        "id": "BA5HCRf7cfbl"
      },
      "outputs": [],
      "source": [
        "model1 = build_model(1, 64)"
      ]
    },
    {
      "cell_type": "code",
      "execution_count": null,
      "metadata": {
        "colab": {
          "base_uri": "https://localhost:8080/"
        },
        "id": "XIzJAYR_dIMc",
        "outputId": "7c4b6738-9687-47b7-f480-8ffbdc8538df"
      },
      "outputs": [
        {
          "name": "stdout",
          "output_type": "stream",
          "text": [
            "Model: \"sequential\"\n",
            "_________________________________________________________________\n",
            " Layer (type)                Output Shape              Param #   \n",
            "=================================================================\n",
            " embedding (Embedding)       (None, 75, 32)            320000    \n",
            "                                                                 \n",
            " lstm (LSTM)                 (None, 64)                24832     \n",
            "                                                                 \n",
            " dense (Dense)               (None, 1)                 65        \n",
            "                                                                 \n",
            "=================================================================\n",
            "Total params: 344,897\n",
            "Trainable params: 344,897\n",
            "Non-trainable params: 0\n",
            "_________________________________________________________________\n"
          ]
        }
      ],
      "source": [
        "model1.summary()"
      ]
    },
    {
      "cell_type": "code",
      "source": [
        "early_stopping_cb = keras.callbacks.EarlyStopping(patience=10,\n",
        "                                                  restore_best_weights=True)"
      ],
      "metadata": {
        "id": "4fHh60BjNzCY"
      },
      "execution_count": null,
      "outputs": []
    },
    {
      "cell_type": "code",
      "execution_count": null,
      "metadata": {
        "colab": {
          "base_uri": "https://localhost:8080/"
        },
        "id": "df7r3Hx5dp0U",
        "outputId": "977c6f66-8e0a-4795-8d90-8e5c6220023d"
      },
      "outputs": [
        {
          "name": "stdout",
          "output_type": "stream",
          "text": [
            "Epoch 1/30\n",
            "179/179 [==============================] - 16s 72ms/step - loss: 0.5706 - accuracy: 0.7031 - precision: 0.8094 - val_loss: 0.4420 - val_accuracy: 0.7994 - val_precision: 0.8351\n",
            "Epoch 2/30\n",
            "179/179 [==============================] - 15s 85ms/step - loss: 0.3282 - accuracy: 0.8650 - precision: 0.8822 - val_loss: 0.4685 - val_accuracy: 0.7820 - val_precision: 0.7421\n",
            "Epoch 3/30\n",
            "179/179 [==============================] - 12s 68ms/step - loss: 0.2136 - accuracy: 0.9180 - precision: 0.9292 - val_loss: 0.5337 - val_accuracy: 0.7721 - val_precision: 0.7319\n",
            "Epoch 4/30\n",
            "179/179 [==============================] - 24s 132ms/step - loss: 0.1466 - accuracy: 0.9443 - precision: 0.9484 - val_loss: 0.6486 - val_accuracy: 0.7595 - val_precision: 0.7116\n",
            "Epoch 5/30\n",
            "179/179 [==============================] - 20s 115ms/step - loss: 0.1067 - accuracy: 0.9632 - precision: 0.9679 - val_loss: 0.7622 - val_accuracy: 0.7542 - val_precision: 0.7046\n",
            "Epoch 6/30\n",
            "179/179 [==============================] - 12s 68ms/step - loss: 0.0934 - accuracy: 0.9683 - precision: 0.9703 - val_loss: 0.7894 - val_accuracy: 0.7505 - val_precision: 0.6890\n",
            "Epoch 7/30\n",
            "179/179 [==============================] - 12s 68ms/step - loss: 0.0743 - accuracy: 0.9744 - precision: 0.9761 - val_loss: 0.7266 - val_accuracy: 0.7589 - val_precision: 0.8031\n",
            "Epoch 8/30\n",
            "179/179 [==============================] - 12s 68ms/step - loss: 0.0801 - accuracy: 0.9713 - precision: 0.9732 - val_loss: 0.9338 - val_accuracy: 0.7400 - val_precision: 0.6710\n",
            "Epoch 9/30\n",
            "179/179 [==============================] - 12s 69ms/step - loss: 0.0606 - accuracy: 0.9776 - precision: 0.9802 - val_loss: 0.9774 - val_accuracy: 0.7532 - val_precision: 0.6942\n",
            "Epoch 10/30\n",
            "179/179 [==============================] - 12s 67ms/step - loss: 0.0518 - accuracy: 0.9792 - precision: 0.9779 - val_loss: 1.0361 - val_accuracy: 0.7521 - val_precision: 0.6980\n",
            "Epoch 11/30\n",
            "179/179 [==============================] - 12s 68ms/step - loss: 0.0467 - accuracy: 0.9811 - precision: 0.9831 - val_loss: 1.1208 - val_accuracy: 0.7495 - val_precision: 0.6986\n"
          ]
        }
      ],
      "source": [
        "History1 = model1.fit(X_train_padded, y_train, epochs=30,\n",
        "              validation_data=(X_test_padded, y_test),\n",
        "              callbacks=[early_stopping_cb])"
      ]
    },
    {
      "cell_type": "code",
      "execution_count": null,
      "metadata": {
        "colab": {
          "base_uri": "https://localhost:8080/"
        },
        "id": "CDm3xD-xfjdM",
        "outputId": "306faae8-90bc-487e-f7f7-614c54992c05"
      },
      "outputs": [
        {
          "name": "stdout",
          "output_type": "stream",
          "text": [
            "60/60 [==============================] - 1s 17ms/step - loss: 0.4420 - accuracy: 0.7994 - precision: 0.8351\n"
          ]
        },
        {
          "data": {
            "text/plain": [
              "[0.44204407930374146, 0.799369752407074, 0.8351477384567261]"
            ]
          },
          "execution_count": 31,
          "metadata": {},
          "output_type": "execute_result"
        }
      ],
      "source": [
        "# model evaluation\n",
        "model1.evaluate(X_test_padded, y_test)"
      ]
    },
    {
      "cell_type": "code",
      "execution_count": null,
      "metadata": {
        "colab": {
          "base_uri": "https://localhost:8080/",
          "height": 456
        },
        "id": "0JFAdyTih2xI",
        "outputId": "3cde4503-4ad7-4205-f6b5-be341c36518b"
      },
      "outputs": [
        {
          "data": {
            "image/png": "[encoded data removed]",
            "text/plain": [
              "<Figure size 800x500 with 1 Axes>"
            ]
          },
          "metadata": {},
          "output_type": "display_data"
        }
      ],
      "source": [
        "# display learning curves\n",
        "pd.DataFrame(History1.history).plot(figsize=(8, 5))\n",
        "plt.grid(True)\n",
        "plt.gca().set_ylim(0, 1) # set the vertical range to [0-1]\n",
        "plt.show()"
      ]
    },
    {
      "cell_type": "markdown",
      "metadata": {
        "id": "yMGt_K3bvQHT"
      },
      "source": [
        "![ConfusionMatrixImg.png](data:image/png;base64,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)"
      ]
    },
    {
      "cell_type": "markdown",
      "metadata": {
        "id": "1a3INvW6wNil"
      },
      "source": [
        "**Understanding Confusion Matrix Terminology**\n",
        "- True Positive(TP): is an outcome where the model correctly predicts the positive class\n",
        "\n",
        "- True Negative(TN): is an outcome where the model correctly predicts the negative class.\n",
        "\n",
        "- False Positive(FP): is an outcome where the model incorrectly predicts the positive class.\n",
        "\n",
        "- False Negative(FN): is an outcome where the model incorrectly predicts the negative class.\n",
        "\n",
        "- True Positive Rate(TPR): the ratio of correctly classified positives to the total number of positive instances in the data. TPR = tp / (tp + fn)\n",
        "\n",
        "- True Negative Rate(TNR): the ratio of correctly classified negatives to the total number of negative instances in the data. TNR = tn / (tn + fp)\n",
        "\n",
        "- False Positive Rate(FPR): the ratio of negatives in the data which are incorrectly classified as positives to the total number of negative instances in the data. FPR = fp / (fp + tn)\n",
        "\n",
        "- False Negative Rate(FNR):  the ratio of positive instances in the data which are incorrectly classified as negatives to the total number of positive instances in the data. FNR = fn / (fn + tp)\n",
        "\n",
        "- You want to see the data consist mostly of true positive and true negatives.\n",
        "\n",
        "- The aim is to have a high TPR & TNR and a low FPR & FNR"
      ]
    },
    {
      "cell_type": "code",
      "execution_count": null,
      "metadata": {
        "colab": {
          "base_uri": "https://localhost:8080/",
          "height": 632
        },
        "id": "AyIH81jMgpRi",
        "outputId": "e1a6451d-df38-46d2-d13f-300cac2d67ad"
      },
      "outputs": [
        {
          "name": "stdout",
          "output_type": "stream",
          "text": [
            "60/60 [==============================] - 1s 17ms/step\n",
            "Binary Classifcation Metrics\n",
            "----------------------------\n",
            "Accuracy: 79.94%\n",
            "Precision: 83.51%\n",
            "Misclassification Rate: 20.06%\n",
            "True Positive Rate(Disaster Tweet Label Accuracy): 66.05%\n",
            "True Negative Rate(Non-Disaster Tweet Label Accuracy): 90.28%\n",
            "False Positive Rate: 9.72%\n",
            "False Negative Rate: 33.95%\n"
          ]
        },
        {
          "data": {
            "image/png": "[encoded data removed]",
            "text/plain": [
              "<Figure size 640x480 with 1 Axes>"
            ]
          },
          "metadata": {},
          "output_type": "display_data"
        }
      ],
      "source": [
        "showConfusionMatrix(model1, X_test_padded, y_test)"
      ]
    },
    {
      "cell_type": "markdown",
      "metadata": {
        "id": "B5KtFRDVyshd"
      },
      "source": [
        "####**Model 1 Conclusion:**\n",
        "- At the end of training: Accuracy=98.11%, Val_Accuracy = 74.95%\n",
        "- Test Set: Accuracy=79.94%\n",
        "- The validation loss skyrocketed early into training. The model is overfitting, resulting in worse val and test accuracy even though training accuracy is good.\n",
        "- When examining the confusion matrix metrics we can see that the models overall does well in detecting non-disaster tweets. TNR=90.28%.\n",
        "- In the confusion matrix we can also see that the model does not do as well when making predictions on tweets that are actuallty disaster tweets. TPR=66.05%, meaning the model mislabels these tweets as non-disaster 33.95%(FNR)"
      ]
    },
    {
      "cell_type": "markdown",
      "metadata": {
        "id": "Pf3I9jXL17gG"
      },
      "source": [
        "###**Models 2-5: LSTM - Parameter tuning and additional layers**"
      ]
    },
    {
      "cell_type": "markdown",
      "metadata": {
        "id": "l6fMlNmlCyq4"
      },
      "source": [
        "Here I am just going to tinker with a bunch of models and see what works. Model 2 will be to evaulate the difference of a hidden layer, model 3 will be the same architecture with a different learning rate."
      ]
    },
    {
      "cell_type": "code",
      "execution_count": null,
      "metadata": {
        "id": "AteQQQdy1or5"
      },
      "outputs": [],
      "source": [
        "# build models\n",
        "model2 = build_model(2, 64)\n",
        "model3 = build_model(2, 64, learning_rate=0.0001)"
      ]
    },
    {
      "cell_type": "code",
      "execution_count": null,
      "metadata": {
        "colab": {
          "base_uri": "https://localhost:8080/"
        },
        "id": "mf7BhP-ZA5vR",
        "outputId": "16e8aca3-10aa-4fbb-9856-57c7a461b36a"
      },
      "outputs": [
        {
          "name": "stdout",
          "output_type": "stream",
          "text": [
            "Model: \"sequential_18\"\n",
            "_________________________________________________________________\n",
            " Layer (type)                Output Shape              Param #   \n",
            "=================================================================\n",
            " embedding_18 (Embedding)    (None, 75, 32)            320000    \n",
            "                                                                 \n",
            " lstm_33 (LSTM)              (None, 75, 64)            24832     \n",
            "                                                                 \n",
            " lstm_34 (LSTM)              (None, 64)                33024     \n",
            "                                                                 \n",
            " dense_17 (Dense)            (None, 1)                 65        \n",
            "                                                                 \n",
            "=================================================================\n",
            "Total params: 377,921\n",
            "Trainable params: 377,921\n",
            "Non-trainable params: 0\n",
            "_________________________________________________________________\n"
          ]
        }
      ],
      "source": [
        "model2.summary()"
      ]
    },
    {
      "cell_type": "code",
      "execution_count": null,
      "metadata": {
        "colab": {
          "base_uri": "https://localhost:8080/"
        },
        "id": "M0vH_az7Ccra",
        "outputId": "e75a1422-de54-4eae-dd01-71437d14af03"
      },
      "outputs": [
        {
          "name": "stdout",
          "output_type": "stream",
          "text": [
            "Model: \"sequential_19\"\n",
            "_________________________________________________________________\n",
            " Layer (type)                Output Shape              Param #   \n",
            "=================================================================\n",
            " embedding_19 (Embedding)    (None, 75, 32)            320000    \n",
            "                                                                 \n",
            " lstm_35 (LSTM)              (None, 75, 64)            24832     \n",
            "                                                                 \n",
            " lstm_36 (LSTM)              (None, 64)                33024     \n",
            "                                                                 \n",
            " dense_18 (Dense)            (None, 1)                 65        \n",
            "                                                                 \n",
            "=================================================================\n",
            "Total params: 377,921\n",
            "Trainable params: 377,921\n",
            "Non-trainable params: 0\n",
            "_________________________________________________________________\n"
          ]
        }
      ],
      "source": [
        "model3.summary()"
      ]
    },
    {
      "cell_type": "code",
      "execution_count": null,
      "metadata": {
        "colab": {
          "base_uri": "https://localhost:8080/"
        },
        "id": "MBYAeeUnDHfU",
        "outputId": "39043bca-7667-4923-a77d-1ff328eaea30"
      },
      "outputs": [
        {
          "name": "stdout",
          "output_type": "stream",
          "text": [
            "Epoch 1/30\n",
            "179/179 [==============================] - 29s 137ms/step - loss: 0.5674 - accuracy: 0.7036 - precision_17: 0.8069 - val_loss: 0.4457 - val_accuracy: 0.7936 - val_precision_17: 0.8387\n",
            "Epoch 2/30\n",
            "179/179 [==============================] - 23s 131ms/step - loss: 0.3268 - accuracy: 0.8651 - precision_17: 0.8812 - val_loss: 0.4770 - val_accuracy: 0.7757 - val_precision_17: 0.7271\n",
            "Epoch 3/30\n",
            "179/179 [==============================] - 23s 128ms/step - loss: 0.2158 - accuracy: 0.9164 - precision_17: 0.9220 - val_loss: 0.5287 - val_accuracy: 0.7784 - val_precision_17: 0.7435\n",
            "Epoch 4/30\n",
            "179/179 [==============================] - 22s 121ms/step - loss: 0.1533 - accuracy: 0.9438 - precision_17: 0.9458 - val_loss: 0.6651 - val_accuracy: 0.7605 - val_precision_17: 0.7022\n",
            "Epoch 5/30\n",
            "179/179 [==============================] - 23s 131ms/step - loss: 0.1166 - accuracy: 0.9581 - precision_17: 0.9609 - val_loss: 0.7370 - val_accuracy: 0.7642 - val_precision_17: 0.7209\n",
            "Epoch 6/30\n",
            "179/179 [==============================] - 23s 131ms/step - loss: 0.1002 - accuracy: 0.9681 - precision_17: 0.9702 - val_loss: 0.8269 - val_accuracy: 0.7495 - val_precision_17: 0.6981\n",
            "Epoch 7/30\n",
            "179/179 [==============================] - 22s 124ms/step - loss: 0.0874 - accuracy: 0.9702 - precision_17: 0.9751 - val_loss: 0.7739 - val_accuracy: 0.7658 - val_precision_17: 0.7559\n",
            "Epoch 8/30\n",
            "179/179 [==============================] - 23s 126ms/step - loss: 0.0754 - accuracy: 0.9744 - precision_17: 0.9765 - val_loss: 0.8741 - val_accuracy: 0.7411 - val_precision_17: 0.6794\n",
            "Epoch 9/30\n",
            "179/179 [==============================] - 23s 131ms/step - loss: 0.0591 - accuracy: 0.9771 - precision_17: 0.9778 - val_loss: 1.1671 - val_accuracy: 0.7537 - val_precision_17: 0.6982\n",
            "Epoch 10/30\n",
            "179/179 [==============================] - 23s 127ms/step - loss: 0.0471 - accuracy: 0.9800 - precision_17: 0.9823 - val_loss: 1.1823 - val_accuracy: 0.7558 - val_precision_17: 0.7143\n",
            "Epoch 11/30\n",
            "179/179 [==============================] - 21s 120ms/step - loss: 0.0453 - accuracy: 0.9818 - precision_17: 0.9872 - val_loss: 1.2641 - val_accuracy: 0.7453 - val_precision_17: 0.6948\n"
          ]
        }
      ],
      "source": [
        "history2 = model2.fit(X_train_padded, y_train, epochs=30,\n",
        "              validation_data=(X_test_padded, y_test),\n",
        "              callbacks=[early_stopping_cb])"
      ]
    },
    {
      "cell_type": "code",
      "execution_count": null,
      "metadata": {
        "colab": {
          "base_uri": "https://localhost:8080/"
        },
        "id": "-3DzM28mEUdi",
        "outputId": "3706b755-7777-438b-bda2-bc882cac17dd"
      },
      "outputs": [
        {
          "name": "stdout",
          "output_type": "stream",
          "text": [
            "60/60 [==============================] - 2s 36ms/step - loss: 0.4457 - accuracy: 0.7936 - precision_17: 0.8387\n"
          ]
        },
        {
          "data": {
            "text/plain": [
              "[0.44573211669921875, 0.7935924530029297, 0.8387096524238586]"
            ]
          },
          "execution_count": 70,
          "metadata": {},
          "output_type": "execute_result"
        }
      ],
      "source": [
        "# model evaluation\n",
        "model2.evaluate(X_test_padded, y_test)"
      ]
    },
    {
      "cell_type": "markdown",
      "metadata": {
        "id": "N9CR_JMJEjRe"
      },
      "source": [
        "This model recieved an almost identical accuracy as model 1. The addition of another hidden layer did not strengthen the model."
      ]
    },
    {
      "cell_type": "code",
      "execution_count": null,
      "metadata": {
        "colab": {
          "base_uri": "https://localhost:8080/"
        },
        "id": "53s3At3CEvT0",
        "outputId": "c1933c92-48b4-4303-9ae6-aa178b355abd"
      },
      "outputs": [
        {
          "name": "stdout",
          "output_type": "stream",
          "text": [
            "Epoch 1/30\n",
            "179/179 [==============================] - 29s 137ms/step - loss: 0.6841 - accuracy: 0.5658 - precision_18: 0.3704 - val_loss: 0.6763 - val_accuracy: 0.5730 - val_precision_18: 0.0000e+00\n",
            "Epoch 2/30\n",
            "179/179 [==============================] - 23s 129ms/step - loss: 0.6691 - accuracy: 0.5766 - precision_18: 0.9767 - val_loss: 0.6470 - val_accuracy: 0.6166 - val_precision_18: 0.9663\n",
            "Epoch 3/30\n",
            "179/179 [==============================] - 21s 120ms/step - loss: 0.5625 - accuracy: 0.7322 - precision_18: 0.7909 - val_loss: 0.4836 - val_accuracy: 0.7820 - val_precision_18: 0.8273\n",
            "Epoch 4/30\n",
            "179/179 [==============================] - 24s 132ms/step - loss: 0.3909 - accuracy: 0.8359 - precision_18: 0.8575 - val_loss: 0.4575 - val_accuracy: 0.8036 - val_precision_18: 0.8204\n",
            "Epoch 5/30\n",
            "179/179 [==============================] - 25s 141ms/step - loss: 0.3183 - accuracy: 0.8720 - precision_18: 0.8927 - val_loss: 0.4599 - val_accuracy: 0.7978 - val_precision_18: 0.8066\n",
            "Epoch 6/30\n",
            "179/179 [==============================] - 24s 133ms/step - loss: 0.2683 - accuracy: 0.8933 - precision_18: 0.9118 - val_loss: 0.4834 - val_accuracy: 0.7988 - val_precision_18: 0.7937\n",
            "Epoch 7/30\n",
            "179/179 [==============================] - 22s 125ms/step - loss: 0.2278 - accuracy: 0.9142 - precision_18: 0.9304 - val_loss: 0.5043 - val_accuracy: 0.7920 - val_precision_18: 0.7966\n",
            "Epoch 8/30\n",
            "179/179 [==============================] - 23s 126ms/step - loss: 0.2004 - accuracy: 0.9252 - precision_18: 0.9409 - val_loss: 0.5304 - val_accuracy: 0.7915 - val_precision_18: 0.7640\n",
            "Epoch 9/30\n",
            "179/179 [==============================] - 31s 174ms/step - loss: 0.1746 - accuracy: 0.9357 - precision_18: 0.9497 - val_loss: 0.5556 - val_accuracy: 0.7952 - val_precision_18: 0.7674\n",
            "Epoch 10/30\n",
            "179/179 [==============================] - 23s 126ms/step - loss: 0.1521 - accuracy: 0.9432 - precision_18: 0.9510 - val_loss: 0.6075 - val_accuracy: 0.7857 - val_precision_18: 0.7497\n",
            "Epoch 11/30\n",
            "179/179 [==============================] - 24s 132ms/step - loss: 0.1334 - accuracy: 0.9524 - precision_18: 0.9620 - val_loss: 0.6294 - val_accuracy: 0.7784 - val_precision_18: 0.7364\n",
            "Epoch 12/30\n",
            "179/179 [==============================] - 24s 132ms/step - loss: 0.1198 - accuracy: 0.9545 - precision_18: 0.9606 - val_loss: 0.6630 - val_accuracy: 0.7773 - val_precision_18: 0.7398\n",
            "Epoch 13/30\n",
            "179/179 [==============================] - 23s 127ms/step - loss: 0.1095 - accuracy: 0.9606 - precision_18: 0.9693 - val_loss: 0.7014 - val_accuracy: 0.7789 - val_precision_18: 0.7469\n",
            "Epoch 14/30\n",
            "179/179 [==============================] - 23s 126ms/step - loss: 0.0993 - accuracy: 0.9622 - precision_18: 0.9679 - val_loss: 0.6964 - val_accuracy: 0.7715 - val_precision_18: 0.7250\n"
          ]
        }
      ],
      "source": [
        "# train model 3\n",
        "history3 = model3.fit(X_train_padded, y_train, epochs=30,\n",
        "              validation_data=(X_test_padded, y_test),\n",
        "              callbacks=[early_stopping_cb])"
      ]
    },
    {
      "cell_type": "code",
      "execution_count": null,
      "metadata": {
        "colab": {
          "base_uri": "https://localhost:8080/"
        },
        "id": "JlwepU2ZGJ9M",
        "outputId": "5b312af7-d28b-4a5e-9354-f006466c2a97"
      },
      "outputs": [
        {
          "name": "stdout",
          "output_type": "stream",
          "text": [
            "60/60 [==============================] - 2s 34ms/step - loss: 0.4575 - accuracy: 0.8036 - precision_18: 0.8204\n"
          ]
        },
        {
          "data": {
            "text/plain": [
              "[0.45753443241119385, 0.8035714030265808, 0.8204379677772522]"
            ]
          },
          "execution_count": 72,
          "metadata": {},
          "output_type": "execute_result"
        }
      ],
      "source": [
        "# model evaluation\n",
        "model3.evaluate(X_test_padded, y_test)"
      ]
    },
    {
      "cell_type": "markdown",
      "metadata": {
        "id": "-YqzHmuEGsTQ"
      },
      "source": [
        "#### Models 2-3 Conclusions:\n",
        "- The addition of a hidden layer did not strengthen the model.\n",
        "- The change in learning rate (from 0.001 to 0.0001) helped the model perform slightly better. The validation loss for model 3 was half of what the model loss for model 2 was through 11 epochs of training."
      ]
    },
    {
      "cell_type": "markdown",
      "metadata": {
        "id": "PY6WN_1Cdsl6"
      },
      "source": [
        "In models 4 and 5 I used on lstm layer as model 2 showed the addition of another layer doesn't gain much improvement. I decided to try more and less neurons in the lstm layer to see how the models would change. I also tried a learning rate that had worked well for me in a previous binary classification task."
      ]
    },
    {
      "cell_type": "code",
      "execution_count": null,
      "metadata": {
        "id": "s2k3NNZ5HDnQ"
      },
      "outputs": [],
      "source": [
        "model4 = build_model(1, 32, learning_rate=0.0003)\n",
        "model5 = build_model(1, 128, learning_rate=0.0003)"
      ]
    },
    {
      "cell_type": "code",
      "execution_count": null,
      "metadata": {
        "colab": {
          "base_uri": "https://localhost:8080/"
        },
        "id": "helOndyqHZS_",
        "outputId": "64164f2a-f704-486d-d250-8ff0f48bc3cc"
      },
      "outputs": [
        {
          "name": "stdout",
          "output_type": "stream",
          "text": [
            "Epoch 1/30\n",
            "179/179 [==============================] - 13s 49ms/step - loss: 0.6719 - accuracy: 0.5707 - precision_23: 0.5255 - val_loss: 0.6356 - val_accuracy: 0.6292 - val_precision_23: 0.9820\n",
            "Epoch 2/30\n",
            "179/179 [==============================] - 10s 53ms/step - loss: 0.5233 - accuracy: 0.7623 - precision_23: 0.8638 - val_loss: 0.4646 - val_accuracy: 0.7962 - val_precision_23: 0.8031\n",
            "Epoch 3/30\n",
            "179/179 [==============================] - 9s 53ms/step - loss: 0.3563 - accuracy: 0.8576 - precision_23: 0.8863 - val_loss: 0.4438 - val_accuracy: 0.8072 - val_precision_23: 0.8106\n",
            "Epoch 4/30\n",
            "179/179 [==============================] - 9s 50ms/step - loss: 0.2703 - accuracy: 0.8954 - precision_23: 0.9069 - val_loss: 0.4555 - val_accuracy: 0.7983 - val_precision_23: 0.7903\n",
            "Epoch 5/30\n",
            "179/179 [==============================] - 9s 53ms/step - loss: 0.2164 - accuracy: 0.9196 - precision_23: 0.9332 - val_loss: 0.4791 - val_accuracy: 0.7931 - val_precision_23: 0.7782\n",
            "Epoch 6/30\n",
            "179/179 [==============================] - 11s 59ms/step - loss: 0.1769 - accuracy: 0.9354 - precision_23: 0.9424 - val_loss: 0.5196 - val_accuracy: 0.7862 - val_precision_23: 0.7550\n",
            "Epoch 7/30\n",
            "179/179 [==============================] - 9s 52ms/step - loss: 0.1460 - accuracy: 0.9455 - precision_23: 0.9528 - val_loss: 0.5420 - val_accuracy: 0.7862 - val_precision_23: 0.7603\n",
            "Epoch 8/30\n",
            "179/179 [==============================] - 8s 45ms/step - loss: 0.1219 - accuracy: 0.9538 - precision_23: 0.9609 - val_loss: 0.5507 - val_accuracy: 0.7773 - val_precision_23: 0.7313\n",
            "Epoch 9/30\n",
            "179/179 [==============================] - 9s 53ms/step - loss: 0.1126 - accuracy: 0.9613 - precision_23: 0.9662 - val_loss: 0.5948 - val_accuracy: 0.7820 - val_precision_23: 0.7538\n",
            "Epoch 10/30\n",
            "179/179 [==============================] - 10s 53ms/step - loss: 0.0945 - accuracy: 0.9678 - precision_23: 0.9722 - val_loss: 0.6583 - val_accuracy: 0.7658 - val_precision_23: 0.7187\n",
            "Epoch 11/30\n",
            "179/179 [==============================] - 8s 45ms/step - loss: 0.0852 - accuracy: 0.9718 - precision_23: 0.9775 - val_loss: 0.6983 - val_accuracy: 0.7731 - val_precision_23: 0.7326\n",
            "Epoch 12/30\n",
            "179/179 [==============================] - 9s 53ms/step - loss: 0.0780 - accuracy: 0.9709 - precision_23: 0.9732 - val_loss: 0.7110 - val_accuracy: 0.7600 - val_precision_23: 0.7009\n",
            "Epoch 13/30\n",
            "179/179 [==============================] - 9s 53ms/step - loss: 0.0722 - accuracy: 0.9734 - precision_23: 0.9784 - val_loss: 0.7419 - val_accuracy: 0.7763 - val_precision_23: 0.7440\n"
          ]
        }
      ],
      "source": [
        "# train model 4\n",
        "history4 = model4.fit(X_train_padded, y_train, epochs=30,\n",
        "              validation_data=(X_test_padded, y_test),\n",
        "              callbacks=[early_stopping_cb])"
      ]
    },
    {
      "cell_type": "code",
      "execution_count": null,
      "metadata": {
        "colab": {
          "base_uri": "https://localhost:8080/"
        },
        "id": "qsq61DiHIcol",
        "outputId": "63025594-3b3f-4d11-d2d7-66a3ef44ff1c"
      },
      "outputs": [
        {
          "name": "stdout",
          "output_type": "stream",
          "text": [
            "Epoch 1/30\n",
            "179/179 [==============================] - 29s 149ms/step - loss: 0.6626 - accuracy: 0.6047 - precision_24: 0.7107 - val_loss: 0.5818 - val_accuracy: 0.7516 - val_precision_24: 0.8386\n",
            "Epoch 2/30\n",
            "179/179 [==============================] - 26s 144ms/step - loss: 0.4543 - accuracy: 0.8068 - precision_24: 0.8498 - val_loss: 0.4382 - val_accuracy: 0.8046 - val_precision_24: 0.8016\n",
            "Epoch 3/30\n",
            "179/179 [==============================] - 26s 144ms/step - loss: 0.3306 - accuracy: 0.8690 - precision_24: 0.9029 - val_loss: 0.4319 - val_accuracy: 0.8093 - val_precision_24: 0.8178\n",
            "Epoch 4/30\n",
            "179/179 [==============================] - 26s 143ms/step - loss: 0.2521 - accuracy: 0.8989 - precision_24: 0.9163 - val_loss: 0.4694 - val_accuracy: 0.7941 - val_precision_24: 0.7545\n",
            "Epoch 5/30\n",
            "179/179 [==============================] - 26s 144ms/step - loss: 0.1935 - accuracy: 0.9268 - precision_24: 0.9412 - val_loss: 0.5183 - val_accuracy: 0.7799 - val_precision_24: 0.7391\n",
            "Epoch 6/30\n",
            "179/179 [==============================] - 27s 152ms/step - loss: 0.1499 - accuracy: 0.9415 - precision_24: 0.9566 - val_loss: 0.5641 - val_accuracy: 0.7910 - val_precision_24: 0.7623\n",
            "Epoch 7/30\n",
            "179/179 [==============================] - 27s 153ms/step - loss: 0.1222 - accuracy: 0.9527 - precision_24: 0.9640 - val_loss: 0.6437 - val_accuracy: 0.7894 - val_precision_24: 0.7869\n",
            "Epoch 8/30\n",
            "179/179 [==============================] - 28s 157ms/step - loss: 0.1024 - accuracy: 0.9604 - precision_24: 0.9685 - val_loss: 0.6698 - val_accuracy: 0.7715 - val_precision_24: 0.7172\n",
            "Epoch 9/30\n",
            "179/179 [==============================] - 26s 146ms/step - loss: 0.0918 - accuracy: 0.9655 - precision_24: 0.9708 - val_loss: 0.6974 - val_accuracy: 0.7763 - val_precision_24: 0.7345\n",
            "Epoch 10/30\n",
            "179/179 [==============================] - 26s 145ms/step - loss: 0.0829 - accuracy: 0.9695 - precision_24: 0.9735 - val_loss: 0.7481 - val_accuracy: 0.7721 - val_precision_24: 0.7354\n",
            "Epoch 11/30\n",
            "179/179 [==============================] - 26s 144ms/step - loss: 0.0734 - accuracy: 0.9725 - precision_24: 0.9792 - val_loss: 0.8579 - val_accuracy: 0.7642 - val_precision_24: 0.7121\n",
            "Epoch 12/30\n",
            "179/179 [==============================] - 28s 156ms/step - loss: 0.0677 - accuracy: 0.9725 - precision_24: 0.9733 - val_loss: 0.8624 - val_accuracy: 0.7595 - val_precision_24: 0.6992\n",
            "Epoch 13/30\n",
            "179/179 [==============================] - 26s 146ms/step - loss: 0.0649 - accuracy: 0.9748 - precision_24: 0.9765 - val_loss: 0.9338 - val_accuracy: 0.7684 - val_precision_24: 0.7291\n"
          ]
        }
      ],
      "source": [
        "# train model 5\n",
        "history5 = model5.fit(X_train_padded, y_train, epochs=30,\n",
        "              validation_data=(X_test_padded, y_test),\n",
        "              callbacks=[early_stopping_cb])"
      ]
    },
    {
      "cell_type": "code",
      "execution_count": null,
      "metadata": {
        "colab": {
          "base_uri": "https://localhost:8080/"
        },
        "id": "7w29idUZP_xS",
        "outputId": "b06534fa-3178-4123-990d-fee33b63903d"
      },
      "outputs": [
        {
          "name": "stdout",
          "output_type": "stream",
          "text": [
            "60/60 [==============================] - 1s 15ms/step - loss: 0.4438 - accuracy: 0.8072 - precision_23: 0.8106\n"
          ]
        },
        {
          "data": {
            "text/plain": [
              "[0.443827360868454, 0.8072478771209717, 0.8105849623680115]"
            ]
          },
          "execution_count": 80,
          "metadata": {},
          "output_type": "execute_result"
        }
      ],
      "source": [
        "# model evaluation\n",
        "model4.evaluate(X_test_padded, y_test)"
      ]
    },
    {
      "cell_type": "code",
      "execution_count": null,
      "metadata": {
        "colab": {
          "base_uri": "https://localhost:8080/"
        },
        "id": "sGs4EzoqROUF",
        "outputId": "6095109d-b22f-4f4e-dd82-4ed8a61d22d4"
      },
      "outputs": [
        {
          "name": "stdout",
          "output_type": "stream",
          "text": [
            "60/60 [==============================] - 4s 65ms/step - loss: 0.4319 - accuracy: 0.8093 - precision_24: 0.8178\n"
          ]
        },
        {
          "data": {
            "text/plain": [
              "[0.43193361163139343, 0.8093487620353699, 0.8177965879440308]"
            ]
          },
          "execution_count": 81,
          "metadata": {},
          "output_type": "execute_result"
        }
      ],
      "source": [
        "# model evaluation\n",
        "model5.evaluate(X_test_padded, y_test)"
      ]
    },
    {
      "cell_type": "code",
      "execution_count": null,
      "metadata": {
        "colab": {
          "base_uri": "https://localhost:8080/",
          "height": 632
        },
        "id": "ZW-6Zw4yUhyq",
        "outputId": "508a1708-ff40-4122-bd26-808748706ebe"
      },
      "outputs": [
        {
          "name": "stdout",
          "output_type": "stream",
          "text": [
            "60/60 [==============================] - 7s 77ms/step\n",
            "Binary Classifcation Metrics\n",
            "----------------------------\n",
            "Accuracy: 80.93%\n",
            "Precision: 81.78%\n",
            "Misclassification Rate: 19.07%\n",
            "True Positive Rate(Disaster Tweet Label Accuracy): 71.22%\n",
            "True Negative Rate(Non-Disaster Tweet Label Accuracy): 88.18%\n",
            "False Positive Rate: 11.82%\n",
            "False Negative Rate: 28.78%\n"
          ]
        },
        {
          "data": {
            "image/png": "[encoded data removed]",
            "text/plain": [
              "<Figure size 640x480 with 1 Axes>"
            ]
          },
          "metadata": {},
          "output_type": "display_data"
        }
      ],
      "source": [
        "showConfusionMatrix(model5, X_test_padded, y_test)"
      ]
    },
    {
      "cell_type": "markdown",
      "metadata": {
        "id": "kuw7csCrenOR"
      },
      "source": [
        "####**Models 4-5 Conclusions:**\n",
        "- Model 4 with 32 neurons was average to say the least.\n",
        "- Model 5 with 128 neurons had the best test accuracy of 80.93%, a 1% increase from where we started. Model 5 had a better TPR than model 1, but a lower TNR.\n"
      ]
    },
    {
      "cell_type": "code",
      "execution_count": null,
      "metadata": {
        "id": "YlVFEHQklVUx"
      },
      "outputs": [],
      "source": [
        "from scipy.stats import reciprocal\n",
        "from sklearn.model_selection import RandomizedSearchCV"
      ]
    },
    {
      "cell_type": "markdown",
      "source": [
        "###**Hyperparameter Tuning**"
      ],
      "metadata": {
        "id": "ofRONzAZMqyE"
      }
    },
    {
      "cell_type": "code",
      "execution_count": null,
      "metadata": {
        "colab": {
          "base_uri": "https://localhost:8080/"
        },
        "id": "JODMCyvbmQik",
        "outputId": "8ba78208-41a3-49b4-a36d-117b0f956240"
      },
      "outputs": [
        {
          "name": "stderr",
          "output_type": "stream",
          "text": [
            "<ipython-input-125-da04424654c8>:1: DeprecationWarning: KerasClassifier is deprecated, use Sci-Keras (https://github.com/adriangb/scikeras) instead. See https://www.adriangb.com/scikeras/stable/migration.html for help migrating.\n",
            "  keras_class = keras.wrappers.scikit_learn.KerasClassifier(build_model)\n"
          ]
        }
      ],
      "source": [
        "keras_class = keras.wrappers.scikit_learn.KerasClassifier(build_model)"
      ]
    },
    {
      "cell_type": "code",
      "execution_count": null,
      "metadata": {
        "id": "fSggU8bRmdAx"
      },
      "outputs": [],
      "source": [
        "param_distribs = {\n",
        "   \"n_neurons\": np.arange(64, 256),\n",
        "   \"learning_rate\": reciprocal(3e-4, 3e-2),\n",
        "   \"emb_dim\": [32, 64, 128]\n",
        "}"
      ]
    },
    {
      "cell_type": "code",
      "execution_count": null,
      "metadata": {
        "colab": {
          "background_save": true,
          "base_uri": "https://localhost:8080/"
        },
        "id": "MXaXbGeZoQ63",
        "outputId": "bdbfcf67-8e15-4c87-a278-cb9324498b4d"
      },
      "outputs": [
        {
          "name": "stdout",
          "output_type": "stream",
          "text": [
            "Epoch 1/30\n",
            "119/119 [==============================] - 17s 121ms/step - loss: 0.5459 - accuracy: 0.7315 - precision_33: 0.7494 - val_loss: 0.4853 - val_accuracy: 0.7736 - val_precision_33: 0.7624\n",
            "Epoch 2/30\n",
            "119/119 [==============================] - 13s 113ms/step - loss: 0.2815 - accuracy: 0.8836 - precision_33: 0.8860 - val_loss: 0.5947 - val_accuracy: 0.7579 - val_precision_33: 0.7573\n",
            "Epoch 3/30\n",
            "119/119 [==============================] - 13s 113ms/step - loss: 0.1518 - accuracy: 0.9422 - precision_33: 0.9457 - val_loss: 0.8451 - val_accuracy: 0.7532 - val_precision_33: 0.7174\n",
            "Epoch 4/30\n",
            "119/119 [==============================] - 13s 113ms/step - loss: 0.0878 - accuracy: 0.9611 - precision_33: 0.9596 - val_loss: 0.9290 - val_accuracy: 0.7395 - val_precision_33: 0.6863\n",
            "Epoch 5/30\n",
            "119/119 [==============================] - 14s 114ms/step - loss: 0.0568 - accuracy: 0.9745 - precision_33: 0.9772 - val_loss: 1.0961 - val_accuracy: 0.7484 - val_precision_33: 0.7032\n",
            "Epoch 6/30\n",
            "119/119 [==============================] - 15s 124ms/step - loss: 0.0438 - accuracy: 0.9808 - precision_33: 0.9864 - val_loss: 1.3151 - val_accuracy: 0.7474 - val_precision_33: 0.6882\n",
            "Epoch 7/30\n",
            "119/119 [==============================] - 15s 120ms/step - loss: 0.0391 - accuracy: 0.9834 - precision_33: 0.9901 - val_loss: 1.2184 - val_accuracy: 0.7505 - val_precision_33: 0.7102\n",
            "Epoch 8/30\n",
            "119/119 [==============================] - 16s 131ms/step - loss: 0.0325 - accuracy: 0.9855 - precision_33: 0.9914 - val_loss: 1.4284 - val_accuracy: 0.7374 - val_precision_33: 0.6718\n",
            "Epoch 9/30\n",
            "119/119 [==============================] - 13s 113ms/step - loss: 0.0312 - accuracy: 0.9853 - precision_33: 0.9884 - val_loss: 1.4528 - val_accuracy: 0.7553 - val_precision_33: 0.7193\n",
            "Epoch 10/30\n",
            "119/119 [==============================] - 14s 114ms/step - loss: 0.0280 - accuracy: 0.9855 - precision_33: 0.9878 - val_loss: 1.5518 - val_accuracy: 0.7542 - val_precision_33: 0.7127\n",
            "Epoch 11/30\n",
            "119/119 [==============================] - 14s 115ms/step - loss: 0.0279 - accuracy: 0.9869 - precision_33: 0.9902 - val_loss: 1.5531 - val_accuracy: 0.7489 - val_precision_33: 0.7128\n",
            "60/60 [==============================] - 2s 21ms/step - loss: 0.4804 - accuracy: 0.7842 - precision_33: 0.8139\n",
            "Epoch 1/30\n",
            "119/119 [==============================] - 16s 112ms/step - loss: 0.5493 - accuracy: 0.7202 - precision_34: 0.7242 - val_loss: 0.5025 - val_accuracy: 0.7805 - val_precision_34: 0.7694\n",
            "Epoch 2/30\n",
            "119/119 [==============================] - 14s 120ms/step - loss: 0.2523 - accuracy: 0.8994 - precision_34: 0.9136 - val_loss: 0.6323 - val_accuracy: 0.7337 - val_precision_34: 0.6932\n",
            "Epoch 3/30\n",
            "119/119 [==============================] - 13s 108ms/step - loss: 0.1275 - accuracy: 0.9482 - precision_34: 0.9543 - val_loss: 0.8320 - val_accuracy: 0.7432 - val_precision_34: 0.7093\n",
            "Epoch 4/30\n",
            "119/119 [==============================] - 13s 109ms/step - loss: 0.0701 - accuracy: 0.9690 - precision_34: 0.9745 - val_loss: 1.0233 - val_accuracy: 0.7232 - val_precision_34: 0.6596\n",
            "Epoch 5/30\n",
            "119/119 [==============================] - 13s 110ms/step - loss: 0.0523 - accuracy: 0.9769 - precision_34: 0.9791 - val_loss: 1.0977 - val_accuracy: 0.7211 - val_precision_34: 0.6475\n",
            "Epoch 6/30\n",
            "119/119 [==============================] - 13s 109ms/step - loss: 0.0397 - accuracy: 0.9813 - precision_34: 0.9828 - val_loss: 1.4075 - val_accuracy: 0.7327 - val_precision_34: 0.6620\n",
            "Epoch 7/30\n",
            "119/119 [==============================] - 13s 111ms/step - loss: 0.0354 - accuracy: 0.9821 - precision_34: 0.9805 - val_loss: 1.4212 - val_accuracy: 0.7248 - val_precision_34: 0.6648\n",
            "Epoch 8/30\n",
            "119/119 [==============================] - 13s 110ms/step - loss: 0.0269 - accuracy: 0.9837 - precision_34: 0.9865 - val_loss: 1.4608 - val_accuracy: 0.7369 - val_precision_34: 0.6902\n",
            "Epoch 9/30\n",
            "119/119 [==============================] - 13s 111ms/step - loss: 0.0244 - accuracy: 0.9855 - precision_34: 0.9901 - val_loss: 1.5574 - val_accuracy: 0.7306 - val_precision_34: 0.6790\n",
            "Epoch 10/30\n",
            "119/119 [==============================] - 13s 110ms/step - loss: 0.0228 - accuracy: 0.9855 - precision_34: 0.9877 - val_loss: 1.7119 - val_accuracy: 0.7342 - val_precision_34: 0.6787\n",
            "Epoch 11/30\n",
            "119/119 [==============================] - 13s 111ms/step - loss: 0.0226 - accuracy: 0.9874 - precision_34: 0.9914 - val_loss: 1.6686 - val_accuracy: 0.7390 - val_precision_34: 0.7010\n",
            "60/60 [==============================] - 2s 21ms/step - loss: 0.4839 - accuracy: 0.7950 - precision_34: 0.7989\n",
            "Epoch 1/30\n",
            "119/119 [==============================] - 18s 122ms/step - loss: 0.5366 - accuracy: 0.7333 - precision_35: 0.7494 - val_loss: 0.4902 - val_accuracy: 0.7852 - val_precision_35: 0.8237\n",
            "Epoch 2/30\n",
            "119/119 [==============================] - 14s 114ms/step - loss: 0.1990 - accuracy: 0.9225 - precision_35: 0.9367 - val_loss: 0.5844 - val_accuracy: 0.7553 - val_precision_35: 0.7250\n",
            "Epoch 3/30\n",
            "119/119 [==============================] - 14s 116ms/step - loss: 0.0802 - accuracy: 0.9664 - precision_35: 0.9734 - val_loss: 0.7856 - val_accuracy: 0.7526 - val_precision_35: 0.7187\n",
            "Epoch 4/30\n",
            "119/119 [==============================] - 14s 115ms/step - loss: 0.0431 - accuracy: 0.9800 - precision_35: 0.9742 - val_loss: 0.9601 - val_accuracy: 0.7463 - val_precision_35: 0.7017\n",
            "Epoch 5/30\n",
            "119/119 [==============================] - 14s 115ms/step - loss: 0.0298 - accuracy: 0.9850 - precision_35: 0.9869 - val_loss: 1.2170 - val_accuracy: 0.7332 - val_precision_35: 0.6727\n",
            "Epoch 6/30\n",
            "119/119 [==============================] - 18s 148ms/step - loss: 0.0253 - accuracy: 0.9861 - precision_35: 0.9827 - val_loss: 1.4259 - val_accuracy: 0.7353 - val_precision_35: 0.6730\n",
            "Epoch 7/30\n",
            "119/119 [==============================] - 16s 132ms/step - loss: 0.0258 - accuracy: 0.9850 - precision_35: 0.9827 - val_loss: 1.4557 - val_accuracy: 0.7411 - val_precision_35: 0.6896\n",
            "Epoch 8/30\n",
            "119/119 [==============================] - 15s 126ms/step - loss: 0.0240 - accuracy: 0.9866 - precision_35: 0.9882 - val_loss: 1.4702 - val_accuracy: 0.7432 - val_precision_35: 0.6893\n",
            "Epoch 9/30\n",
            "119/119 [==============================] - 15s 122ms/step - loss: 0.0218 - accuracy: 0.9884 - precision_35: 0.9950 - val_loss: 1.5420 - val_accuracy: 0.7468 - val_precision_35: 0.7001\n",
            "Epoch 10/30\n",
            "119/119 [==============================] - 14s 116ms/step - loss: 0.0204 - accuracy: 0.9879 - precision_35: 0.9906 - val_loss: 1.6190 - val_accuracy: 0.7353 - val_precision_35: 0.6711\n",
            "Epoch 11/30\n",
            "119/119 [==============================] - 14s 117ms/step - loss: 0.0203 - accuracy: 0.9879 - precision_35: 0.9919 - val_loss: 1.7017 - val_accuracy: 0.7337 - val_precision_35: 0.6763\n",
            "60/60 [==============================] - 2s 23ms/step - loss: 0.5210 - accuracy: 0.7654 - precision_35: 0.8050\n",
            "Epoch 1/30\n",
            "119/119 [==============================] - 18s 132ms/step - loss: 0.5584 - accuracy: 0.7210 - precision_36: 0.7242 - val_loss: 0.4928 - val_accuracy: 0.7799 - val_precision_36: 0.7669\n",
            "Epoch 2/30\n",
            "119/119 [==============================] - 14s 121ms/step - loss: 0.2644 - accuracy: 0.8954 - precision_36: 0.9017 - val_loss: 0.5836 - val_accuracy: 0.7705 - val_precision_36: 0.7554\n",
            "Epoch 3/30\n",
            "119/119 [==============================] - 14s 115ms/step - loss: 0.1183 - accuracy: 0.9530 - precision_36: 0.9611 - val_loss: 0.8768 - val_accuracy: 0.7584 - val_precision_36: 0.7074\n",
            "Epoch 4/30\n",
            "119/119 [==============================] - 14s 114ms/step - loss: 0.0694 - accuracy: 0.9695 - precision_36: 0.9717 - val_loss: 0.9640 - val_accuracy: 0.7379 - val_precision_36: 0.6865\n",
            "Epoch 5/30\n",
            "119/119 [==============================] - 14s 116ms/step - loss: 0.0479 - accuracy: 0.9764 - precision_36: 0.9756 - val_loss: 1.1474 - val_accuracy: 0.7174 - val_precision_36: 0.6379\n",
            "Epoch 6/30\n",
            "119/119 [==============================] - 14s 115ms/step - loss: 0.0364 - accuracy: 0.9842 - precision_36: 0.9853 - val_loss: 1.3399 - val_accuracy: 0.7264 - val_precision_36: 0.6594\n",
            "Epoch 7/30\n",
            "119/119 [==============================] - 14s 115ms/step - loss: 0.0295 - accuracy: 0.9863 - precision_36: 0.9872 - val_loss: 1.5569 - val_accuracy: 0.7411 - val_precision_36: 0.6848\n",
            "Epoch 8/30\n",
            "119/119 [==============================] - 14s 114ms/step - loss: 0.0268 - accuracy: 0.9863 - precision_36: 0.9896 - val_loss: 1.4928 - val_accuracy: 0.7458 - val_precision_36: 0.7004\n",
            "Epoch 9/30\n",
            "119/119 [==============================] - 14s 115ms/step - loss: 0.0259 - accuracy: 0.9861 - precision_36: 0.9896 - val_loss: 1.7334 - val_accuracy: 0.7363 - val_precision_36: 0.6741\n",
            "Epoch 10/30\n",
            "119/119 [==============================] - 13s 114ms/step - loss: 0.0232 - accuracy: 0.9869 - precision_36: 0.9902 - val_loss: 1.6958 - val_accuracy: 0.7489 - val_precision_36: 0.7118\n",
            "Epoch 11/30\n",
            "119/119 [==============================] - 14s 115ms/step - loss: 0.0239 - accuracy: 0.9879 - precision_36: 0.9938 - val_loss: 1.8093 - val_accuracy: 0.7426 - val_precision_36: 0.6837\n",
            "60/60 [==============================] - 2s 22ms/step - loss: 0.4923 - accuracy: 0.7685 - precision_36: 0.7887\n",
            "Epoch 1/30\n",
            "119/119 [==============================] - 18s 127ms/step - loss: 0.5442 - accuracy: 0.7281 - precision_37: 0.7332 - val_loss: 0.4898 - val_accuracy: 0.7826 - val_precision_37: 0.7622\n",
            "Epoch 2/30\n",
            "119/119 [==============================] - 14s 120ms/step - loss: 0.2467 - accuracy: 0.9036 - precision_37: 0.9097 - val_loss: 0.6484 - val_accuracy: 0.7458 - val_precision_37: 0.7074\n",
            "Epoch 3/30\n",
            "119/119 [==============================] - 14s 114ms/step - loss: 0.1304 - accuracy: 0.9488 - precision_37: 0.9607 - val_loss: 0.8216 - val_accuracy: 0.7500 - val_precision_37: 0.7256\n",
            "Epoch 4/30\n",
            "119/119 [==============================] - 14s 114ms/step - loss: 0.0745 - accuracy: 0.9672 - precision_37: 0.9738 - val_loss: 0.9484 - val_accuracy: 0.7279 - val_precision_37: 0.6903\n",
            "Epoch 5/30\n",
            "119/119 [==============================] - 14s 114ms/step - loss: 0.0490 - accuracy: 0.9777 - precision_37: 0.9839 - val_loss: 1.2190 - val_accuracy: 0.7206 - val_precision_37: 0.6598\n",
            "Epoch 6/30\n",
            "119/119 [==============================] - 14s 115ms/step - loss: 0.0358 - accuracy: 0.9829 - precision_37: 0.9877 - val_loss: 1.3409 - val_accuracy: 0.7300 - val_precision_37: 0.6765\n",
            "Epoch 7/30\n",
            "119/119 [==============================] - 14s 115ms/step - loss: 0.0294 - accuracy: 0.9848 - precision_37: 0.9889 - val_loss: 1.5214 - val_accuracy: 0.7258 - val_precision_37: 0.6738\n",
            "Epoch 8/30\n",
            "119/119 [==============================] - 14s 114ms/step - loss: 0.0247 - accuracy: 0.9866 - precision_37: 0.9896 - val_loss: 1.5840 - val_accuracy: 0.7290 - val_precision_37: 0.6840\n",
            "Epoch 9/30\n",
            "119/119 [==============================] - 13s 113ms/step - loss: 0.0235 - accuracy: 0.9853 - precision_37: 0.9901 - val_loss: 1.7199 - val_accuracy: 0.7321 - val_precision_37: 0.6850\n",
            "Epoch 10/30\n",
            "119/119 [==============================] - 14s 115ms/step - loss: 0.0254 - accuracy: 0.9863 - precision_37: 0.9908 - val_loss: 1.6471 - val_accuracy: 0.7316 - val_precision_37: 0.6793\n",
            "Epoch 11/30\n",
            "119/119 [==============================] - 14s 114ms/step - loss: 0.0222 - accuracy: 0.9879 - precision_37: 0.9938 - val_loss: 1.7470 - val_accuracy: 0.7369 - val_precision_37: 0.6990\n",
            "60/60 [==============================] - 2s 23ms/step - loss: 0.4770 - accuracy: 0.7950 - precision_37: 0.8023\n",
            "Epoch 1/30\n",
            "119/119 [==============================] - 17s 118ms/step - loss: 0.5358 - accuracy: 0.7436 - precision_38: 0.7639 - val_loss: 0.5118 - val_accuracy: 0.7862 - val_precision_38: 0.7512\n",
            "Epoch 2/30\n",
            "119/119 [==============================] - 13s 110ms/step - loss: 0.2008 - accuracy: 0.9193 - precision_38: 0.9244 - val_loss: 0.5743 - val_accuracy: 0.7484 - val_precision_38: 0.7227\n",
            "Epoch 3/30\n",
            "119/119 [==============================] - 13s 111ms/step - loss: 0.0770 - accuracy: 0.9637 - precision_38: 0.9643 - val_loss: 0.8972 - val_accuracy: 0.7384 - val_precision_38: 0.6699\n",
            "Epoch 4/30\n",
            "119/119 [==============================] - 13s 112ms/step - loss: 0.0455 - accuracy: 0.9806 - precision_38: 0.9731 - val_loss: 1.0441 - val_accuracy: 0.7526 - val_precision_38: 0.7080\n",
            "Epoch 5/30\n",
            "119/119 [==============================] - 13s 113ms/step - loss: 0.0292 - accuracy: 0.9840 - precision_38: 0.9821 - val_loss: 1.2632 - val_accuracy: 0.7605 - val_precision_38: 0.7346\n",
            "Epoch 6/30\n",
            "119/119 [==============================] - 13s 112ms/step - loss: 0.0266 - accuracy: 0.9855 - precision_38: 0.9804 - val_loss: 1.2746 - val_accuracy: 0.7631 - val_precision_38: 0.7433\n",
            "Epoch 7/30\n",
            "119/119 [==============================] - 13s 111ms/step - loss: 0.0227 - accuracy: 0.9853 - precision_38: 0.9792 - val_loss: 1.4134 - val_accuracy: 0.7537 - val_precision_38: 0.7688\n",
            "Epoch 8/30\n",
            "119/119 [==============================] - 13s 112ms/step - loss: 0.0225 - accuracy: 0.9855 - precision_38: 0.9912 - val_loss: 1.3396 - val_accuracy: 0.7521 - val_precision_38: 0.7052\n",
            "Epoch 9/30\n",
            "119/119 [==============================] - 13s 111ms/step - loss: 0.0218 - accuracy: 0.9861 - precision_38: 0.9863 - val_loss: 1.4352 - val_accuracy: 0.7453 - val_precision_38: 0.6898\n",
            "Epoch 10/30\n",
            "119/119 [==============================] - 13s 112ms/step - loss: 0.0216 - accuracy: 0.9874 - precision_38: 0.9846 - val_loss: 1.3972 - val_accuracy: 0.7558 - val_precision_38: 0.7197\n",
            "Epoch 11/30\n",
            "119/119 [==============================] - 13s 112ms/step - loss: 0.0202 - accuracy: 0.9869 - precision_38: 0.9858 - val_loss: 1.5020 - val_accuracy: 0.7516 - val_precision_38: 0.7043\n",
            "60/60 [==============================] - 3s 22ms/step - loss: 0.5288 - accuracy: 0.7711 - precision_38: 0.7485\n",
            "Epoch 1/30\n",
            "119/119 [==============================] - 30s 227ms/step - loss: 0.5406 - accuracy: 0.7218 - precision_39: 0.7752 - val_loss: 0.4712 - val_accuracy: 0.7957 - val_precision_39: 0.8344\n",
            "Epoch 2/30\n",
            "119/119 [==============================] - 29s 241ms/step - loss: 0.2798 - accuracy: 0.8889 - precision_39: 0.9017 - val_loss: 0.5393 - val_accuracy: 0.7742 - val_precision_39: 0.7678\n",
            "Epoch 3/30\n",
            "119/119 [==============================] - 29s 241ms/step - loss: 0.1510 - accuracy: 0.9467 - precision_39: 0.9530 - val_loss: 0.7168 - val_accuracy: 0.7663 - val_precision_39: 0.7584\n",
            "Epoch 4/30\n",
            "119/119 [==============================] - 25s 213ms/step - loss: 0.0994 - accuracy: 0.9661 - precision_39: 0.9709 - val_loss: 0.8944 - val_accuracy: 0.7395 - val_precision_39: 0.6898\n",
            "Epoch 5/30\n",
            "119/119 [==============================] - 28s 237ms/step - loss: 0.0642 - accuracy: 0.9771 - precision_39: 0.9797 - val_loss: 0.9653 - val_accuracy: 0.7468 - val_precision_39: 0.6900\n",
            "Epoch 6/30\n",
            "119/119 [==============================] - 26s 219ms/step - loss: 0.0534 - accuracy: 0.9792 - precision_39: 0.9834 - val_loss: 1.0688 - val_accuracy: 0.7379 - val_precision_39: 0.6729\n",
            "Epoch 7/30\n",
            "119/119 [==============================] - 27s 227ms/step - loss: 0.0397 - accuracy: 0.9819 - precision_39: 0.9841 - val_loss: 1.4476 - val_accuracy: 0.7416 - val_precision_39: 0.6809\n",
            "Epoch 8/30\n",
            "119/119 [==============================] - 26s 220ms/step - loss: 0.0341 - accuracy: 0.9845 - precision_39: 0.9883 - val_loss: 1.1982 - val_accuracy: 0.7243 - val_precision_39: 0.6519\n",
            "Epoch 9/30\n",
            "119/119 [==============================] - 27s 226ms/step - loss: 0.0369 - accuracy: 0.9819 - precision_39: 0.9871 - val_loss: 1.1967 - val_accuracy: 0.7516 - val_precision_39: 0.7214\n",
            "Epoch 10/30\n",
            "119/119 [==============================] - 27s 229ms/step - loss: 0.0308 - accuracy: 0.9850 - precision_39: 0.9877 - val_loss: 1.6231 - val_accuracy: 0.7379 - val_precision_39: 0.6856\n",
            "Epoch 11/30\n",
            "119/119 [==============================] - 26s 218ms/step - loss: 0.0459 - accuracy: 0.9806 - precision_39: 0.9846 - val_loss: 1.6294 - val_accuracy: 0.7174 - val_precision_39: 0.6390\n",
            "60/60 [==============================] - 4s 51ms/step - loss: 0.4745 - accuracy: 0.7982 - precision_39: 0.8548\n",
            "Epoch 1/30\n",
            "119/119 [==============================] - 33s 248ms/step - loss: 0.5437 - accuracy: 0.7252 - precision_40: 0.7729 - val_loss: 0.4818 - val_accuracy: 0.7815 - val_precision_40: 0.7761\n",
            "Epoch 2/30\n",
            "119/119 [==============================] - 29s 240ms/step - loss: 0.2717 - accuracy: 0.8928 - precision_40: 0.8943 - val_loss: 0.5755 - val_accuracy: 0.7458 - val_precision_40: 0.7167\n",
            "Epoch 3/30\n",
            "119/119 [==============================] - 27s 229ms/step - loss: 0.1465 - accuracy: 0.9461 - precision_40: 0.9512 - val_loss: 0.6856 - val_accuracy: 0.7489 - val_precision_40: 0.6954\n",
            "Epoch 4/30\n",
            "119/119 [==============================] - 30s 249ms/step - loss: 0.0941 - accuracy: 0.9693 - precision_40: 0.9711 - val_loss: 0.8568 - val_accuracy: 0.7421 - val_precision_40: 0.6930\n",
            "Epoch 5/30\n",
            "119/119 [==============================] - 30s 251ms/step - loss: 0.0563 - accuracy: 0.9782 - precision_40: 0.9792 - val_loss: 1.0528 - val_accuracy: 0.7012 - val_precision_40: 0.6215\n",
            "Epoch 6/30\n",
            "119/119 [==============================] - 28s 234ms/step - loss: 0.0441 - accuracy: 0.9813 - precision_40: 0.9834 - val_loss: 1.2153 - val_accuracy: 0.7300 - val_precision_40: 0.6720\n",
            "Epoch 7/30\n",
            "119/119 [==============================] - 28s 235ms/step - loss: 0.0345 - accuracy: 0.9821 - precision_40: 0.9829 - val_loss: 1.2081 - val_accuracy: 0.7180 - val_precision_40: 0.6590\n",
            "Epoch 8/30\n",
            "119/119 [==============================] - 27s 228ms/step - loss: 0.0301 - accuracy: 0.9840 - precision_40: 0.9871 - val_loss: 1.2370 - val_accuracy: 0.7369 - val_precision_40: 0.7254\n",
            "Epoch 9/30\n",
            "119/119 [==============================] - 29s 246ms/step - loss: 0.0294 - accuracy: 0.9848 - precision_40: 0.9859 - val_loss: 1.3862 - val_accuracy: 0.7101 - val_precision_40: 0.6533\n",
            "Epoch 10/30\n",
            "119/119 [==============================] - 29s 247ms/step - loss: 0.0388 - accuracy: 0.9837 - precision_40: 0.9847 - val_loss: 1.0810 - val_accuracy: 0.7321 - val_precision_40: 0.6906\n",
            "Epoch 11/30\n",
            "119/119 [==============================] - 29s 246ms/step - loss: 0.0371 - accuracy: 0.9819 - precision_40: 0.9811 - val_loss: 1.2637 - val_accuracy: 0.7222 - val_precision_40: 0.6715\n",
            "60/60 [==============================] - 5s 72ms/step - loss: 0.4659 - accuracy: 0.8002 - precision_40: 0.8124\n",
            "Epoch 1/30\n",
            "119/119 [==============================] - 30s 230ms/step - loss: 0.5402 - accuracy: 0.7254 - precision_41: 0.7655 - val_loss: 0.4852 - val_accuracy: 0.7773 - val_precision_41: 0.7416\n",
            "Epoch 2/30\n",
            "119/119 [==============================] - 29s 244ms/step - loss: 0.2319 - accuracy: 0.9115 - precision_41: 0.9246 - val_loss: 0.5828 - val_accuracy: 0.7463 - val_precision_41: 0.6983\n",
            "Epoch 3/30\n",
            "119/119 [==============================] - 27s 223ms/step - loss: 0.1022 - accuracy: 0.9661 - precision_41: 0.9651 - val_loss: 0.7235 - val_accuracy: 0.7558 - val_precision_41: 0.7289\n",
            "Epoch 4/30\n",
            "119/119 [==============================] - 27s 227ms/step - loss: 0.0628 - accuracy: 0.9779 - precision_41: 0.9735 - val_loss: 0.8823 - val_accuracy: 0.7411 - val_precision_41: 0.6937\n",
            "Epoch 5/30\n",
            "119/119 [==============================] - 27s 225ms/step - loss: 0.0370 - accuracy: 0.9824 - precision_41: 0.9826 - val_loss: 0.9873 - val_accuracy: 0.7595 - val_precision_41: 0.7435\n",
            "Epoch 6/30\n",
            "119/119 [==============================] - 29s 244ms/step - loss: 0.0343 - accuracy: 0.9834 - precision_41: 0.9826 - val_loss: 1.1743 - val_accuracy: 0.7447 - val_precision_41: 0.7137\n",
            "Epoch 7/30\n",
            "119/119 [==============================] - 27s 227ms/step - loss: 0.0310 - accuracy: 0.9816 - precision_41: 0.9808 - val_loss: 1.2170 - val_accuracy: 0.7332 - val_precision_41: 0.6899\n",
            "Epoch 8/30\n",
            "119/119 [==============================] - 37s 309ms/step - loss: 0.0272 - accuracy: 0.9842 - precision_41: 0.9851 - val_loss: 1.2817 - val_accuracy: 0.7332 - val_precision_41: 0.6805\n",
            "Epoch 9/30\n",
            "119/119 [==============================] - 27s 225ms/step - loss: 0.0240 - accuracy: 0.9855 - precision_41: 0.9869 - val_loss: 1.3374 - val_accuracy: 0.7521 - val_precision_41: 0.7289\n",
            "Epoch 10/30\n",
            "119/119 [==============================] - 29s 243ms/step - loss: 0.0587 - accuracy: 0.9764 - precision_41: 0.9740 - val_loss: 1.2206 - val_accuracy: 0.7463 - val_precision_41: 0.7285\n",
            "Epoch 11/30\n",
            "119/119 [==============================] - 27s 231ms/step - loss: 0.0463 - accuracy: 0.9779 - precision_41: 0.9782 - val_loss: 1.0854 - val_accuracy: 0.7374 - val_precision_41: 0.6974\n",
            "60/60 [==============================] - 5s 54ms/step - loss: 0.4995 - accuracy: 0.7727 - precision_41: 0.7534\n",
            "Epoch 1/30\n",
            "119/119 [==============================] - 33s 257ms/step - loss: 0.5840 - accuracy: 0.7162 - precision_42: 0.7393 - val_loss: 0.5058 - val_accuracy: 0.7710 - val_precision_42: 0.7593\n",
            "Epoch 2/30\n",
            "119/119 [==============================] - 31s 260ms/step - loss: 0.3015 - accuracy: 0.8802 - precision_42: 0.8937 - val_loss: 0.5607 - val_accuracy: 0.7768 - val_precision_42: 0.7931\n",
            "Epoch 3/30\n",
            "119/119 [==============================] - 31s 265ms/step - loss: 0.1719 - accuracy: 0.9375 - precision_42: 0.9462 - val_loss: 0.7456 - val_accuracy: 0.7574 - val_precision_42: 0.7623\n",
            "Epoch 4/30\n",
            "119/119 [==============================] - 30s 252ms/step - loss: 0.1021 - accuracy: 0.9593 - precision_42: 0.9617 - val_loss: 0.7948 - val_accuracy: 0.7484 - val_precision_42: 0.6998\n",
            "Epoch 5/30\n",
            "119/119 [==============================] - 32s 268ms/step - loss: 0.0668 - accuracy: 0.9698 - precision_42: 0.9717 - val_loss: 1.0771 - val_accuracy: 0.7574 - val_precision_42: 0.7421\n",
            "Epoch 6/30\n",
            "119/119 [==============================] - 30s 249ms/step - loss: 0.0545 - accuracy: 0.9750 - precision_42: 0.9767 - val_loss: 1.0264 - val_accuracy: 0.7379 - val_precision_42: 0.6878\n",
            "Epoch 7/30\n",
            "119/119 [==============================] - 32s 266ms/step - loss: 0.0446 - accuracy: 0.9795 - precision_42: 0.9804 - val_loss: 1.2414 - val_accuracy: 0.7511 - val_precision_42: 0.7216\n",
            "Epoch 8/30\n",
            "119/119 [==============================] - 32s 269ms/step - loss: 0.0417 - accuracy: 0.9795 - precision_42: 0.9822 - val_loss: 1.3226 - val_accuracy: 0.7495 - val_precision_42: 0.7111\n",
            "Epoch 9/30\n",
            "119/119 [==============================] - 30s 251ms/step - loss: 0.0435 - accuracy: 0.9806 - precision_42: 0.9805 - val_loss: 1.2631 - val_accuracy: 0.7500 - val_precision_42: 0.7114\n",
            "Epoch 10/30\n",
            "119/119 [==============================] - 31s 262ms/step - loss: 0.0418 - accuracy: 0.9803 - precision_42: 0.9816 - val_loss: 1.4071 - val_accuracy: 0.7500 - val_precision_42: 0.7141\n",
            "Epoch 11/30\n",
            "119/119 [==============================] - 32s 267ms/step - loss: 0.0435 - accuracy: 0.9800 - precision_42: 0.9816 - val_loss: 1.3627 - val_accuracy: 0.7553 - val_precision_42: 0.7145\n",
            "60/60 [==============================] - 5s 77ms/step - loss: 0.5025 - accuracy: 0.7717 - precision_42: 0.7868\n",
            "Epoch 1/30\n",
            "119/119 [==============================] - 34s 266ms/step - loss: 0.5980 - accuracy: 0.6734 - precision_43: 0.6533 - val_loss: 0.4825 - val_accuracy: 0.7799 - val_precision_43: 0.8305\n",
            "Epoch 2/30\n",
            "119/119 [==============================] - 31s 260ms/step - loss: 0.2890 - accuracy: 0.8841 - precision_43: 0.8841 - val_loss: 0.5940 - val_accuracy: 0.7463 - val_precision_43: 0.7485\n",
            "Epoch 3/30\n",
            "119/119 [==============================] - 31s 263ms/step - loss: 0.1467 - accuracy: 0.9440 - precision_43: 0.9487 - val_loss: 0.7957 - val_accuracy: 0.7453 - val_precision_43: 0.6985\n",
            "Epoch 4/30\n",
            "119/119 [==============================] - 29s 246ms/step - loss: 0.0856 - accuracy: 0.9672 - precision_43: 0.9703 - val_loss: 0.8387 - val_accuracy: 0.7300 - val_precision_43: 0.6795\n",
            "Epoch 5/30\n",
            "119/119 [==============================] - 30s 253ms/step - loss: 0.0632 - accuracy: 0.9748 - precision_43: 0.9755 - val_loss: 1.1181 - val_accuracy: 0.7363 - val_precision_43: 0.6688\n",
            "Epoch 6/30\n",
            "119/119 [==============================] - 31s 259ms/step - loss: 0.0481 - accuracy: 0.9782 - precision_43: 0.9762 - val_loss: 1.0545 - val_accuracy: 0.7253 - val_precision_43: 0.6659\n",
            "Epoch 7/30\n",
            "119/119 [==============================] - 31s 263ms/step - loss: 0.0438 - accuracy: 0.9790 - precision_43: 0.9792 - val_loss: 1.2379 - val_accuracy: 0.7248 - val_precision_43: 0.6743\n",
            "Epoch 8/30\n",
            "119/119 [==============================] - 31s 262ms/step - loss: 0.0363 - accuracy: 0.9816 - precision_43: 0.9829 - val_loss: 1.2227 - val_accuracy: 0.7379 - val_precision_43: 0.7249\n",
            "Epoch 9/30\n",
            "119/119 [==============================] - 31s 263ms/step - loss: 0.0308 - accuracy: 0.9853 - precision_43: 0.9854 - val_loss: 1.3431 - val_accuracy: 0.7353 - val_precision_43: 0.6999\n",
            "Epoch 10/30\n",
            "119/119 [==============================] - 29s 246ms/step - loss: 0.0281 - accuracy: 0.9861 - precision_43: 0.9854 - val_loss: 1.4534 - val_accuracy: 0.7337 - val_precision_43: 0.6755\n",
            "Epoch 11/30\n",
            "119/119 [==============================] - 32s 267ms/step - loss: 0.0236 - accuracy: 0.9871 - precision_43: 0.9872 - val_loss: 1.5786 - val_accuracy: 0.7279 - val_precision_43: 0.6771\n",
            "60/60 [==============================] - 6s 89ms/step - loss: 0.4780 - accuracy: 0.7778 - precision_43: 0.8622\n",
            "Epoch 1/30\n",
            "119/119 [==============================] - 38s 283ms/step - loss: 0.6359 - accuracy: 0.6592 - precision_44: 0.6379 - val_loss: 0.5289 - val_accuracy: 0.7537 - val_precision_44: 0.7324\n",
            "Epoch 2/30\n",
            "119/119 [==============================] - 33s 281ms/step - loss: 0.2752 - accuracy: 0.8881 - precision_44: 0.8887 - val_loss: 0.6495 - val_accuracy: 0.7405 - val_precision_44: 0.7118\n",
            "Epoch 3/30\n",
            "119/119 [==============================] - 33s 280ms/step - loss: 0.1046 - accuracy: 0.9572 - precision_44: 0.9550 - val_loss: 0.7357 - val_accuracy: 0.7479 - val_precision_44: 0.7316\n",
            "Epoch 4/30\n",
            "119/119 [==============================] - 31s 264ms/step - loss: 0.0591 - accuracy: 0.9771 - precision_44: 0.9746 - val_loss: 0.9920 - val_accuracy: 0.7337 - val_precision_44: 0.6735\n",
            "Epoch 5/30\n",
            "119/119 [==============================] - 33s 279ms/step - loss: 0.0408 - accuracy: 0.9827 - precision_44: 0.9832 - val_loss: 1.1309 - val_accuracy: 0.7327 - val_precision_44: 0.6735\n",
            "Epoch 6/30\n",
            "119/119 [==============================] - 31s 265ms/step - loss: 0.0332 - accuracy: 0.9845 - precision_44: 0.9839 - val_loss: 1.1896 - val_accuracy: 0.7300 - val_precision_44: 0.6645\n",
            "Epoch 7/30\n",
            "119/119 [==============================] - 33s 278ms/step - loss: 0.0339 - accuracy: 0.9848 - precision_44: 0.9875 - val_loss: 1.2023 - val_accuracy: 0.7211 - val_precision_44: 0.6536\n",
            "Epoch 8/30\n",
            "119/119 [==============================] - 33s 278ms/step - loss: 0.0320 - accuracy: 0.9832 - precision_44: 0.9869 - val_loss: 1.2648 - val_accuracy: 0.7426 - val_precision_44: 0.7042\n",
            "Epoch 9/30\n",
            "119/119 [==============================] - 33s 276ms/step - loss: 0.0293 - accuracy: 0.9858 - precision_44: 0.9894 - val_loss: 1.3006 - val_accuracy: 0.7526 - val_precision_44: 0.7096\n",
            "Epoch 10/30\n",
            "119/119 [==============================] - 33s 279ms/step - loss: 0.0276 - accuracy: 0.9853 - precision_44: 0.9863 - val_loss: 1.3391 - val_accuracy: 0.7374 - val_precision_44: 0.6710\n",
            "Epoch 11/30\n",
            "119/119 [==============================] - 33s 280ms/step - loss: 0.0342 - accuracy: 0.9837 - precision_44: 0.9833 - val_loss: 1.2044 - val_accuracy: 0.7290 - val_precision_44: 0.6877\n",
            "60/60 [==============================] - 6s 80ms/step - loss: 0.5339 - accuracy: 0.7517 - precision_44: 0.7559\n",
            "Epoch 1/30\n",
            "119/119 [==============================] - 17s 120ms/step - loss: 0.6688 - accuracy: 0.5925 - precision_45: 0.8403 - val_loss: 0.6239 - val_accuracy: 0.6434 - val_precision_45: 0.9786\n",
            "Epoch 2/30\n",
            "119/119 [==============================] - 14s 116ms/step - loss: 0.4943 - accuracy: 0.7943 - precision_45: 0.8520 - val_loss: 0.4486 - val_accuracy: 0.8036 - val_precision_45: 0.8523\n",
            "Epoch 3/30\n",
            "119/119 [==============================] - 13s 113ms/step - loss: 0.3001 - accuracy: 0.8802 - precision_45: 0.9033 - val_loss: 0.4618 - val_accuracy: 0.8078 - val_precision_45: 0.8381\n",
            "Epoch 4/30\n",
            "119/119 [==============================] - 13s 113ms/step - loss: 0.2079 - accuracy: 0.9238 - precision_45: 0.9375 - val_loss: 0.4855 - val_accuracy: 0.7941 - val_precision_45: 0.7952\n",
            "Epoch 5/30\n",
            "119/119 [==============================] - 13s 113ms/step - loss: 0.1565 - accuracy: 0.9427 - precision_45: 0.9549 - val_loss: 0.5689 - val_accuracy: 0.7831 - val_precision_45: 0.7825\n",
            "Epoch 6/30\n",
            "119/119 [==============================] - 14s 114ms/step - loss: 0.1167 - accuracy: 0.9595 - precision_45: 0.9728 - val_loss: 0.5922 - val_accuracy: 0.7684 - val_precision_45: 0.7313\n",
            "Epoch 7/30\n",
            "119/119 [==============================] - 13s 114ms/step - loss: 0.0931 - accuracy: 0.9661 - precision_45: 0.9715 - val_loss: 0.6941 - val_accuracy: 0.7668 - val_precision_45: 0.7387\n",
            "Epoch 8/30\n",
            "119/119 [==============================] - 14s 115ms/step - loss: 0.0780 - accuracy: 0.9716 - precision_45: 0.9765 - val_loss: 0.7536 - val_accuracy: 0.7637 - val_precision_45: 0.7272\n",
            "Epoch 9/30\n",
            "119/119 [==============================] - 13s 113ms/step - loss: 0.0726 - accuracy: 0.9750 - precision_45: 0.9773 - val_loss: 0.8052 - val_accuracy: 0.7626 - val_precision_45: 0.7106\n",
            "Epoch 10/30\n",
            "119/119 [==============================] - 13s 114ms/step - loss: 0.0654 - accuracy: 0.9764 - precision_45: 0.9821 - val_loss: 0.8087 - val_accuracy: 0.7642 - val_precision_45: 0.7345\n",
            "Epoch 11/30\n",
            "119/119 [==============================] - 14s 115ms/step - loss: 0.0663 - accuracy: 0.9774 - precision_45: 0.9786 - val_loss: 0.8334 - val_accuracy: 0.7584 - val_precision_45: 0.7145\n",
            "Epoch 12/30\n",
            "119/119 [==============================] - 14s 115ms/step - loss: 0.0552 - accuracy: 0.9821 - precision_45: 0.9841 - val_loss: 0.9032 - val_accuracy: 0.7579 - val_precision_45: 0.7157\n",
            "60/60 [==============================] - 3s 30ms/step - loss: 0.4781 - accuracy: 0.7790 - precision_45: 0.7812\n",
            "Epoch 1/30\n",
            "119/119 [==============================] - 16s 111ms/step - loss: 0.6681 - accuracy: 0.5901 - precision_46: 0.8372 - val_loss: 0.6240 - val_accuracy: 0.6859 - val_precision_46: 0.9536\n",
            "Epoch 2/30\n",
            "119/119 [==============================] - 13s 107ms/step - loss: 0.4767 - accuracy: 0.7995 - precision_46: 0.8605 - val_loss: 0.4557 - val_accuracy: 0.7957 - val_precision_46: 0.8118\n",
            "Epoch 3/30\n",
            "119/119 [==============================] - 13s 107ms/step - loss: 0.2844 - accuracy: 0.8865 - precision_46: 0.9005 - val_loss: 0.5100 - val_accuracy: 0.7773 - val_precision_46: 0.7302\n",
            "Epoch 4/30\n",
            "119/119 [==============================] - 13s 107ms/step - loss: 0.1870 - accuracy: 0.9301 - precision_46: 0.9390 - val_loss: 0.5931 - val_accuracy: 0.7479 - val_precision_46: 0.6697\n",
            "Epoch 5/30\n",
            "119/119 [==============================] - 12s 104ms/step - loss: 0.1339 - accuracy: 0.9556 - precision_46: 0.9619 - val_loss: 0.5681 - val_accuracy: 0.7668 - val_precision_46: 0.7275\n",
            "Epoch 6/30\n",
            "119/119 [==============================] - 12s 101ms/step - loss: 0.0996 - accuracy: 0.9682 - precision_46: 0.9727 - val_loss: 0.6101 - val_accuracy: 0.7731 - val_precision_46: 0.7757\n",
            "Epoch 7/30\n",
            "119/119 [==============================] - 12s 100ms/step - loss: 0.0852 - accuracy: 0.9721 - precision_46: 0.9718 - val_loss: 0.6878 - val_accuracy: 0.7642 - val_precision_46: 0.7370\n",
            "Epoch 8/30\n",
            "119/119 [==============================] - 12s 103ms/step - loss: 0.0711 - accuracy: 0.9735 - precision_46: 0.9748 - val_loss: 0.7356 - val_accuracy: 0.7658 - val_precision_46: 0.7552\n",
            "Epoch 9/30\n",
            "119/119 [==============================] - 13s 105ms/step - loss: 0.0617 - accuracy: 0.9792 - precision_46: 0.9792 - val_loss: 0.8187 - val_accuracy: 0.7463 - val_precision_46: 0.6846\n",
            "Epoch 10/30\n",
            "119/119 [==============================] - 13s 106ms/step - loss: 0.0595 - accuracy: 0.9806 - precision_46: 0.9810 - val_loss: 0.7507 - val_accuracy: 0.7542 - val_precision_46: 0.7127\n",
            "Epoch 11/30\n",
            "119/119 [==============================] - 12s 105ms/step - loss: 0.0504 - accuracy: 0.9821 - precision_46: 0.9835 - val_loss: 0.8247 - val_accuracy: 0.7553 - val_precision_46: 0.7256\n",
            "Epoch 12/30\n",
            "119/119 [==============================] - 12s 105ms/step - loss: 0.0464 - accuracy: 0.9837 - precision_46: 0.9841 - val_loss: 0.8283 - val_accuracy: 0.7511 - val_precision_46: 0.7121\n",
            "60/60 [==============================] - 2s 20ms/step - loss: 0.4536 - accuracy: 0.8054 - precision_46: 0.8243\n",
            "Epoch 1/30\n",
            "119/119 [==============================] - 16s 112ms/step - loss: 0.6662 - accuracy: 0.5883 - precision_47: 0.8272 - val_loss: 0.6232 - val_accuracy: 0.7043 - val_precision_47: 0.9371\n",
            "Epoch 2/30\n",
            "119/119 [==============================] - 13s 106ms/step - loss: 0.4551 - accuracy: 0.8177 - precision_47: 0.8740 - val_loss: 0.4549 - val_accuracy: 0.7988 - val_precision_47: 0.8116\n",
            "Epoch 3/30\n",
            "119/119 [==============================] - 13s 107ms/step - loss: 0.2471 - accuracy: 0.9054 - precision_47: 0.9194 - val_loss: 0.4775 - val_accuracy: 0.7957 - val_precision_47: 0.7953\n",
            "Epoch 4/30\n",
            "119/119 [==============================] - 12s 103ms/step - loss: 0.1499 - accuracy: 0.9485 - precision_47: 0.9570 - val_loss: 0.5227 - val_accuracy: 0.7878 - val_precision_47: 0.7752\n",
            "Epoch 5/30\n",
            "119/119 [==============================] - 13s 106ms/step - loss: 0.1033 - accuracy: 0.9635 - precision_47: 0.9726 - val_loss: 0.5647 - val_accuracy: 0.7700 - val_precision_47: 0.7229\n",
            "Epoch 6/30\n",
            "119/119 [==============================] - 12s 105ms/step - loss: 0.0837 - accuracy: 0.9708 - precision_47: 0.9707 - val_loss: 0.6480 - val_accuracy: 0.7574 - val_precision_47: 0.6974\n",
            "Epoch 7/30\n",
            "119/119 [==============================] - 13s 113ms/step - loss: 0.0655 - accuracy: 0.9779 - precision_47: 0.9776 - val_loss: 0.6483 - val_accuracy: 0.7778 - val_precision_47: 0.7851\n",
            "Epoch 8/30\n",
            "119/119 [==============================] - 12s 104ms/step - loss: 0.0569 - accuracy: 0.9821 - precision_47: 0.9844 - val_loss: 0.6931 - val_accuracy: 0.7799 - val_precision_47: 0.7506\n",
            "Epoch 9/30\n",
            "119/119 [==============================] - 13s 111ms/step - loss: 0.0499 - accuracy: 0.9821 - precision_47: 0.9814 - val_loss: 0.7278 - val_accuracy: 0.7684 - val_precision_47: 0.7230\n",
            "Epoch 10/30\n",
            "119/119 [==============================] - 13s 112ms/step - loss: 0.0462 - accuracy: 0.9848 - precision_47: 0.9833 - val_loss: 0.7476 - val_accuracy: 0.7600 - val_precision_47: 0.7065\n",
            "Epoch 11/30\n",
            "119/119 [==============================] - 13s 113ms/step - loss: 0.0423 - accuracy: 0.9824 - precision_47: 0.9802 - val_loss: 0.7942 - val_accuracy: 0.7442 - val_precision_47: 0.6749\n",
            "Epoch 12/30\n",
            "119/119 [==============================] - 14s 114ms/step - loss: 0.0403 - accuracy: 0.9832 - precision_47: 0.9820 - val_loss: 0.7882 - val_accuracy: 0.7563 - val_precision_47: 0.7036\n",
            "60/60 [==============================] - 2s 20ms/step - loss: 0.4877 - accuracy: 0.7872 - precision_47: 0.8076\n",
            "Epoch 1/30\n",
            "119/119 [==============================] - 54s 423ms/step - loss: 0.6479 - accuracy: 0.6369 - precision_48: 0.7644 - val_loss: 0.5222 - val_accuracy: 0.7684 - val_precision_48: 0.9043\n",
            "Epoch 2/30\n",
            "119/119 [==============================] - 44s 371ms/step - loss: 0.3646 - accuracy: 0.8468 - precision_48: 0.8722 - val_loss: 0.4606 - val_accuracy: 0.7952 - val_precision_48: 0.8009\n",
            "Epoch 3/30\n",
            "119/119 [==============================] - 50s 418ms/step - loss: 0.2269 - accuracy: 0.9159 - precision_48: 0.9307 - val_loss: 0.5267 - val_accuracy: 0.7899 - val_precision_48: 0.7997\n",
            "Epoch 4/30\n",
            "119/119 [==============================] - 45s 381ms/step - loss: 0.1473 - accuracy: 0.9467 - precision_48: 0.9485 - val_loss: 0.6154 - val_accuracy: 0.7694 - val_precision_48: 0.7397\n",
            "Epoch 5/30\n",
            "119/119 [==============================] - 44s 370ms/step - loss: 0.1064 - accuracy: 0.9630 - precision_48: 0.9672 - val_loss: 0.6965 - val_accuracy: 0.7673 - val_precision_48: 0.7245\n",
            "Epoch 6/30\n",
            "119/119 [==============================] - 45s 378ms/step - loss: 0.0860 - accuracy: 0.9719 - precision_48: 0.9759 - val_loss: 0.7970 - val_accuracy: 0.7400 - val_precision_48: 0.6699\n",
            "Epoch 7/30\n",
            "119/119 [==============================] - 45s 375ms/step - loss: 0.0788 - accuracy: 0.9729 - precision_48: 0.9737 - val_loss: 0.8619 - val_accuracy: 0.7479 - val_precision_48: 0.6852\n",
            "Epoch 8/30\n",
            "119/119 [==============================] - 45s 377ms/step - loss: 0.0635 - accuracy: 0.9790 - precision_48: 0.9792 - val_loss: 0.9096 - val_accuracy: 0.7495 - val_precision_48: 0.6909\n",
            "Epoch 9/30\n",
            "119/119 [==============================] - 46s 382ms/step - loss: 0.0590 - accuracy: 0.9779 - precision_48: 0.9768 - val_loss: 0.8561 - val_accuracy: 0.7542 - val_precision_48: 0.7091\n",
            "Epoch 10/30\n",
            "119/119 [==============================] - 45s 378ms/step - loss: 0.0515 - accuracy: 0.9800 - precision_48: 0.9775 - val_loss: 0.9210 - val_accuracy: 0.7484 - val_precision_48: 0.7062\n",
            "Epoch 11/30\n",
            "119/119 [==============================] - 50s 418ms/step - loss: 0.0505 - accuracy: 0.9816 - precision_48: 0.9841 - val_loss: 0.9174 - val_accuracy: 0.7458 - val_precision_48: 0.6961\n",
            "Epoch 12/30\n",
            "119/119 [==============================] - 49s 416ms/step - loss: 0.0439 - accuracy: 0.9834 - precision_48: 0.9847 - val_loss: 1.0549 - val_accuracy: 0.7374 - val_precision_48: 0.6760\n",
            "60/60 [==============================] - 7s 99ms/step - loss: 0.4946 - accuracy: 0.7778 - precision_48: 0.7647\n",
            "Epoch 1/30\n",
            "119/119 [==============================] - 47s 363ms/step - loss: 0.6224 - accuracy: 0.6561 - precision_49: 0.7401 - val_loss: 0.4986 - val_accuracy: 0.7910 - val_precision_49: 0.8197\n",
            "Epoch 2/30\n",
            "119/119 [==============================] - 45s 376ms/step - loss: 0.3627 - accuracy: 0.8531 - precision_49: 0.8810 - val_loss: 0.4649 - val_accuracy: 0.7889 - val_precision_49: 0.7788\n",
            "Epoch 3/30\n",
            "119/119 [==============================] - 49s 413ms/step - loss: 0.2065 - accuracy: 0.9162 - precision_49: 0.9246 - val_loss: 0.5565 - val_accuracy: 0.7589 - val_precision_49: 0.7053\n",
            "Epoch 4/30\n",
            "119/119 [==============================] - 44s 368ms/step - loss: 0.1339 - accuracy: 0.9503 - precision_49: 0.9539 - val_loss: 0.6788 - val_accuracy: 0.7479 - val_precision_49: 0.6869\n",
            "Epoch 5/30\n",
            "119/119 [==============================] - 49s 408ms/step - loss: 0.0963 - accuracy: 0.9700 - precision_49: 0.9711 - val_loss: 0.6521 - val_accuracy: 0.7416 - val_precision_49: 0.6895\n",
            "Epoch 6/30\n",
            "119/119 [==============================] - 49s 413ms/step - loss: 0.0791 - accuracy: 0.9735 - precision_49: 0.9760 - val_loss: 0.7811 - val_accuracy: 0.7547 - val_precision_49: 0.7100\n",
            "Epoch 7/30\n",
            "119/119 [==============================] - 44s 367ms/step - loss: 0.0660 - accuracy: 0.9764 - precision_49: 0.9756 - val_loss: 0.8272 - val_accuracy: 0.7416 - val_precision_49: 0.6927\n",
            "Epoch 8/30\n",
            "119/119 [==============================] - 49s 409ms/step - loss: 0.0544 - accuracy: 0.9800 - precision_49: 0.9816 - val_loss: 0.9227 - val_accuracy: 0.7563 - val_precision_49: 0.7349\n",
            "Epoch 9/30\n",
            "119/119 [==============================] - 44s 367ms/step - loss: 0.0518 - accuracy: 0.9821 - precision_49: 0.9805 - val_loss: 0.8548 - val_accuracy: 0.7442 - val_precision_49: 0.7012\n",
            "Epoch 10/30\n",
            "119/119 [==============================] - 44s 369ms/step - loss: 0.0459 - accuracy: 0.9813 - precision_49: 0.9787 - val_loss: 1.0307 - val_accuracy: 0.7374 - val_precision_49: 0.6764\n",
            "Epoch 11/30\n",
            "119/119 [==============================] - 44s 366ms/step - loss: 0.0624 - accuracy: 0.9787 - precision_49: 0.9769 - val_loss: 1.0089 - val_accuracy: 0.7505 - val_precision_49: 0.7195\n",
            "Epoch 12/30\n",
            "119/119 [==============================] - 43s 360ms/step - loss: 0.0425 - accuracy: 0.9829 - precision_49: 0.9841 - val_loss: 1.0394 - val_accuracy: 0.7442 - val_precision_49: 0.6988\n",
            "60/60 [==============================] - 7s 97ms/step - loss: 0.4675 - accuracy: 0.7918 - precision_49: 0.7966\n",
            "Epoch 1/30\n",
            "119/119 [==============================] - 45s 354ms/step - loss: 0.6162 - accuracy: 0.6553 - precision_50: 0.7326 - val_loss: 0.4622 - val_accuracy: 0.7773 - val_precision_50: 0.8236\n",
            "Epoch 2/30\n",
            "119/119 [==============================] - 42s 355ms/step - loss: 0.3237 - accuracy: 0.8707 - precision_50: 0.8917 - val_loss: 0.4807 - val_accuracy: 0.7852 - val_precision_50: 0.7737\n",
            "Epoch 3/30\n",
            "119/119 [==============================] - 42s 357ms/step - loss: 0.1622 - accuracy: 0.9383 - precision_50: 0.9436 - val_loss: 0.6248 - val_accuracy: 0.7553 - val_precision_50: 0.7182\n",
            "Epoch 4/30\n",
            "119/119 [==============================] - 43s 361ms/step - loss: 0.0987 - accuracy: 0.9653 - precision_50: 0.9662 - val_loss: 0.6951 - val_accuracy: 0.7647 - val_precision_50: 0.7331\n",
            "Epoch 5/30\n",
            "119/119 [==============================] - 46s 391ms/step - loss: 0.0724 - accuracy: 0.9753 - precision_50: 0.9757 - val_loss: 0.7583 - val_accuracy: 0.7631 - val_precision_50: 0.7407\n",
            "Epoch 6/30\n",
            "119/119 [==============================] - 43s 359ms/step - loss: 0.0649 - accuracy: 0.9777 - precision_50: 0.9764 - val_loss: 0.7824 - val_accuracy: 0.7400 - val_precision_50: 0.6866\n",
            "Epoch 7/30\n",
            "119/119 [==============================] - 43s 359ms/step - loss: 0.0550 - accuracy: 0.9798 - precision_50: 0.9783 - val_loss: 0.8435 - val_accuracy: 0.7600 - val_precision_50: 0.7405\n",
            "Epoch 8/30\n",
            "119/119 [==============================] - 42s 350ms/step - loss: 0.0478 - accuracy: 0.9819 - precision_50: 0.9832 - val_loss: 0.8753 - val_accuracy: 0.7568 - val_precision_50: 0.7238\n",
            "Epoch 9/30\n",
            "119/119 [==============================] - 42s 358ms/step - loss: 0.0392 - accuracy: 0.9848 - precision_50: 0.9845 - val_loss: 0.9284 - val_accuracy: 0.7489 - val_precision_50: 0.7055\n",
            "Epoch 10/30\n",
            "119/119 [==============================] - 43s 360ms/step - loss: 0.0370 - accuracy: 0.9845 - precision_50: 0.9833 - val_loss: 1.0338 - val_accuracy: 0.7416 - val_precision_50: 0.6945\n",
            "Epoch 11/30\n",
            "119/119 [==============================] - 47s 394ms/step - loss: 0.0321 - accuracy: 0.9834 - precision_50: 0.9820 - val_loss: 1.0192 - val_accuracy: 0.7342 - val_precision_50: 0.6838\n",
            "60/60 [==============================] - 8s 114ms/step - loss: 0.5047 - accuracy: 0.7710 - precision_50: 0.8176\n",
            "Epoch 1/30\n",
            "119/119 [==============================] - 23s 177ms/step - loss: 0.6333 - accuracy: 0.6852 - precision_51: 0.7170 - val_loss: 0.4611 - val_accuracy: 0.8004 - val_precision_51: 0.8236\n",
            "Epoch 2/30\n",
            "119/119 [==============================] - 18s 150ms/step - loss: 0.3095 - accuracy: 0.8736 - precision_51: 0.8899 - val_loss: 0.5205 - val_accuracy: 0.7705 - val_precision_51: 0.7321\n",
            "Epoch 3/30\n",
            "119/119 [==============================] - 18s 148ms/step - loss: 0.1813 - accuracy: 0.9333 - precision_51: 0.9468 - val_loss: 0.5945 - val_accuracy: 0.7511 - val_precision_51: 0.7075\n",
            "Epoch 4/30\n",
            "119/119 [==============================] - 19s 157ms/step - loss: 0.1169 - accuracy: 0.9606 - precision_51: 0.9629 - val_loss: 0.7197 - val_accuracy: 0.7584 - val_precision_51: 0.7099\n",
            "Epoch 5/30\n",
            "119/119 [==============================] - 18s 150ms/step - loss: 0.0708 - accuracy: 0.9758 - precision_51: 0.9803 - val_loss: 0.7945 - val_accuracy: 0.7595 - val_precision_51: 0.7233\n",
            "Epoch 6/30\n",
            "119/119 [==============================] - 18s 147ms/step - loss: 0.0516 - accuracy: 0.9782 - precision_51: 0.9804 - val_loss: 0.9267 - val_accuracy: 0.7405 - val_precision_51: 0.7001\n",
            "Epoch 7/30\n",
            "119/119 [==============================] - 19s 156ms/step - loss: 0.0430 - accuracy: 0.9819 - precision_51: 0.9835 - val_loss: 1.0945 - val_accuracy: 0.7489 - val_precision_51: 0.6987\n",
            "Epoch 8/30\n",
            "119/119 [==============================] - 18s 149ms/step - loss: 0.0378 - accuracy: 0.9829 - precision_51: 0.9847 - val_loss: 1.0301 - val_accuracy: 0.7290 - val_precision_51: 0.6849\n",
            "Epoch 9/30\n",
            "119/119 [==============================] - 20s 171ms/step - loss: 0.0331 - accuracy: 0.9837 - precision_51: 0.9847 - val_loss: 1.1919 - val_accuracy: 0.7316 - val_precision_51: 0.6624\n",
            "Epoch 10/30\n",
            "119/119 [==============================] - 17s 144ms/step - loss: 0.0297 - accuracy: 0.9853 - precision_51: 0.9866 - val_loss: 1.3474 - val_accuracy: 0.7332 - val_precision_51: 0.6674\n",
            "Epoch 11/30\n",
            "119/119 [==============================] - 18s 150ms/step - loss: 0.0343 - accuracy: 0.9855 - precision_51: 0.9872 - val_loss: 1.3295 - val_accuracy: 0.7190 - val_precision_51: 0.6376\n",
            "60/60 [==============================] - 5s 54ms/step - loss: 0.4712 - accuracy: 0.7858 - precision_51: 0.8300\n",
            "Epoch 1/30\n",
            "119/119 [==============================] - 26s 182ms/step - loss: 0.5704 - accuracy: 0.7115 - precision_52: 0.7612 - val_loss: 0.4786 - val_accuracy: 0.7799 - val_precision_52: 0.7782\n",
            "Epoch 2/30\n",
            "119/119 [==============================] - 19s 163ms/step - loss: 0.2790 - accuracy: 0.8904 - precision_52: 0.8999 - val_loss: 0.5854 - val_accuracy: 0.7426 - val_precision_52: 0.7031\n",
            "Epoch 3/30\n",
            "119/119 [==============================] - 21s 173ms/step - loss: 0.1465 - accuracy: 0.9475 - precision_52: 0.9497 - val_loss: 0.6438 - val_accuracy: 0.7532 - val_precision_52: 0.7034\n",
            "Epoch 4/30\n",
            "119/119 [==============================] - 19s 159ms/step - loss: 0.0935 - accuracy: 0.9708 - precision_52: 0.9723 - val_loss: 0.8351 - val_accuracy: 0.7279 - val_precision_52: 0.6686\n",
            "Epoch 5/30\n",
            "119/119 [==============================] - 21s 173ms/step - loss: 0.0518 - accuracy: 0.9782 - precision_52: 0.9792 - val_loss: 1.0452 - val_accuracy: 0.6996 - val_precision_52: 0.6185\n",
            "Epoch 6/30\n",
            "119/119 [==============================] - 19s 160ms/step - loss: 0.0386 - accuracy: 0.9821 - precision_52: 0.9847 - val_loss: 1.2382 - val_accuracy: 0.7232 - val_precision_52: 0.6765\n",
            "Epoch 7/30\n",
            "119/119 [==============================] - 20s 172ms/step - loss: 0.0383 - accuracy: 0.9829 - precision_52: 0.9847 - val_loss: 1.1708 - val_accuracy: 0.7143 - val_precision_52: 0.6432\n",
            "Epoch 8/30\n",
            "119/119 [==============================] - 19s 158ms/step - loss: 0.0300 - accuracy: 0.9850 - precision_52: 0.9889 - val_loss: 1.3278 - val_accuracy: 0.7274 - val_precision_52: 0.6678\n",
            "Epoch 9/30\n",
            "119/119 [==============================] - 20s 170ms/step - loss: 0.0300 - accuracy: 0.9848 - precision_52: 0.9871 - val_loss: 1.1358 - val_accuracy: 0.7348 - val_precision_52: 0.6944\n",
            "Epoch 10/30\n",
            "119/119 [==============================] - 19s 159ms/step - loss: 0.0320 - accuracy: 0.9855 - precision_52: 0.9889 - val_loss: 1.2775 - val_accuracy: 0.7269 - val_precision_52: 0.6940\n",
            "Epoch 11/30\n",
            "119/119 [==============================] - 20s 170ms/step - loss: 0.0241 - accuracy: 0.9874 - precision_52: 0.9914 - val_loss: 1.4876 - val_accuracy: 0.7012 - val_precision_52: 0.6263\n",
            "60/60 [==============================] - 5s 72ms/step - loss: 0.4660 - accuracy: 0.7991 - precision_52: 0.8221\n",
            "Epoch 1/30\n",
            "119/119 [==============================] - 22s 166ms/step - loss: 0.5507 - accuracy: 0.7149 - precision_53: 0.7688 - val_loss: 0.4784 - val_accuracy: 0.7778 - val_precision_53: 0.7586\n",
            "Epoch 2/30\n",
            "119/119 [==============================] - 20s 171ms/step - loss: 0.2608 - accuracy: 0.9007 - precision_53: 0.9157 - val_loss: 0.5805 - val_accuracy: 0.7532 - val_precision_53: 0.7327\n",
            "Epoch 3/30\n",
            "119/119 [==============================] - 19s 159ms/step - loss: 0.1044 - accuracy: 0.9648 - precision_53: 0.9661 - val_loss: 0.7605 - val_accuracy: 0.7479 - val_precision_53: 0.7126\n",
            "Epoch 4/30\n",
            "119/119 [==============================] - 20s 171ms/step - loss: 0.0661 - accuracy: 0.9792 - precision_53: 0.9753 - val_loss: 0.7732 - val_accuracy: 0.7437 - val_precision_53: 0.7147\n",
            "Epoch 5/30\n",
            "119/119 [==============================] - 19s 160ms/step - loss: 0.0407 - accuracy: 0.9821 - precision_53: 0.9802 - val_loss: 0.9941 - val_accuracy: 0.7353 - val_precision_53: 0.6803\n",
            "Epoch 6/30\n",
            "119/119 [==============================] - 20s 169ms/step - loss: 0.0324 - accuracy: 0.9837 - precision_53: 0.9815 - val_loss: 1.0034 - val_accuracy: 0.7348 - val_precision_53: 0.6995\n",
            "Epoch 7/30\n",
            "119/119 [==============================] - 19s 160ms/step - loss: 0.0320 - accuracy: 0.9832 - precision_53: 0.9820 - val_loss: 1.1671 - val_accuracy: 0.7348 - val_precision_53: 0.7219\n",
            "Epoch 8/30\n",
            "119/119 [==============================] - 22s 188ms/step - loss: 0.0267 - accuracy: 0.9858 - precision_53: 0.9894 - val_loss: 1.2993 - val_accuracy: 0.7432 - val_precision_53: 0.7143\n",
            "Epoch 9/30\n",
            "119/119 [==============================] - 19s 161ms/step - loss: 0.0318 - accuracy: 0.9855 - precision_53: 0.9869 - val_loss: 1.1514 - val_accuracy: 0.7342 - val_precision_53: 0.7012\n",
            "Epoch 10/30\n",
            "119/119 [==============================] - 20s 167ms/step - loss: 0.0276 - accuracy: 0.9850 - precision_53: 0.9809 - val_loss: 1.3115 - val_accuracy: 0.7295 - val_precision_53: 0.6652\n",
            "Epoch 11/30\n",
            "119/119 [==============================] - 19s 159ms/step - loss: 0.0231 - accuracy: 0.9877 - precision_53: 0.9937 - val_loss: 1.4505 - val_accuracy: 0.7285 - val_precision_53: 0.6670\n",
            "60/60 [==============================] - 4s 47ms/step - loss: 0.4943 - accuracy: 0.7748 - precision_53: 0.7716\n",
            "Epoch 1/30\n",
            "119/119 [==============================] - 29s 216ms/step - loss: 0.6699 - accuracy: 0.5909 - precision_54: 0.7674 - val_loss: 0.6198 - val_accuracy: 0.6991 - val_precision_54: 0.7765\n",
            "Epoch 2/30\n",
            "119/119 [==============================] - 25s 209ms/step - loss: 0.4975 - accuracy: 0.7814 - precision_54: 0.8145 - val_loss: 0.4492 - val_accuracy: 0.8020 - val_precision_54: 0.8574\n",
            "Epoch 3/30\n",
            "119/119 [==============================] - 23s 190ms/step - loss: 0.3102 - accuracy: 0.8736 - precision_54: 0.9124 - val_loss: 0.4645 - val_accuracy: 0.8036 - val_precision_54: 0.8281\n",
            "Epoch 4/30\n",
            "119/119 [==============================] - 24s 200ms/step - loss: 0.2223 - accuracy: 0.9125 - precision_54: 0.9329 - val_loss: 0.5087 - val_accuracy: 0.7952 - val_precision_54: 0.7801\n",
            "Epoch 5/30\n",
            "119/119 [==============================] - 24s 201ms/step - loss: 0.1669 - accuracy: 0.9380 - precision_54: 0.9526 - val_loss: 0.5817 - val_accuracy: 0.7868 - val_precision_54: 0.7739\n",
            "Epoch 6/30\n",
            "119/119 [==============================] - 24s 201ms/step - loss: 0.1252 - accuracy: 0.9545 - precision_54: 0.9683 - val_loss: 0.5575 - val_accuracy: 0.7742 - val_precision_54: 0.7421\n",
            "Epoch 7/30\n",
            "119/119 [==============================] - 25s 210ms/step - loss: 0.1026 - accuracy: 0.9632 - precision_54: 0.9730 - val_loss: 0.7344 - val_accuracy: 0.7820 - val_precision_54: 0.7646\n",
            "Epoch 8/30\n",
            "119/119 [==============================] - 25s 211ms/step - loss: 0.0921 - accuracy: 0.9698 - precision_54: 0.9794 - val_loss: 0.7726 - val_accuracy: 0.7773 - val_precision_54: 0.7478\n",
            "Epoch 9/30\n",
            "119/119 [==============================] - 25s 214ms/step - loss: 0.0860 - accuracy: 0.9695 - precision_54: 0.9711 - val_loss: 0.7563 - val_accuracy: 0.7826 - val_precision_54: 0.7838\n",
            "Epoch 10/30\n",
            "119/119 [==============================] - 23s 192ms/step - loss: 0.0678 - accuracy: 0.9727 - precision_54: 0.9789 - val_loss: 0.9046 - val_accuracy: 0.7668 - val_precision_54: 0.7344\n",
            "Epoch 11/30\n",
            "119/119 [==============================] - 26s 219ms/step - loss: 0.0700 - accuracy: 0.9737 - precision_54: 0.9778 - val_loss: 0.8494 - val_accuracy: 0.7616 - val_precision_54: 0.7202\n",
            "Epoch 12/30\n",
            "119/119 [==============================] - 26s 221ms/step - loss: 0.0610 - accuracy: 0.9785 - precision_54: 0.9816 - val_loss: 1.0015 - val_accuracy: 0.7621 - val_precision_54: 0.7278\n",
            "60/60 [==============================] - 5s 66ms/step - loss: 0.4810 - accuracy: 0.7764 - precision_54: 0.7845\n",
            "Epoch 1/30\n",
            "119/119 [==============================] - 27s 202ms/step - loss: 0.6753 - accuracy: 0.5728 - precision_55: 0.6780 - val_loss: 0.6459 - val_accuracy: 0.6418 - val_precision_55: 0.9517\n",
            "Epoch 2/30\n",
            "119/119 [==============================] - 23s 194ms/step - loss: 0.5232 - accuracy: 0.7617 - precision_55: 0.8304 - val_loss: 0.4713 - val_accuracy: 0.8015 - val_precision_55: 0.8383\n",
            "Epoch 3/30\n",
            "119/119 [==============================] - 25s 207ms/step - loss: 0.3223 - accuracy: 0.8710 - precision_55: 0.9025 - val_loss: 0.4890 - val_accuracy: 0.7826 - val_precision_55: 0.7322\n",
            "Epoch 4/30\n",
            "119/119 [==============================] - 22s 188ms/step - loss: 0.2199 - accuracy: 0.9136 - precision_55: 0.9290 - val_loss: 0.4883 - val_accuracy: 0.7799 - val_precision_55: 0.7526\n",
            "Epoch 5/30\n",
            "119/119 [==============================] - 23s 196ms/step - loss: 0.1610 - accuracy: 0.9414 - precision_55: 0.9512 - val_loss: 0.5139 - val_accuracy: 0.7731 - val_precision_55: 0.7445\n",
            "Epoch 6/30\n",
            "119/119 [==============================] - 25s 210ms/step - loss: 0.1211 - accuracy: 0.9585 - precision_55: 0.9639 - val_loss: 0.5447 - val_accuracy: 0.7778 - val_precision_55: 0.7746\n",
            "Epoch 7/30\n",
            "119/119 [==============================] - 23s 194ms/step - loss: 0.0973 - accuracy: 0.9651 - precision_55: 0.9702 - val_loss: 0.6949 - val_accuracy: 0.7689 - val_precision_55: 0.7483\n",
            "Epoch 8/30\n",
            "119/119 [==============================] - 25s 206ms/step - loss: 0.0833 - accuracy: 0.9682 - precision_55: 0.9716 - val_loss: 0.7546 - val_accuracy: 0.7689 - val_precision_55: 0.7630\n",
            "Epoch 9/30\n",
            "119/119 [==============================] - 23s 190ms/step - loss: 0.0717 - accuracy: 0.9748 - precision_55: 0.9814 - val_loss: 0.7731 - val_accuracy: 0.7631 - val_precision_55: 0.7345\n",
            "Epoch 10/30\n",
            "119/119 [==============================] - 23s 198ms/step - loss: 0.0612 - accuracy: 0.9787 - precision_55: 0.9792 - val_loss: 0.8674 - val_accuracy: 0.7568 - val_precision_55: 0.7279\n",
            "Epoch 11/30\n",
            "119/119 [==============================] - 25s 212ms/step - loss: 0.0523 - accuracy: 0.9808 - precision_55: 0.9840 - val_loss: 0.9739 - val_accuracy: 0.7568 - val_precision_55: 0.7285\n",
            "Epoch 12/30\n",
            "119/119 [==============================] - 25s 207ms/step - loss: 0.1314 - accuracy: 0.9611 - precision_55: 0.9551 - val_loss: 0.6980 - val_accuracy: 0.7637 - val_precision_55: 0.7324\n",
            "60/60 [==============================] - 4s 52ms/step - loss: 0.4733 - accuracy: 0.7918 - precision_55: 0.8062\n",
            "Epoch 1/30\n",
            "119/119 [==============================] - 26s 199ms/step - loss: 0.6735 - accuracy: 0.5783 - precision_56: 0.6471 - val_loss: 0.6385 - val_accuracy: 0.6675 - val_precision_56: 0.9737\n",
            "Epoch 2/30\n",
            "119/119 [==============================] - 23s 193ms/step - loss: 0.5186 - accuracy: 0.7775 - precision_56: 0.7913 - val_loss: 0.4969 - val_accuracy: 0.7763 - val_precision_56: 0.8157\n",
            "Epoch 3/30\n",
            "119/119 [==============================] - 24s 203ms/step - loss: 0.2933 - accuracy: 0.8886 - precision_56: 0.9188 - val_loss: 0.4838 - val_accuracy: 0.8004 - val_precision_56: 0.8217\n",
            "Epoch 4/30\n",
            "119/119 [==============================] - 22s 182ms/step - loss: 0.1853 - accuracy: 0.9325 - precision_56: 0.9451 - val_loss: 0.5158 - val_accuracy: 0.7899 - val_precision_56: 0.7840\n",
            "Epoch 5/30\n",
            "119/119 [==============================] - 23s 193ms/step - loss: 0.1232 - accuracy: 0.9551 - precision_56: 0.9659 - val_loss: 0.5575 - val_accuracy: 0.7925 - val_precision_56: 0.7802\n",
            "Epoch 6/30\n",
            "119/119 [==============================] - 23s 193ms/step - loss: 0.0949 - accuracy: 0.9632 - precision_56: 0.9660 - val_loss: 0.6406 - val_accuracy: 0.7584 - val_precision_56: 0.6972\n",
            "Epoch 7/30\n",
            "119/119 [==============================] - 24s 204ms/step - loss: 0.0758 - accuracy: 0.9721 - precision_56: 0.9731 - val_loss: 0.7024 - val_accuracy: 0.7778 - val_precision_56: 0.7621\n",
            "Epoch 8/30\n",
            "119/119 [==============================] - 22s 181ms/step - loss: 0.0602 - accuracy: 0.9785 - precision_56: 0.9818 - val_loss: 0.7376 - val_accuracy: 0.7763 - val_precision_56: 0.7478\n",
            "Epoch 9/30\n",
            "119/119 [==============================] - 23s 192ms/step - loss: 0.0541 - accuracy: 0.9808 - precision_56: 0.9807 - val_loss: 0.7825 - val_accuracy: 0.7810 - val_precision_56: 0.7654\n",
            "Epoch 10/30\n",
            "119/119 [==============================] - 23s 193ms/step - loss: 0.0480 - accuracy: 0.9819 - precision_56: 0.9814 - val_loss: 0.8392 - val_accuracy: 0.7694 - val_precision_56: 0.7232\n",
            "Epoch 11/30\n",
            "119/119 [==============================] - 22s 182ms/step - loss: 0.0428 - accuracy: 0.9824 - precision_56: 0.9820 - val_loss: 0.8650 - val_accuracy: 0.7484 - val_precision_56: 0.6835\n",
            "Epoch 12/30\n",
            "119/119 [==============================] - 23s 193ms/step - loss: 0.0428 - accuracy: 0.9824 - precision_56: 0.9802 - val_loss: 0.8494 - val_accuracy: 0.7621 - val_precision_56: 0.7138\n",
            "Epoch 13/30\n",
            "119/119 [==============================] - 23s 192ms/step - loss: 0.0403 - accuracy: 0.9834 - precision_56: 0.9826 - val_loss: 0.8378 - val_accuracy: 0.7700 - val_precision_56: 0.7413\n",
            "60/60 [==============================] - 6s 55ms/step - loss: 0.5463 - accuracy: 0.7816 - precision_56: 0.8058\n",
            "Epoch 1/30\n",
            "119/119 [==============================] - 40s 310ms/step - loss: 0.6251 - accuracy: 0.6797 - precision_57: 0.7254 - val_loss: 0.5109 - val_accuracy: 0.7637 - val_precision_57: 0.7705\n",
            "Epoch 2/30\n",
            "119/119 [==============================] - 36s 301ms/step - loss: 0.3417 - accuracy: 0.8555 - precision_57: 0.8641 - val_loss: 0.4950 - val_accuracy: 0.7794 - val_precision_57: 0.7623\n",
            "Epoch 3/30\n",
            "119/119 [==============================] - 38s 320ms/step - loss: 0.1886 - accuracy: 0.9309 - precision_57: 0.9375 - val_loss: 0.5994 - val_accuracy: 0.7626 - val_precision_57: 0.7497\n",
            "Epoch 4/30\n",
            "119/119 [==============================] - 38s 321ms/step - loss: 0.1217 - accuracy: 0.9587 - precision_57: 0.9611 - val_loss: 0.6951 - val_accuracy: 0.7568 - val_precision_57: 0.7315\n",
            "Epoch 5/30\n",
            "119/119 [==============================] - 35s 295ms/step - loss: 0.0832 - accuracy: 0.9695 - precision_57: 0.9688 - val_loss: 0.8096 - val_accuracy: 0.7500 - val_precision_57: 0.7057\n",
            "Epoch 6/30\n",
            "119/119 [==============================] - 36s 306ms/step - loss: 0.0592 - accuracy: 0.9779 - precision_57: 0.9792 - val_loss: 0.9311 - val_accuracy: 0.7327 - val_precision_57: 0.6620\n",
            "Epoch 7/30\n",
            "119/119 [==============================] - 35s 298ms/step - loss: 0.0453 - accuracy: 0.9816 - precision_57: 0.9799 - val_loss: 1.0934 - val_accuracy: 0.7463 - val_precision_57: 0.6850\n",
            "Epoch 8/30\n",
            "119/119 [==============================] - 35s 294ms/step - loss: 0.0364 - accuracy: 0.9803 - precision_57: 0.9805 - val_loss: 1.1943 - val_accuracy: 0.7085 - val_precision_57: 0.6277\n",
            "Epoch 9/30\n",
            "119/119 [==============================] - 35s 295ms/step - loss: 0.0366 - accuracy: 0.9832 - precision_57: 0.9823 - val_loss: 1.1954 - val_accuracy: 0.7489 - val_precision_57: 0.6888\n",
            "Epoch 10/30\n",
            "119/119 [==============================] - 35s 298ms/step - loss: 0.0326 - accuracy: 0.9834 - precision_57: 0.9812 - val_loss: 1.2430 - val_accuracy: 0.7311 - val_precision_57: 0.6627\n",
            "Epoch 11/30\n",
            "119/119 [==============================] - 36s 300ms/step - loss: 0.2974 - accuracy: 0.8973 - precision_57: 0.9017 - val_loss: 0.8646 - val_accuracy: 0.7243 - val_precision_57: 0.6423\n",
            "Epoch 12/30\n",
            "119/119 [==============================] - 35s 295ms/step - loss: 0.1560 - accuracy: 0.9448 - precision_57: 0.9450 - val_loss: 0.8055 - val_accuracy: 0.7327 - val_precision_57: 0.6617\n",
            "60/60 [==============================] - 6s 80ms/step - loss: 0.5242 - accuracy: 0.7710 - precision_57: 0.7537\n",
            "Epoch 1/30\n",
            "119/119 [==============================] - 40s 312ms/step - loss: 0.5978 - accuracy: 0.6978 - precision_58: 0.7619 - val_loss: 0.4810 - val_accuracy: 0.7805 - val_precision_58: 0.7609\n",
            "Epoch 2/30\n",
            "119/119 [==============================] - 36s 307ms/step - loss: 0.3055 - accuracy: 0.8755 - precision_58: 0.8841 - val_loss: 0.5169 - val_accuracy: 0.7626 - val_precision_58: 0.7305\n",
            "Epoch 3/30\n",
            "119/119 [==============================] - 35s 293ms/step - loss: 0.1666 - accuracy: 0.9398 - precision_58: 0.9459 - val_loss: 0.6316 - val_accuracy: 0.7458 - val_precision_58: 0.6911\n",
            "Epoch 4/30\n",
            "119/119 [==============================] - 37s 308ms/step - loss: 0.1095 - accuracy: 0.9640 - precision_58: 0.9655 - val_loss: 0.7651 - val_accuracy: 0.7332 - val_precision_58: 0.6685\n",
            "Epoch 5/30\n",
            "119/119 [==============================] - 35s 296ms/step - loss: 0.0732 - accuracy: 0.9756 - precision_58: 0.9744 - val_loss: 0.7830 - val_accuracy: 0.7405 - val_precision_58: 0.6819\n",
            "Epoch 6/30\n",
            "119/119 [==============================] - 35s 297ms/step - loss: 0.0588 - accuracy: 0.9806 - precision_58: 0.9805 - val_loss: 0.9094 - val_accuracy: 0.7232 - val_precision_58: 0.6582\n",
            "Epoch 7/30\n",
            "119/119 [==============================] - 35s 297ms/step - loss: 0.0467 - accuracy: 0.9824 - precision_58: 0.9800 - val_loss: 0.9969 - val_accuracy: 0.7227 - val_precision_58: 0.6629\n",
            "Epoch 8/30\n",
            "119/119 [==============================] - 34s 286ms/step - loss: 0.0361 - accuracy: 0.9816 - precision_58: 0.9829 - val_loss: 1.0656 - val_accuracy: 0.7405 - val_precision_58: 0.6924\n",
            "Epoch 9/30\n",
            "119/119 [==============================] - 37s 310ms/step - loss: 0.0327 - accuracy: 0.9837 - precision_58: 0.9841 - val_loss: 1.0987 - val_accuracy: 0.7332 - val_precision_58: 0.6788\n",
            "Epoch 10/30\n",
            "119/119 [==============================] - 33s 281ms/step - loss: 0.0287 - accuracy: 0.9850 - precision_58: 0.9853 - val_loss: 1.2251 - val_accuracy: 0.7264 - val_precision_58: 0.6742\n",
            "Epoch 11/30\n",
            "119/119 [==============================] - 34s 283ms/step - loss: 0.0247 - accuracy: 0.9861 - precision_58: 0.9872 - val_loss: 1.4004 - val_accuracy: 0.7237 - val_precision_58: 0.6575\n",
            "60/60 [==============================] - 6s 77ms/step - loss: 0.4755 - accuracy: 0.7829 - precision_58: 0.7836\n",
            "Epoch 1/30\n",
            "119/119 [==============================] - 36s 286ms/step - loss: 0.5791 - accuracy: 0.7055 - precision_59: 0.8084 - val_loss: 0.4802 - val_accuracy: 0.7852 - val_precision_59: 0.7596\n",
            "Epoch 2/30\n",
            "119/119 [==============================] - 33s 274ms/step - loss: 0.2753 - accuracy: 0.8981 - precision_59: 0.9085 - val_loss: 0.5425 - val_accuracy: 0.7610 - val_precision_59: 0.7188\n",
            "Epoch 3/30\n",
            "119/119 [==============================] - 33s 276ms/step - loss: 0.1144 - accuracy: 0.9582 - precision_59: 0.9615 - val_loss: 0.7263 - val_accuracy: 0.7637 - val_precision_59: 0.7306\n",
            "Epoch 4/30\n",
            "119/119 [==============================] - 32s 267ms/step - loss: 0.0688 - accuracy: 0.9769 - precision_59: 0.9734 - val_loss: 0.7967 - val_accuracy: 0.7458 - val_precision_59: 0.6999\n",
            "Epoch 5/30\n",
            "119/119 [==============================] - 33s 280ms/step - loss: 0.0482 - accuracy: 0.9813 - precision_59: 0.9796 - val_loss: 0.7980 - val_accuracy: 0.7631 - val_precision_59: 0.7459\n",
            "Epoch 6/30\n",
            "119/119 [==============================] - 32s 273ms/step - loss: 0.0368 - accuracy: 0.9832 - precision_59: 0.9832 - val_loss: 0.8199 - val_accuracy: 0.7258 - val_precision_59: 0.6996\n",
            "Epoch 7/30\n",
            "119/119 [==============================] - 31s 264ms/step - loss: 0.0367 - accuracy: 0.9827 - precision_59: 0.9790 - val_loss: 1.1440 - val_accuracy: 0.7658 - val_precision_59: 0.7618\n",
            "Epoch 8/30\n",
            "119/119 [==============================] - 32s 270ms/step - loss: 0.0266 - accuracy: 0.9837 - precision_59: 0.9851 - val_loss: 1.2147 - val_accuracy: 0.7584 - val_precision_59: 0.7356\n",
            "Epoch 9/30\n",
            "119/119 [==============================] - 31s 265ms/step - loss: 0.0254 - accuracy: 0.9863 - precision_59: 0.9882 - val_loss: 1.2142 - val_accuracy: 0.7579 - val_precision_59: 0.7274\n",
            "Epoch 10/30\n",
            "119/119 [==============================] - 33s 274ms/step - loss: 0.0230 - accuracy: 0.9861 - precision_59: 0.9816 - val_loss: 1.3356 - val_accuracy: 0.7437 - val_precision_59: 0.6999\n",
            "Epoch 11/30\n",
            "119/119 [==============================] - 32s 269ms/step - loss: 0.0215 - accuracy: 0.9884 - precision_59: 0.9913 - val_loss: 1.4632 - val_accuracy: 0.7384 - val_precision_59: 0.6756\n",
            "60/60 [==============================] - 6s 84ms/step - loss: 0.5030 - accuracy: 0.7759 - precision_59: 0.7621\n",
            "Epoch 1/30\n",
            "119/119 [==============================] - 44s 346ms/step - loss: 0.5424 - accuracy: 0.7231 - precision_60: 0.7737 - val_loss: 0.4922 - val_accuracy: 0.7857 - val_precision_60: 0.8392\n",
            "Epoch 2/30\n",
            "119/119 [==============================] - 40s 340ms/step - loss: 0.2839 - accuracy: 0.8823 - precision_60: 0.8964 - val_loss: 0.5246 - val_accuracy: 0.7810 - val_precision_60: 0.7698\n",
            "Epoch 3/30\n",
            "119/119 [==============================] - 40s 339ms/step - loss: 0.1567 - accuracy: 0.9446 - precision_60: 0.9533 - val_loss: 0.6645 - val_accuracy: 0.7689 - val_precision_60: 0.7608\n",
            "Epoch 4/30\n",
            "119/119 [==============================] - 39s 332ms/step - loss: 0.1369 - accuracy: 0.9622 - precision_60: 0.9677 - val_loss: 0.7634 - val_accuracy: 0.7558 - val_precision_60: 0.7231\n",
            "Epoch 5/30\n",
            "119/119 [==============================] - 40s 341ms/step - loss: 0.0741 - accuracy: 0.9708 - precision_60: 0.9729 - val_loss: 0.9450 - val_accuracy: 0.7327 - val_precision_60: 0.6617\n",
            "Epoch 6/30\n",
            "119/119 [==============================] - 39s 332ms/step - loss: 0.0483 - accuracy: 0.9795 - precision_60: 0.9816 - val_loss: 1.0448 - val_accuracy: 0.7411 - val_precision_60: 0.6843\n",
            "Epoch 7/30\n",
            "119/119 [==============================] - 40s 333ms/step - loss: 0.0440 - accuracy: 0.9803 - precision_60: 0.9811 - val_loss: 0.9820 - val_accuracy: 0.7437 - val_precision_60: 0.7305\n",
            "Epoch 8/30\n",
            "119/119 [==============================] - 41s 341ms/step - loss: 0.0484 - accuracy: 0.9787 - precision_60: 0.9834 - val_loss: 1.1112 - val_accuracy: 0.7463 - val_precision_60: 0.7068\n",
            "Epoch 9/30\n",
            "119/119 [==============================] - 40s 338ms/step - loss: 0.0363 - accuracy: 0.9819 - precision_60: 0.9829 - val_loss: 1.2210 - val_accuracy: 0.7390 - val_precision_60: 0.6854\n",
            "Epoch 10/30\n",
            "119/119 [==============================] - 40s 338ms/step - loss: 0.0301 - accuracy: 0.9845 - precision_60: 0.9859 - val_loss: 1.2538 - val_accuracy: 0.7489 - val_precision_60: 0.6950\n",
            "Epoch 11/30\n",
            "119/119 [==============================] - 40s 340ms/step - loss: 0.0292 - accuracy: 0.9850 - precision_60: 0.9901 - val_loss: 1.4603 - val_accuracy: 0.7384 - val_precision_60: 0.6721\n",
            "60/60 [==============================] - 6s 82ms/step - loss: 0.4906 - accuracy: 0.7862 - precision_60: 0.8480\n",
            "Epoch 1/30\n",
            "119/119 [==============================] - 47s 370ms/step - loss: 0.5562 - accuracy: 0.7252 - precision_61: 0.7926 - val_loss: 0.4771 - val_accuracy: 0.7805 - val_precision_61: 0.7673\n",
            "Epoch 2/30\n",
            "119/119 [==============================] - 43s 363ms/step - loss: 0.2680 - accuracy: 0.8986 - precision_61: 0.9076 - val_loss: 0.5737 - val_accuracy: 0.7500 - val_precision_61: 0.7268\n",
            "Epoch 3/30\n",
            "119/119 [==============================] - 48s 404ms/step - loss: 0.1719 - accuracy: 0.9406 - precision_61: 0.9405 - val_loss: 0.6939 - val_accuracy: 0.7458 - val_precision_61: 0.6951\n",
            "Epoch 4/30\n",
            "119/119 [==============================] - 48s 407ms/step - loss: 0.0964 - accuracy: 0.9677 - precision_61: 0.9721 - val_loss: 0.7809 - val_accuracy: 0.7369 - val_precision_61: 0.6777\n",
            "Epoch 5/30\n",
            "119/119 [==============================] - 48s 407ms/step - loss: 0.0565 - accuracy: 0.9795 - precision_61: 0.9798 - val_loss: 0.8839 - val_accuracy: 0.7243 - val_precision_61: 0.6611\n",
            "Epoch 6/30\n",
            "119/119 [==============================] - 49s 410ms/step - loss: 0.0424 - accuracy: 0.9808 - precision_61: 0.9822 - val_loss: 1.2768 - val_accuracy: 0.7290 - val_precision_61: 0.6637\n",
            "Epoch 7/30\n",
            "119/119 [==============================] - 51s 427ms/step - loss: 0.0343 - accuracy: 0.9840 - precision_61: 0.9853 - val_loss: 1.1441 - val_accuracy: 0.7243 - val_precision_61: 0.6674\n",
            "Epoch 8/30\n",
            "119/119 [==============================] - 46s 385ms/step - loss: 0.0262 - accuracy: 0.9853 - precision_61: 0.9871 - val_loss: 1.3655 - val_accuracy: 0.7432 - val_precision_61: 0.7093\n",
            "Epoch 9/30\n",
            "119/119 [==============================] - 50s 421ms/step - loss: 0.0266 - accuracy: 0.9848 - precision_61: 0.9859 - val_loss: 1.3357 - val_accuracy: 0.7279 - val_precision_61: 0.6819\n",
            "Epoch 10/30\n",
            "119/119 [==============================] - 46s 387ms/step - loss: 0.0286 - accuracy: 0.9866 - precision_61: 0.9896 - val_loss: 1.2490 - val_accuracy: 0.7395 - val_precision_61: 0.7094\n",
            "Epoch 11/30\n",
            "119/119 [==============================] - 52s 438ms/step - loss: 0.0325 - accuracy: 0.9842 - precision_61: 0.9883 - val_loss: 1.4140 - val_accuracy: 0.7253 - val_precision_61: 0.6722\n",
            "60/60 [==============================] - 7s 98ms/step - loss: 0.4635 - accuracy: 0.7939 - precision_61: 0.7994\n",
            "Epoch 1/30\n",
            "119/119 [==============================] - 55s 439ms/step - loss: 0.5914 - accuracy: 0.7063 - precision_62: 0.7290 - val_loss: 0.4767 - val_accuracy: 0.7831 - val_precision_62: 0.7632\n",
            "Epoch 2/30\n",
            "119/119 [==============================] - 52s 433ms/step - loss: 0.2664 - accuracy: 0.8933 - precision_62: 0.9036 - val_loss: 0.5296 - val_accuracy: 0.7626 - val_precision_62: 0.7423\n",
            "Epoch 3/30\n",
            "119/119 [==============================] - 47s 395ms/step - loss: 0.1124 - accuracy: 0.9590 - precision_62: 0.9633 - val_loss: 0.6676 - val_accuracy: 0.7337 - val_precision_62: 0.6962\n",
            "Epoch 4/30\n",
            "119/119 [==============================] - 46s 391ms/step - loss: 0.0767 - accuracy: 0.9774 - precision_62: 0.9758 - val_loss: 0.7595 - val_accuracy: 0.7353 - val_precision_62: 0.6811\n",
            "Epoch 5/30\n",
            "119/119 [==============================] - 47s 395ms/step - loss: 0.0481 - accuracy: 0.9811 - precision_62: 0.9807 - val_loss: 0.8461 - val_accuracy: 0.7589 - val_precision_62: 0.7366\n",
            "Epoch 6/30\n",
            "119/119 [==============================] - 51s 430ms/step - loss: 0.0352 - accuracy: 0.9829 - precision_62: 0.9802 - val_loss: 0.9240 - val_accuracy: 0.7526 - val_precision_62: 0.7286\n",
            "Epoch 7/30\n",
            "119/119 [==============================] - 46s 390ms/step - loss: 0.0281 - accuracy: 0.9834 - precision_62: 0.9797 - val_loss: 1.1575 - val_accuracy: 0.7610 - val_precision_62: 0.7680\n",
            "Epoch 8/30\n",
            "119/119 [==============================] - 51s 432ms/step - loss: 0.0246 - accuracy: 0.9848 - precision_62: 0.9875 - val_loss: 1.1929 - val_accuracy: 0.7526 - val_precision_62: 0.7232\n",
            "Epoch 9/30\n",
            "119/119 [==============================] - 45s 381ms/step - loss: 0.0226 - accuracy: 0.9871 - precision_62: 0.9894 - val_loss: 1.3956 - val_accuracy: 0.7400 - val_precision_62: 0.6791\n",
            "Epoch 10/30\n",
            "119/119 [==============================] - 50s 419ms/step - loss: 0.0273 - accuracy: 0.9850 - precision_62: 0.9786 - val_loss: 1.1855 - val_accuracy: 0.7421 - val_precision_62: 0.7028\n",
            "Epoch 11/30\n",
            "119/119 [==============================] - 50s 420ms/step - loss: 0.0247 - accuracy: 0.9877 - precision_62: 0.9919 - val_loss: 1.0766 - val_accuracy: 0.7232 - val_precision_62: 0.6651\n",
            "60/60 [==============================] - 7s 96ms/step - loss: 0.4916 - accuracy: 0.7799 - precision_62: 0.7785\n",
            "Epoch 1/30\n",
            "179/179 [==============================] - 21s 102ms/step - loss: 0.6312 - accuracy: 0.6350 - precision_63: 0.7619 - val_loss: 0.4881 - val_accuracy: 0.7904 - val_precision_63: 0.8710\n",
            "Epoch 2/30\n",
            "179/179 [==============================] - 19s 104ms/step - loss: 0.3813 - accuracy: 0.8378 - precision_63: 0.8593 - val_loss: 0.4421 - val_accuracy: 0.7994 - val_precision_63: 0.7802\n",
            "Epoch 3/30\n",
            "179/179 [==============================] - 18s 99ms/step - loss: 0.2562 - accuracy: 0.8996 - precision_63: 0.9147 - val_loss: 0.4733 - val_accuracy: 0.7941 - val_precision_63: 0.7856\n",
            "Epoch 4/30\n",
            "179/179 [==============================] - 18s 103ms/step - loss: 0.1886 - accuracy: 0.9284 - precision_63: 0.9376 - val_loss: 0.5086 - val_accuracy: 0.7952 - val_precision_63: 0.7824\n",
            "Epoch 5/30\n",
            "179/179 [==============================] - 18s 98ms/step - loss: 0.1408 - accuracy: 0.9448 - precision_63: 0.9531 - val_loss: 0.5416 - val_accuracy: 0.7778 - val_precision_63: 0.7407\n",
            "Epoch 6/30\n",
            "179/179 [==============================] - 18s 102ms/step - loss: 0.1112 - accuracy: 0.9611 - precision_63: 0.9662 - val_loss: 0.6653 - val_accuracy: 0.7710 - val_precision_63: 0.7313\n",
            "Epoch 7/30\n",
            "179/179 [==============================] - 17s 98ms/step - loss: 0.0916 - accuracy: 0.9657 - precision_63: 0.9681 - val_loss: 0.6670 - val_accuracy: 0.7805 - val_precision_63: 0.7778\n",
            "Epoch 8/30\n",
            "179/179 [==============================] - 19s 106ms/step - loss: 0.0819 - accuracy: 0.9709 - precision_63: 0.9732 - val_loss: 0.7009 - val_accuracy: 0.7563 - val_precision_63: 0.7008\n",
            "Epoch 9/30\n",
            "179/179 [==============================] - 17s 98ms/step - loss: 0.0737 - accuracy: 0.9741 - precision_63: 0.9761 - val_loss: 0.8160 - val_accuracy: 0.7647 - val_precision_63: 0.7186\n",
            "Epoch 10/30\n",
            "179/179 [==============================] - 19s 109ms/step - loss: 0.0666 - accuracy: 0.9778 - precision_63: 0.9786 - val_loss: 0.8047 - val_accuracy: 0.7626 - val_precision_63: 0.7183\n",
            "Epoch 11/30\n",
            "179/179 [==============================] - 17s 98ms/step - loss: 0.0620 - accuracy: 0.9790 - precision_63: 0.9815 - val_loss: 0.8566 - val_accuracy: 0.7553 - val_precision_63: 0.7044\n",
            "Epoch 12/30\n",
            "179/179 [==============================] - 18s 102ms/step - loss: 0.0562 - accuracy: 0.9788 - precision_63: 0.9787 - val_loss: 0.9322 - val_accuracy: 0.7463 - val_precision_63: 0.6854\n"
          ]
        }
      ],
      "source": [
        "rnd_search_cv = RandomizedSearchCV(keras_class, param_distribs, n_iter=10, cv=3)\n",
        "cv_hist = rnd_search_cv.fit(X_train_padded, y_train, epochs=30,\n",
        "              validation_data=(X_test_padded, y_test),\n",
        "              callbacks=[early_stopping_cb])"
      ]
    },
    {
      "cell_type": "code",
      "source": [
        "#rnd_search_cv.best_params_\n",
        "# best parameters were emb_dim=128, n_nuerons=65, learning_rate=0.0003xxx"
      ],
      "metadata": {
        "id": "tlkZzDkTM6uA"
      },
      "execution_count": null,
      "outputs": []
    },
    {
      "cell_type": "markdown",
      "source": [
        "###**Model 6: Adding Dense layer and Dropout**"
      ],
      "metadata": {
        "id": "f8OLT_h-NT2_"
      }
    },
    {
      "cell_type": "code",
      "execution_count": null,
      "metadata": {
        "id": "dkiuxnjEfDo-"
      },
      "outputs": [],
      "source": [
        "model6 = keras.models.Sequential([\n",
        "    keras.layers.Embedding(input_dim=vocab_size, output_dim=128, input_length=75),\n",
        "    keras.layers.LSTM(64, dropout=0.2),\n",
        "    keras.layers.Dense(16, activation=\"relu\"),\n",
        "    keras.layers.Dropout(0.2),\n",
        "    keras.layers.Dense(1, activation=\"sigmoid\")\n",
        "])"
      ]
    },
    {
      "cell_type": "code",
      "execution_count": null,
      "metadata": {
        "id": "l-Fhr77ji5Bn"
      },
      "outputs": [],
      "source": [
        "optimizer = keras.optimizers.Adam(0.0003)\n",
        "model6.compile(loss=\"binary_crossentropy\", optimizer=optimizer, metrics=[\"accuracy\", tf.keras.metrics.Precision()])"
      ]
    },
    {
      "cell_type": "code",
      "execution_count": null,
      "metadata": {
        "colab": {
          "base_uri": "https://localhost:8080/"
        },
        "id": "DMV3wRxBikII",
        "outputId": "08bb32f1-23ed-4286-bda9-e3941460a359"
      },
      "outputs": [
        {
          "output_type": "stream",
          "name": "stdout",
          "text": [
            "Epoch 1/30\n",
            "179/179 [==============================] - 23s 100ms/step - loss: 0.6626 - accuracy: 0.5817 - precision_1: 0.8571 - val_loss: 0.6175 - val_accuracy: 0.6623 - val_precision_1: 0.9775\n",
            "Epoch 2/30\n",
            "179/179 [==============================] - 16s 92ms/step - loss: 0.4866 - accuracy: 0.7954 - precision_1: 0.8468 - val_loss: 0.4548 - val_accuracy: 0.7952 - val_precision_1: 0.7765\n",
            "Epoch 3/30\n",
            "179/179 [==============================] - 18s 99ms/step - loss: 0.3028 - accuracy: 0.8846 - precision_1: 0.8926 - val_loss: 0.4607 - val_accuracy: 0.7988 - val_precision_1: 0.8011\n",
            "Epoch 4/30\n",
            "179/179 [==============================] - 18s 99ms/step - loss: 0.2209 - accuracy: 0.9205 - precision_1: 0.9249 - val_loss: 0.5307 - val_accuracy: 0.7889 - val_precision_1: 0.7473\n",
            "Epoch 5/30\n",
            "179/179 [==============================] - 17s 93ms/step - loss: 0.1639 - accuracy: 0.9427 - precision_1: 0.9453 - val_loss: 0.5699 - val_accuracy: 0.7763 - val_precision_1: 0.7583\n",
            "Epoch 6/30\n",
            "179/179 [==============================] - 17s 93ms/step - loss: 0.1324 - accuracy: 0.9546 - precision_1: 0.9560 - val_loss: 0.6677 - val_accuracy: 0.7637 - val_precision_1: 0.7123\n",
            "Epoch 7/30\n",
            "179/179 [==============================] - 17s 93ms/step - loss: 0.1076 - accuracy: 0.9625 - precision_1: 0.9595 - val_loss: 0.6800 - val_accuracy: 0.7826 - val_precision_1: 0.7862\n",
            "Epoch 8/30\n",
            "179/179 [==============================] - 17s 95ms/step - loss: 0.0973 - accuracy: 0.9662 - precision_1: 0.9662 - val_loss: 0.7491 - val_accuracy: 0.7442 - val_precision_1: 0.6779\n",
            "Epoch 9/30\n",
            "179/179 [==============================] - 17s 93ms/step - loss: 0.0868 - accuracy: 0.9736 - precision_1: 0.9726 - val_loss: 0.7506 - val_accuracy: 0.7647 - val_precision_1: 0.7212\n",
            "Epoch 10/30\n",
            "179/179 [==============================] - 17s 94ms/step - loss: 0.0773 - accuracy: 0.9753 - precision_1: 0.9746 - val_loss: 0.8155 - val_accuracy: 0.7642 - val_precision_1: 0.7252\n",
            "Epoch 11/30\n",
            "179/179 [==============================] - 18s 102ms/step - loss: 0.0721 - accuracy: 0.9772 - precision_1: 0.9770 - val_loss: 0.9024 - val_accuracy: 0.7495 - val_precision_1: 0.6905\n",
            "Epoch 12/30\n",
            "179/179 [==============================] - 16s 92ms/step - loss: 0.0654 - accuracy: 0.9765 - precision_1: 0.9758 - val_loss: 0.9386 - val_accuracy: 0.7500 - val_precision_1: 0.6913\n"
          ]
        }
      ],
      "source": [
        "history6 = model6.fit(X_train_padded, y_train, epochs=30,\n",
        "              validation_data=(X_test_padded, y_test),\n",
        "              callbacks=[early_stopping_cb])"
      ]
    },
    {
      "cell_type": "code",
      "execution_count": null,
      "metadata": {
        "colab": {
          "base_uri": "https://localhost:8080/"
        },
        "id": "MP2lHw4wl_s-",
        "outputId": "b9917f84-f018-4483-ebbe-08144c8f3e61"
      },
      "outputs": [
        {
          "output_type": "stream",
          "name": "stdout",
          "text": [
            "60/60 [==============================] - 1s 17ms/step - loss: 0.4548 - accuracy: 0.7952 - precision_1: 0.7765\n"
          ]
        },
        {
          "output_type": "execute_result",
          "data": {
            "text/plain": [
              "[0.4548249840736389, 0.7951680421829224, 0.7764706015586853]"
            ]
          },
          "metadata": {},
          "execution_count": 28
        }
      ],
      "source": [
        "# model evaluation\n",
        "model6.evaluate(X_test_padded, y_test)"
      ]
    },
    {
      "cell_type": "markdown",
      "source": [
        "####Model 6 Conclusion\n",
        "- The hyperparameters from randomized search cross validation were almost identical to parameters I had used prior, so this did not effect the model much.\n",
        "\n",
        "- The addition of another dense layer and dropout did not solve the overfitting problem"
      ],
      "metadata": {
        "id": "gBxQijWdO09K"
      }
    },
    {
      "cell_type": "markdown",
      "source": [
        "###**Models 7-9: GRU, BidirectionGRU, and BidirectionalLSTM**"
      ],
      "metadata": {
        "id": "dA6snqwMQjDM"
      }
    },
    {
      "cell_type": "markdown",
      "source": [
        "For model 7 I decided to use a GRU cell, which is a simplified version of the LSTM cell with both state vectors merged, a single gate for both the forget and input gate, and no output gate."
      ],
      "metadata": {
        "id": "eAOicW5-4mEN"
      }
    },
    {
      "cell_type": "code",
      "source": [
        "model7 = keras.models.Sequential([\n",
        "    keras.layers.Embedding(input_dim=vocab_size, output_dim=128, input_length=75),\n",
        "    keras.layers.GRU(64),\n",
        "    keras.layers.Dense(16, activation=\"relu\"),\n",
        "    keras.layers.Dense(1, activation=\"sigmoid\")\n",
        "])"
      ],
      "metadata": {
        "id": "w0krk5lLQsn5"
      },
      "execution_count": null,
      "outputs": []
    },
    {
      "cell_type": "code",
      "source": [
        "model7.summary()"
      ],
      "metadata": {
        "colab": {
          "base_uri": "https://localhost:8080/"
        },
        "id": "F9Nf97nFRJva",
        "outputId": "a00e9c2e-72d5-4f50-e0da-313278d1275c"
      },
      "execution_count": null,
      "outputs": [
        {
          "output_type": "stream",
          "name": "stdout",
          "text": [
            "Model: \"sequential_2\"\n",
            "_________________________________________________________________\n",
            " Layer (type)                Output Shape              Param #   \n",
            "=================================================================\n",
            " embedding_2 (Embedding)     (None, 75, 128)           1280000   \n",
            "                                                                 \n",
            " gru (GRU)                   (None, 64)                37248     \n",
            "                                                                 \n",
            " dense_4 (Dense)             (None, 16)                1040      \n",
            "                                                                 \n",
            " dense_5 (Dense)             (None, 1)                 17        \n",
            "                                                                 \n",
            "=================================================================\n",
            "Total params: 1,318,305\n",
            "Trainable params: 1,318,305\n",
            "Non-trainable params: 0\n",
            "_________________________________________________________________\n"
          ]
        }
      ]
    },
    {
      "cell_type": "code",
      "source": [
        "optimizer = keras.optimizers.Adam(0.0003)\n",
        "model7.compile(loss=\"binary_crossentropy\", optimizer=optimizer, metrics=[\"accuracy\", tf.keras.metrics.Precision()])\n",
        "\n",
        "history7 = model7.fit(X_train_padded, y_train, epochs=30,\n",
        "              validation_data=(X_test_padded, y_test),\n",
        "              callbacks=[early_stopping_cb])"
      ],
      "metadata": {
        "colab": {
          "base_uri": "https://localhost:8080/"
        },
        "id": "i3KIfTmSRAVs",
        "outputId": "c1615e9d-d3ed-4315-94aa-2057c4a9f6ad"
      },
      "execution_count": null,
      "outputs": [
        {
          "output_type": "stream",
          "name": "stdout",
          "text": [
            "Epoch 1/30\n",
            "179/179 [==============================] - 20s 93ms/step - loss: 0.6454 - accuracy: 0.6274 - precision_4: 0.8177 - val_loss: 0.5563 - val_accuracy: 0.7710 - val_precision_4: 0.8577\n",
            "Epoch 2/30\n",
            "179/179 [==============================] - 16s 87ms/step - loss: 0.3946 - accuracy: 0.8397 - precision_4: 0.8483 - val_loss: 0.4777 - val_accuracy: 0.7789 - val_precision_4: 0.7258\n",
            "Epoch 3/30\n",
            "179/179 [==============================] - 17s 94ms/step - loss: 0.2406 - accuracy: 0.9073 - precision_4: 0.9092 - val_loss: 0.5305 - val_accuracy: 0.7904 - val_precision_4: 0.7875\n",
            "Epoch 4/30\n",
            "179/179 [==============================] - 16s 88ms/step - loss: 0.1656 - accuracy: 0.9380 - precision_4: 0.9365 - val_loss: 0.6168 - val_accuracy: 0.7610 - val_precision_4: 0.7077\n",
            "Epoch 5/30\n",
            "179/179 [==============================] - 16s 91ms/step - loss: 0.1169 - accuracy: 0.9585 - precision_4: 0.9579 - val_loss: 0.7136 - val_accuracy: 0.7616 - val_precision_4: 0.7114\n",
            "Epoch 6/30\n",
            "179/179 [==============================] - 16s 87ms/step - loss: 0.0926 - accuracy: 0.9704 - precision_4: 0.9704 - val_loss: 0.7960 - val_accuracy: 0.7474 - val_precision_4: 0.6861\n",
            "Epoch 7/30\n",
            "179/179 [==============================] - 16s 87ms/step - loss: 0.0765 - accuracy: 0.9744 - precision_4: 0.9734 - val_loss: 0.8055 - val_accuracy: 0.7684 - val_precision_4: 0.7642\n",
            "Epoch 8/30\n",
            "179/179 [==============================] - 18s 102ms/step - loss: 0.0673 - accuracy: 0.9778 - precision_4: 0.9783 - val_loss: 0.8663 - val_accuracy: 0.7384 - val_precision_4: 0.6800\n",
            "Epoch 9/30\n",
            "179/179 [==============================] - 17s 93ms/step - loss: 0.0608 - accuracy: 0.9788 - precision_4: 0.9791 - val_loss: 0.9244 - val_accuracy: 0.7474 - val_precision_4: 0.6976\n",
            "Epoch 10/30\n",
            "179/179 [==============================] - 16s 88ms/step - loss: 0.0544 - accuracy: 0.9800 - precision_4: 0.9776 - val_loss: 0.8924 - val_accuracy: 0.7495 - val_precision_4: 0.7044\n",
            "Epoch 11/30\n",
            "179/179 [==============================] - 16s 88ms/step - loss: 0.0519 - accuracy: 0.9814 - precision_4: 0.9832 - val_loss: 0.9459 - val_accuracy: 0.7479 - val_precision_4: 0.7013\n",
            "Epoch 12/30\n",
            "179/179 [==============================] - 16s 88ms/step - loss: 0.0443 - accuracy: 0.9809 - precision_4: 0.9804 - val_loss: 1.1098 - val_accuracy: 0.7311 - val_precision_4: 0.6617\n"
          ]
        }
      ]
    },
    {
      "cell_type": "code",
      "source": [
        "# model evaluation\n",
        "model7.evaluate(X_test_padded, y_test)"
      ],
      "metadata": {
        "colab": {
          "base_uri": "https://localhost:8080/"
        },
        "id": "e-JWaWhrSQgq",
        "outputId": "96174108-c818-4587-adbd-7c7f454e78d9"
      },
      "execution_count": null,
      "outputs": [
        {
          "output_type": "stream",
          "name": "stdout",
          "text": [
            "60/60 [==============================] - 1s 15ms/step - loss: 0.4777 - accuracy: 0.7789 - precision_4: 0.7258\n"
          ]
        },
        {
          "output_type": "execute_result",
          "data": {
            "text/plain": [
              "[0.4776949882507324, 0.7788865566253662, 0.725806474685669]"
            ]
          },
          "metadata": {},
          "execution_count": 34
        }
      ]
    },
    {
      "cell_type": "markdown",
      "source": [
        "**BidirectionalLSTM and BidirectionalGRU**"
      ],
      "metadata": {
        "id": "pnH-dbsz5RnC"
      }
    },
    {
      "cell_type": "markdown",
      "source": [
        "A Bidirectional layer may be helpful for this NLP task. A bidirectional layer runs two recurrent layers on the same inputs, one reading beginning to end, and the other from end to beginning."
      ],
      "metadata": {
        "id": "FMwy9vFrShUr"
      }
    },
    {
      "cell_type": "code",
      "source": [
        "model8 = keras.models.Sequential([\n",
        "    keras.layers.Embedding(input_dim=vocab_size, output_dim=128, input_length=75),\n",
        "    keras.layers.Bidirectional(keras.layers.GRU(64)),\n",
        "    keras.layers.Dense(16, activation=\"relu\"),\n",
        "    keras.layers.Dense(1, activation=\"sigmoid\")\n",
        "])"
      ],
      "metadata": {
        "id": "Ao3ZyQuNS-nn"
      },
      "execution_count": null,
      "outputs": []
    },
    {
      "cell_type": "code",
      "source": [
        "model8.summary()"
      ],
      "metadata": {
        "colab": {
          "base_uri": "https://localhost:8080/"
        },
        "id": "V7ih8O5HTNxB",
        "outputId": "3c5e2418-96a1-4151-884e-6f9f7642e245"
      },
      "execution_count": null,
      "outputs": [
        {
          "output_type": "stream",
          "name": "stdout",
          "text": [
            "Model: \"sequential_3\"\n",
            "_________________________________________________________________\n",
            " Layer (type)                Output Shape              Param #   \n",
            "=================================================================\n",
            " embedding_3 (Embedding)     (None, 75, 128)           1280000   \n",
            "                                                                 \n",
            " bidirectional (Bidirectiona  (None, 128)              74496     \n",
            " l)                                                              \n",
            "                                                                 \n",
            " dense_6 (Dense)             (None, 16)                2064      \n",
            "                                                                 \n",
            " dense_7 (Dense)             (None, 1)                 17        \n",
            "                                                                 \n",
            "=================================================================\n",
            "Total params: 1,356,577\n",
            "Trainable params: 1,356,577\n",
            "Non-trainable params: 0\n",
            "_________________________________________________________________\n"
          ]
        }
      ]
    },
    {
      "cell_type": "code",
      "source": [
        "optimizer = keras.optimizers.Adam(0.0003)\n",
        "model8.compile(loss=\"binary_crossentropy\", optimizer=optimizer, metrics=[\"accuracy\", tf.keras.metrics.Precision()])\n",
        "\n",
        "history8 = model8.fit(X_train_padded, y_train, epochs=30,\n",
        "              validation_data=(X_test_padded, y_test),\n",
        "              callbacks=[early_stopping_cb])"
      ],
      "metadata": {
        "colab": {
          "base_uri": "https://localhost:8080/"
        },
        "id": "rg4SckgUTR91",
        "outputId": "edb5818d-f82f-4939-adbf-5f928bc8080f"
      },
      "execution_count": null,
      "outputs": [
        {
          "output_type": "stream",
          "name": "stdout",
          "text": [
            "Epoch 1/30\n",
            "179/179 [==============================] - 31s 143ms/step - loss: 0.6423 - accuracy: 0.6239 - precision_5: 0.7940 - val_loss: 0.5108 - val_accuracy: 0.7862 - val_precision_5: 0.8152\n",
            "Epoch 2/30\n",
            "179/179 [==============================] - 24s 136ms/step - loss: 0.3742 - accuracy: 0.8466 - precision_5: 0.8547 - val_loss: 0.4878 - val_accuracy: 0.7736 - val_precision_5: 0.7180\n",
            "Epoch 3/30\n",
            "179/179 [==============================] - 24s 132ms/step - loss: 0.2390 - accuracy: 0.9047 - precision_5: 0.9121 - val_loss: 0.5364 - val_accuracy: 0.7794 - val_precision_5: 0.7555\n",
            "Epoch 4/30\n",
            "179/179 [==============================] - 24s 135ms/step - loss: 0.1662 - accuracy: 0.9350 - precision_5: 0.9364 - val_loss: 0.6318 - val_accuracy: 0.7558 - val_precision_5: 0.6916\n",
            "Epoch 5/30\n",
            "179/179 [==============================] - 25s 138ms/step - loss: 0.1179 - accuracy: 0.9545 - precision_5: 0.9538 - val_loss: 0.7321 - val_accuracy: 0.7568 - val_precision_5: 0.7016\n",
            "Epoch 6/30\n",
            "179/179 [==============================] - 25s 140ms/step - loss: 0.0942 - accuracy: 0.9662 - precision_5: 0.9674 - val_loss: 0.7913 - val_accuracy: 0.7458 - val_precision_5: 0.6863\n",
            "Epoch 7/30\n",
            "179/179 [==============================] - 25s 138ms/step - loss: 0.0772 - accuracy: 0.9721 - precision_5: 0.9701 - val_loss: 0.8803 - val_accuracy: 0.7647 - val_precision_5: 0.7470\n",
            "Epoch 8/30\n",
            "179/179 [==============================] - 26s 146ms/step - loss: 0.0700 - accuracy: 0.9736 - precision_5: 0.9710 - val_loss: 0.9014 - val_accuracy: 0.7379 - val_precision_5: 0.6760\n",
            "Epoch 9/30\n",
            "179/179 [==============================] - 25s 142ms/step - loss: 0.0633 - accuracy: 0.9772 - precision_5: 0.9763 - val_loss: 0.9339 - val_accuracy: 0.7479 - val_precision_5: 0.6947\n",
            "Epoch 10/30\n",
            "179/179 [==============================] - 25s 139ms/step - loss: 0.0593 - accuracy: 0.9788 - precision_5: 0.9764 - val_loss: 0.9339 - val_accuracy: 0.7426 - val_precision_5: 0.6889\n",
            "Epoch 11/30\n",
            "179/179 [==============================] - 24s 132ms/step - loss: 0.0558 - accuracy: 0.9804 - precision_5: 0.9800 - val_loss: 0.9852 - val_accuracy: 0.7421 - val_precision_5: 0.6881\n",
            "Epoch 12/30\n",
            "179/179 [==============================] - 25s 138ms/step - loss: 0.0527 - accuracy: 0.9793 - precision_5: 0.9776 - val_loss: 1.0294 - val_accuracy: 0.7321 - val_precision_5: 0.6596\n"
          ]
        }
      ]
    },
    {
      "cell_type": "code",
      "source": [
        "# model evaluation\n",
        "model8.evaluate(X_test_padded, y_test)"
      ],
      "metadata": {
        "colab": {
          "base_uri": "https://localhost:8080/"
        },
        "id": "WcOPNDOgUupB",
        "outputId": "66e92cc1-9de4-4161-ea0d-59ea1944d9bd"
      },
      "execution_count": null,
      "outputs": [
        {
          "output_type": "stream",
          "name": "stdout",
          "text": [
            "60/60 [==============================] - 2s 38ms/step - loss: 0.4878 - accuracy: 0.7736 - precision_5: 0.7180\n"
          ]
        },
        {
          "output_type": "execute_result",
          "data": {
            "text/plain": [
              "[0.48778611421585083, 0.7736344337463379, 0.7180365324020386]"
            ]
          },
          "metadata": {},
          "execution_count": 39
        }
      ]
    },
    {
      "cell_type": "code",
      "source": [
        "model9 = keras.models.Sequential([\n",
        "    keras.layers.Embedding(input_dim=vocab_size, output_dim=64, input_length=75),\n",
        "    keras.layers.Bidirectional(keras.layers.LSTM(128)),\n",
        "    keras.layers.Dense(16, activation=\"relu\"),\n",
        "    keras.layers.Dense(1, activation=\"sigmoid\")\n",
        "])"
      ],
      "metadata": {
        "id": "m5MaPWL8U_QZ"
      },
      "execution_count": null,
      "outputs": []
    },
    {
      "cell_type": "code",
      "source": [
        "optimizer = keras.optimizers.Adam(0.0003)\n",
        "model9.compile(loss=\"binary_crossentropy\", optimizer=optimizer, metrics=[\"accuracy\", tf.keras.metrics.Precision()])\n",
        "\n",
        "history9 = model9.fit(X_train_padded, y_train, epochs=30,\n",
        "              validation_data=(X_test_padded, y_test),\n",
        "              callbacks=[early_stopping_cb])"
      ],
      "metadata": {
        "colab": {
          "base_uri": "https://localhost:8080/"
        },
        "id": "PJrAVxoTVSry",
        "outputId": "4512a061-be94-465f-840b-a291be82fa24"
      },
      "execution_count": null,
      "outputs": [
        {
          "output_type": "stream",
          "name": "stdout",
          "text": [
            "Epoch 1/30\n",
            "179/179 [==============================] - 51s 262ms/step - loss: 0.6598 - accuracy: 0.6068 - precision_6: 0.7169 - val_loss: 0.5525 - val_accuracy: 0.7736 - val_precision_6: 0.8271\n",
            "Epoch 2/30\n",
            "179/179 [==============================] - 48s 269ms/step - loss: 0.4028 - accuracy: 0.8287 - precision_6: 0.8531 - val_loss: 0.4511 - val_accuracy: 0.7920 - val_precision_6: 0.7577\n",
            "Epoch 3/30\n",
            "179/179 [==============================] - 49s 275ms/step - loss: 0.2736 - accuracy: 0.8914 - precision_6: 0.9099 - val_loss: 0.4717 - val_accuracy: 0.8004 - val_precision_6: 0.7868\n",
            "Epoch 4/30\n",
            "179/179 [==============================] - 47s 260ms/step - loss: 0.2001 - accuracy: 0.9254 - precision_6: 0.9387 - val_loss: 0.5260 - val_accuracy: 0.7925 - val_precision_6: 0.7779\n",
            "Epoch 5/30\n",
            "179/179 [==============================] - 46s 259ms/step - loss: 0.1511 - accuracy: 0.9418 - precision_6: 0.9504 - val_loss: 0.6173 - val_accuracy: 0.7700 - val_precision_6: 0.7262\n",
            "Epoch 6/30\n",
            "179/179 [==============================] - 45s 252ms/step - loss: 0.1144 - accuracy: 0.9581 - precision_6: 0.9633 - val_loss: 0.6868 - val_accuracy: 0.7705 - val_precision_6: 0.7260\n",
            "Epoch 7/30\n",
            "179/179 [==============================] - 48s 269ms/step - loss: 0.0951 - accuracy: 0.9648 - precision_6: 0.9673 - val_loss: 0.7411 - val_accuracy: 0.7805 - val_precision_6: 0.7817\n",
            "Epoch 8/30\n",
            "179/179 [==============================] - 45s 252ms/step - loss: 0.0834 - accuracy: 0.9709 - precision_6: 0.9732 - val_loss: 0.7986 - val_accuracy: 0.7553 - val_precision_6: 0.7015\n",
            "Epoch 9/30\n",
            "179/179 [==============================] - 47s 260ms/step - loss: 0.0761 - accuracy: 0.9725 - precision_6: 0.9748 - val_loss: 0.8651 - val_accuracy: 0.7637 - val_precision_6: 0.7143\n",
            "Epoch 10/30\n",
            "179/179 [==============================] - 47s 262ms/step - loss: 0.0676 - accuracy: 0.9771 - precision_6: 0.9778 - val_loss: 0.8827 - val_accuracy: 0.7595 - val_precision_6: 0.7178\n",
            "Epoch 11/30\n",
            "179/179 [==============================] - 47s 261ms/step - loss: 0.0634 - accuracy: 0.9765 - precision_6: 0.9802 - val_loss: 0.9216 - val_accuracy: 0.7579 - val_precision_6: 0.7126\n",
            "Epoch 12/30\n",
            "179/179 [==============================] - 47s 262ms/step - loss: 0.0570 - accuracy: 0.9774 - precision_6: 0.9767 - val_loss: 1.0496 - val_accuracy: 0.7511 - val_precision_6: 0.6911\n"
          ]
        }
      ]
    },
    {
      "cell_type": "code",
      "source": [
        "# model evaluation\n",
        "model9.evaluate(X_test_padded, y_test)"
      ],
      "metadata": {
        "colab": {
          "base_uri": "https://localhost:8080/"
        },
        "id": "uwAiPx5eXlv1",
        "outputId": "be61c499-70d7-4513-accf-b0b70df61e39"
      },
      "execution_count": null,
      "outputs": [
        {
          "output_type": "stream",
          "name": "stdout",
          "text": [
            "60/60 [==============================] - 5s 92ms/step - loss: 0.4511 - accuracy: 0.7920 - precision_6: 0.7577\n"
          ]
        },
        {
          "output_type": "execute_result",
          "data": {
            "text/plain": [
              "[0.45106929540634155, 0.7920168042182922, 0.7577255964279175]"
            ]
          },
          "metadata": {},
          "execution_count": 42
        }
      ]
    },
    {
      "cell_type": "markdown",
      "source": [
        "####**Models 7-9 Conclusions**\n",
        "- The GRU models performed slightly worse than the LSTM models by around 1 percent of the test data.\n",
        "- Bidirectional rnn layers did not improve the model. The model is still overfitting."
      ],
      "metadata": {
        "id": "_e_D9T5kX479"
      }
    },
    {
      "cell_type": "markdown",
      "source": [
        "###**Model 10: Reusing Pretrained Embedding from TF Hub**"
      ],
      "metadata": {
        "id": "BMsik3cGYq0X"
      }
    },
    {
      "cell_type": "code",
      "source": [
        "import tensorflow_hub as hub"
      ],
      "metadata": {
        "id": "sZ9zIO9-YSKQ"
      },
      "execution_count": null,
      "outputs": []
    },
    {
      "cell_type": "code",
      "source": [
        "hub_layer = hub.KerasLayer(\"https://tfhub.dev/google/tf2-preview/nnlm-en-dim50/1\", output_shape=[50],\n",
        "                           input_shape=[], dtype=tf.string)\n",
        "\n",
        "model10 = keras.Sequential()\n",
        "model10.add(hub_layer)\n",
        "model10.add(keras.layers.Dense(16, activation='relu'))\n",
        "model10.add(keras.layers.Dense(1, activation='sigmoid'))\n",
        "\n",
        "model10.summary()"
      ],
      "metadata": {
        "colab": {
          "base_uri": "https://localhost:8080/"
        },
        "id": "5lucXwXdZEI9",
        "outputId": "50f9c631-f1ee-40da-bbd3-eabbde673ca5"
      },
      "execution_count": null,
      "outputs": [
        {
          "output_type": "stream",
          "name": "stdout",
          "text": [
            "Model: \"sequential_7\"\n",
            "_________________________________________________________________\n",
            " Layer (type)                Output Shape              Param #   \n",
            "=================================================================\n",
            " keras_layer_3 (KerasLayer)  (None, 50)                48190600  \n",
            "                                                                 \n",
            " dense_14 (Dense)            (None, 16)                816       \n",
            "                                                                 \n",
            " dense_15 (Dense)            (None, 1)                 17        \n",
            "                                                                 \n",
            "=================================================================\n",
            "Total params: 48,191,433\n",
            "Trainable params: 833\n",
            "Non-trainable params: 48,190,600\n",
            "_________________________________________________________________\n"
          ]
        }
      ]
    },
    {
      "cell_type": "code",
      "source": [
        "model10.compile(loss=\"binary_crossentropy\", optimizer=\"adam\", metrics=[\"accuracy\", tf.keras.metrics.Precision()])\n",
        "\n",
        "history10 = model10.fit(X_train, y_train, epochs=100,\n",
        "              validation_data=(X_test, y_test),\n",
        "              callbacks=[early_stopping_cb])"
      ],
      "metadata": {
        "colab": {
          "base_uri": "https://localhost:8080/"
        },
        "id": "DES2NV9eZWl4",
        "outputId": "762ba98a-39a8-40ce-bd69-85bcd853a8c2"
      },
      "execution_count": null,
      "outputs": [
        {
          "output_type": "stream",
          "name": "stdout",
          "text": [
            "Epoch 1/100\n",
            "179/179 [==============================] - 2s 5ms/step - loss: 0.6464 - accuracy: 0.6402 - precision_10: 0.5703 - val_loss: 0.5751 - val_accuracy: 0.7421 - val_precision_10: 0.7170\n",
            "Epoch 2/100\n",
            "179/179 [==============================] - 1s 3ms/step - loss: 0.5348 - accuracy: 0.7528 - precision_10: 0.7338 - val_loss: 0.5117 - val_accuracy: 0.7647 - val_precision_10: 0.7186\n",
            "Epoch 3/100\n",
            "179/179 [==============================] - 1s 5ms/step - loss: 0.5045 - accuracy: 0.7649 - precision_10: 0.7489 - val_loss: 0.4948 - val_accuracy: 0.7731 - val_precision_10: 0.7402\n",
            "Epoch 4/100\n",
            "179/179 [==============================] - 1s 4ms/step - loss: 0.4939 - accuracy: 0.7728 - precision_10: 0.7623 - val_loss: 0.4871 - val_accuracy: 0.7768 - val_precision_10: 0.7487\n",
            "Epoch 5/100\n",
            "179/179 [==============================] - 1s 5ms/step - loss: 0.4887 - accuracy: 0.7726 - precision_10: 0.7653 - val_loss: 0.4842 - val_accuracy: 0.7805 - val_precision_10: 0.7491\n",
            "Epoch 6/100\n",
            "179/179 [==============================] - 1s 5ms/step - loss: 0.4848 - accuracy: 0.7753 - precision_10: 0.7638 - val_loss: 0.4808 - val_accuracy: 0.7826 - val_precision_10: 0.7601\n",
            "Epoch 7/100\n",
            "179/179 [==============================] - 1s 4ms/step - loss: 0.4817 - accuracy: 0.7791 - precision_10: 0.7717 - val_loss: 0.4789 - val_accuracy: 0.7805 - val_precision_10: 0.7717\n",
            "Epoch 8/100\n",
            "179/179 [==============================] - 1s 3ms/step - loss: 0.4797 - accuracy: 0.7786 - precision_10: 0.7754 - val_loss: 0.4801 - val_accuracy: 0.7794 - val_precision_10: 0.7484\n",
            "Epoch 9/100\n",
            "179/179 [==============================] - 1s 4ms/step - loss: 0.4775 - accuracy: 0.7814 - precision_10: 0.7775 - val_loss: 0.4776 - val_accuracy: 0.7836 - val_precision_10: 0.7580\n",
            "Epoch 10/100\n",
            "179/179 [==============================] - 1s 3ms/step - loss: 0.4756 - accuracy: 0.7796 - precision_10: 0.7730 - val_loss: 0.4754 - val_accuracy: 0.7810 - val_precision_10: 0.7683\n",
            "Epoch 11/100\n",
            "179/179 [==============================] - 1s 3ms/step - loss: 0.4740 - accuracy: 0.7812 - precision_10: 0.7810 - val_loss: 0.4755 - val_accuracy: 0.7826 - val_precision_10: 0.7622\n",
            "Epoch 12/100\n",
            "179/179 [==============================] - 1s 3ms/step - loss: 0.4720 - accuracy: 0.7817 - precision_10: 0.7811 - val_loss: 0.4756 - val_accuracy: 0.7836 - val_precision_10: 0.7635\n",
            "Epoch 13/100\n",
            "179/179 [==============================] - 1s 4ms/step - loss: 0.4703 - accuracy: 0.7840 - precision_10: 0.7798 - val_loss: 0.4743 - val_accuracy: 0.7841 - val_precision_10: 0.7799\n",
            "Epoch 14/100\n",
            "179/179 [==============================] - 1s 3ms/step - loss: 0.4689 - accuracy: 0.7837 - precision_10: 0.7851 - val_loss: 0.4752 - val_accuracy: 0.7784 - val_precision_10: 0.7610\n",
            "Epoch 15/100\n",
            "179/179 [==============================] - 1s 3ms/step - loss: 0.4670 - accuracy: 0.7840 - precision_10: 0.7853 - val_loss: 0.4765 - val_accuracy: 0.7778 - val_precision_10: 0.7513\n",
            "Epoch 16/100\n",
            "179/179 [==============================] - 1s 3ms/step - loss: 0.4657 - accuracy: 0.7877 - precision_10: 0.7871 - val_loss: 0.4738 - val_accuracy: 0.7815 - val_precision_10: 0.7672\n",
            "Epoch 17/100\n",
            "179/179 [==============================] - 1s 4ms/step - loss: 0.4643 - accuracy: 0.7863 - precision_10: 0.7863 - val_loss: 0.4735 - val_accuracy: 0.7820 - val_precision_10: 0.7689\n",
            "Epoch 18/100\n",
            "179/179 [==============================] - 1s 3ms/step - loss: 0.4624 - accuracy: 0.7879 - precision_10: 0.7912 - val_loss: 0.4735 - val_accuracy: 0.7810 - val_precision_10: 0.7633\n",
            "Epoch 19/100\n",
            "179/179 [==============================] - 1s 3ms/step - loss: 0.4613 - accuracy: 0.7865 - precision_10: 0.7872 - val_loss: 0.4737 - val_accuracy: 0.7799 - val_precision_10: 0.7655\n",
            "Epoch 20/100\n",
            "179/179 [==============================] - 1s 3ms/step - loss: 0.4594 - accuracy: 0.7898 - precision_10: 0.7923 - val_loss: 0.4750 - val_accuracy: 0.7826 - val_precision_10: 0.7622\n",
            "Epoch 21/100\n",
            "179/179 [==============================] - 1s 3ms/step - loss: 0.4582 - accuracy: 0.7888 - precision_10: 0.7893 - val_loss: 0.4744 - val_accuracy: 0.7815 - val_precision_10: 0.7622\n",
            "Epoch 22/100\n",
            "179/179 [==============================] - 1s 3ms/step - loss: 0.4569 - accuracy: 0.7910 - precision_10: 0.7919 - val_loss: 0.4743 - val_accuracy: 0.7799 - val_precision_10: 0.7613\n",
            "Epoch 23/100\n",
            "179/179 [==============================] - 1s 3ms/step - loss: 0.4556 - accuracy: 0.7888 - precision_10: 0.7931 - val_loss: 0.4743 - val_accuracy: 0.7815 - val_precision_10: 0.7608\n",
            "Epoch 24/100\n",
            "179/179 [==============================] - 1s 4ms/step - loss: 0.4541 - accuracy: 0.7907 - precision_10: 0.7914 - val_loss: 0.4746 - val_accuracy: 0.7784 - val_precision_10: 0.7542\n",
            "Epoch 25/100\n",
            "179/179 [==============================] - 2s 13ms/step - loss: 0.4525 - accuracy: 0.7931 - precision_10: 0.7955 - val_loss: 0.4762 - val_accuracy: 0.7794 - val_precision_10: 0.7549\n",
            "Epoch 26/100\n",
            "179/179 [==============================] - 1s 7ms/step - loss: 0.4515 - accuracy: 0.7930 - precision_10: 0.7948 - val_loss: 0.4746 - val_accuracy: 0.7841 - val_precision_10: 0.7687\n",
            "Epoch 27/100\n",
            "179/179 [==============================] - 1s 7ms/step - loss: 0.4503 - accuracy: 0.7933 - precision_10: 0.7992 - val_loss: 0.4751 - val_accuracy: 0.7794 - val_precision_10: 0.7596\n",
            "Epoch 28/100\n",
            "179/179 [==============================] - 2s 10ms/step - loss: 0.4485 - accuracy: 0.7958 - precision_10: 0.7999 - val_loss: 0.4739 - val_accuracy: 0.7868 - val_precision_10: 0.7937\n"
          ]
        }
      ]
    },
    {
      "cell_type": "code",
      "source": [
        "# model evaluation\n",
        "model10.evaluate(X_test, y_test)"
      ],
      "metadata": {
        "colab": {
          "base_uri": "https://localhost:8080/"
        },
        "id": "E3D3C1qSbToV",
        "outputId": "677b917e-849a-4dfa-a6a2-546996253fa1"
      },
      "execution_count": null,
      "outputs": [
        {
          "output_type": "stream",
          "name": "stdout",
          "text": [
            "60/60 [==============================] - 0s 2ms/step - loss: 0.4735 - accuracy: 0.7810 - precision_10: 0.7633\n"
          ]
        },
        {
          "output_type": "execute_result",
          "data": {
            "text/plain": [
              "[0.47346213459968567, 0.7809873819351196, 0.7632978558540344]"
            ]
          },
          "metadata": {},
          "execution_count": 53
        }
      ]
    },
    {
      "cell_type": "code",
      "source": [
        "# display learning curves\n",
        "pd.DataFrame(history10.history).plot(figsize=(8, 5))\n",
        "plt.grid(True)\n",
        "plt.gca().set_ylim(0, 1) # set the vertical range to [0-1]\n",
        "plt.show()"
      ],
      "metadata": {
        "colab": {
          "base_uri": "https://localhost:8080/",
          "height": 456
        },
        "id": "zySxcFYJbhYa",
        "outputId": "7174264d-7fc0-497c-d9d0-af4c01f61761"
      },
      "execution_count": null,
      "outputs": [
        {
          "output_type": "display_data",
          "data": {
            "text/plain": [
              "<Figure size 800x500 with 1 Axes>"
            ],
            "image/png": "[encoded data removed]"
          },
          "metadata": {}
        }
      ]
    },
    {
      "cell_type": "code",
      "source": [
        "showConfusionMatrix(model10, X_test, y_test)"
      ],
      "metadata": {
        "colab": {
          "base_uri": "https://localhost:8080/",
          "height": 632
        },
        "id": "QNTR_vgrb5oa",
        "outputId": "d671ccfc-ac58-47e4-b29a-57360f98a339"
      },
      "execution_count": null,
      "outputs": [
        {
          "output_type": "stream",
          "name": "stdout",
          "text": [
            "60/60 [==============================] - 1s 4ms/step\n",
            "Binary Classifcation Metrics\n",
            "----------------------------\n",
            "Accuracy: 78.10%\n",
            "Precision: 76.33%\n",
            "Misclassification Rate: 21.90%\n",
            "True Positive Rate(Disaster Tweet Label Accuracy): 70.60%\n",
            "True Negative Rate(Non-Disaster Tweet Label Accuracy): 83.68%\n",
            "False Positive Rate: 16.32%\n",
            "False Negative Rate: 29.40%\n"
          ]
        },
        {
          "output_type": "display_data",
          "data": {
            "text/plain": [
              "<Figure size 640x480 with 1 Axes>"
            ],
            "image/png": "[encoded data removed]"
          },
          "metadata": {}
        }
      ]
    },
    {
      "cell_type": "markdown",
      "source": [
        "###**Final Results/Conclusions**"
      ],
      "metadata": {
        "id": "pZ-r8SR35u3r"
      }
    },
    {
      "cell_type": "markdown",
      "source": [
        "- The best performing model was model 5 with a training accuracy of 80.93%. In this model I used a single LSTM layer, with 128 neurons, and a learning rate of 0.0001\n",
        "\n",
        "- Validation loss had a tendency to skyrocket after a few epochs in most models. Adjusting learning rates seem to keep it down to 0.4-0.5 through 10 epochs before steadily rising.\n",
        "\n",
        "- Unstable gradients and overfitting were a constant issue. Models could reach above 98% training accuracy but were not effective at handling new instances. I tried deep networks, adding dropout, adding reccurent dropout, stacked dense layers, and many different parameters, but the models stayed in the range of 78-80% test accuracy. Even hyperparameter tuning did not yield better results than my best model.\n",
        "\n",
        "Potential Improvements:\n",
        "- The next thing I want to work on is more preprocessing as that may likely be the culprit. Cleaning out repeating characters, usernames, and strange uncommon words are the tasks I will try next.\n",
        "\n",
        "- Applying more transfer learning and pretrained embeddings layer models, such as BERT and GloVe\n",
        "\n",
        "- Test out more layer normalization techniques.\n"
      ],
      "metadata": {
        "id": "uC1dT9u852tQ"
      }
    }
  ],
  "metadata": {
    "colab": {
      "provenance": [],
      "authorship_tag": "ABX9TyNAFThlG5yi2nk0KsBykBQR"
    },
    "kernelspec": {
      "display_name": "Python 3",
      "name": "python3"
    },
    "language_info": {
      "name": "python"
    }
  },
  "nbformat": 4,
  "nbformat_minor": 0
}